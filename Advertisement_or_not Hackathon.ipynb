{
 "cells": [
  {
   "cell_type": "markdown",
   "metadata": {},
   "source": [
    "# Take Home Assignment"
   ]
  },
  {
   "cell_type": "code",
   "execution_count": 15,
   "metadata": {},
   "outputs": [],
   "source": [
    "import numpy as np\n",
    "import pandas as pd\n",
    "import matplotlib.pyplot as plt\n",
    "import seaborn as sns"
   ]
  },
  {
   "cell_type": "code",
   "execution_count": 2,
   "metadata": {
    "scrolled": true
   },
   "outputs": [
    {
     "data": {
      "text/html": [
       "<div>\n",
       "<style scoped>\n",
       "    .dataframe tbody tr th:only-of-type {\n",
       "        vertical-align: middle;\n",
       "    }\n",
       "\n",
       "    .dataframe tbody tr th {\n",
       "        vertical-align: top;\n",
       "    }\n",
       "\n",
       "    .dataframe thead th {\n",
       "        text-align: right;\n",
       "    }\n",
       "</style>\n",
       "<table border=\"1\" class=\"dataframe\">\n",
       "  <thead>\n",
       "    <tr style=\"text-align: right;\">\n",
       "      <th></th>\n",
       "      <th>COMMENT_ID</th>\n",
       "      <th>AUTHOR</th>\n",
       "      <th>DATE</th>\n",
       "      <th>CONTENT</th>\n",
       "      <th>CLASS</th>\n",
       "    </tr>\n",
       "  </thead>\n",
       "  <tbody>\n",
       "    <tr>\n",
       "      <th>0</th>\n",
       "      <td>LZQPQhLyRh80UYxNuaDWhIGQYNQ96IuCg-AYWqNPjpU</td>\n",
       "      <td>Julius NM</td>\n",
       "      <td>2013-11-07T06:20:48</td>\n",
       "      <td>Huh, anyway check out this you[tube] channel: ...</td>\n",
       "      <td>1</td>\n",
       "    </tr>\n",
       "    <tr>\n",
       "      <th>1</th>\n",
       "      <td>z13jhp0bxqncu512g22wvzkasxmvvzjaz04</td>\n",
       "      <td>ElNino Melendez</td>\n",
       "      <td>2013-11-09T08:28:43</td>\n",
       "      <td>me shaking my sexy ass on my channel enjoy ^_^ ﻿</td>\n",
       "      <td>1</td>\n",
       "    </tr>\n",
       "    <tr>\n",
       "      <th>2</th>\n",
       "      <td>z13fwbwp1oujthgqj04chlngpvzmtt3r3dw</td>\n",
       "      <td>GsMega</td>\n",
       "      <td>2013-11-10T16:05:38</td>\n",
       "      <td>watch?v=vtaRGgvGtWQ   Check this out .﻿</td>\n",
       "      <td>1</td>\n",
       "    </tr>\n",
       "    <tr>\n",
       "      <th>3</th>\n",
       "      <td>z13lfzdo5vmdi1cm123te5uz2mqig1brz04</td>\n",
       "      <td>ferleck ferles</td>\n",
       "      <td>2013-11-27T21:39:24</td>\n",
       "      <td>Subscribe to my channel ﻿</td>\n",
       "      <td>1</td>\n",
       "    </tr>\n",
       "    <tr>\n",
       "      <th>4</th>\n",
       "      <td>z12avveb4xqiirsix04chxviiljryduwxg0</td>\n",
       "      <td>BeBe Burkey</td>\n",
       "      <td>2013-11-28T16:30:13</td>\n",
       "      <td>and u should.d check my channel and tell me wh...</td>\n",
       "      <td>1</td>\n",
       "    </tr>\n",
       "  </tbody>\n",
       "</table>\n",
       "</div>"
      ],
      "text/plain": [
       "                                    COMMENT_ID           AUTHOR  \\\n",
       "0  LZQPQhLyRh80UYxNuaDWhIGQYNQ96IuCg-AYWqNPjpU        Julius NM   \n",
       "1          z13jhp0bxqncu512g22wvzkasxmvvzjaz04  ElNino Melendez   \n",
       "2          z13fwbwp1oujthgqj04chlngpvzmtt3r3dw           GsMega   \n",
       "3          z13lfzdo5vmdi1cm123te5uz2mqig1brz04   ferleck ferles   \n",
       "4          z12avveb4xqiirsix04chxviiljryduwxg0      BeBe Burkey   \n",
       "\n",
       "                  DATE                                            CONTENT  \\\n",
       "0  2013-11-07T06:20:48  Huh, anyway check out this you[tube] channel: ...   \n",
       "1  2013-11-09T08:28:43   me shaking my sexy ass on my channel enjoy ^_^ ﻿   \n",
       "2  2013-11-10T16:05:38            watch?v=vtaRGgvGtWQ   Check this out .﻿   \n",
       "3  2013-11-27T21:39:24                          Subscribe to my channel ﻿   \n",
       "4  2013-11-28T16:30:13  and u should.d check my channel and tell me wh...   \n",
       "\n",
       "   CLASS  \n",
       "0      1  \n",
       "1      1  \n",
       "2      1  \n",
       "3      1  \n",
       "4      1  "
      ]
     },
     "execution_count": 2,
     "metadata": {},
     "output_type": "execute_result"
    }
   ],
   "source": [
    "df_train = pd.read_csv('train.csv')\n",
    "df_train.head()"
   ]
  },
  {
   "cell_type": "code",
   "execution_count": 3,
   "metadata": {},
   "outputs": [
    {
     "name": "stdout",
     "output_type": "stream",
     "text": [
      "<class 'pandas.core.frame.DataFrame'>\n",
      "RangeIndex: 1157 entries, 0 to 1156\n",
      "Data columns (total 5 columns):\n",
      " #   Column      Non-Null Count  Dtype \n",
      "---  ------      --------------  ----- \n",
      " 0   COMMENT_ID  1157 non-null   object\n",
      " 1   AUTHOR      1157 non-null   object\n",
      " 2   DATE        1019 non-null   object\n",
      " 3   CONTENT     1157 non-null   object\n",
      " 4   CLASS       1157 non-null   int64 \n",
      "dtypes: int64(1), object(4)\n",
      "memory usage: 45.3+ KB\n"
     ]
    }
   ],
   "source": [
    "df_train.info()"
   ]
  },
  {
   "cell_type": "code",
   "execution_count": 4,
   "metadata": {},
   "outputs": [
    {
     "data": {
      "text/plain": [
       "(1157, 5)"
      ]
     },
     "execution_count": 4,
     "metadata": {},
     "output_type": "execute_result"
    }
   ],
   "source": [
    "df_train.shape"
   ]
  },
  {
   "cell_type": "code",
   "execution_count": 5,
   "metadata": {},
   "outputs": [
    {
     "data": {
      "text/plain": [
       "1    586\n",
       "0    571\n",
       "Name: CLASS, dtype: int64"
      ]
     },
     "execution_count": 5,
     "metadata": {},
     "output_type": "execute_result"
    }
   ],
   "source": [
    "df_train.CLASS.value_counts()"
   ]
  },
  {
   "cell_type": "code",
   "execution_count": 6,
   "metadata": {},
   "outputs": [
    {
     "data": {
      "text/plain": [
       "1094"
      ]
     },
     "execution_count": 6,
     "metadata": {},
     "output_type": "execute_result"
    }
   ],
   "source": [
    "df_train.AUTHOR.nunique()"
   ]
  },
  {
   "cell_type": "code",
   "execution_count": 7,
   "metadata": {},
   "outputs": [
    {
     "data": {
      "text/html": [
       "<div>\n",
       "<style scoped>\n",
       "    .dataframe tbody tr th:only-of-type {\n",
       "        vertical-align: middle;\n",
       "    }\n",
       "\n",
       "    .dataframe tbody tr th {\n",
       "        vertical-align: top;\n",
       "    }\n",
       "\n",
       "    .dataframe thead th {\n",
       "        text-align: right;\n",
       "    }\n",
       "</style>\n",
       "<table border=\"1\" class=\"dataframe\">\n",
       "  <thead>\n",
       "    <tr style=\"text-align: right;\">\n",
       "      <th></th>\n",
       "      <th>ID</th>\n",
       "      <th>COMMENT_ID</th>\n",
       "      <th>AUTHOR</th>\n",
       "      <th>DATE</th>\n",
       "      <th>CONTENT</th>\n",
       "    </tr>\n",
       "  </thead>\n",
       "  <tbody>\n",
       "    <tr>\n",
       "      <th>0</th>\n",
       "      <td>0</td>\n",
       "      <td>LZQPQhLyRh_C2cTtd9MvFRJedxydaVW-2sNg5Diuo4A</td>\n",
       "      <td>adam riyati</td>\n",
       "      <td>2013-11-07T12:37:15</td>\n",
       "      <td>Hey guys check out my new channel and our firs...</td>\n",
       "    </tr>\n",
       "    <tr>\n",
       "      <th>1</th>\n",
       "      <td>1</td>\n",
       "      <td>LZQPQhLyRh9MSZYnf8djyk0gEF9BHDPYrrK-qCczIY8</td>\n",
       "      <td>Evgeny Murashkin</td>\n",
       "      <td>2013-11-08T17:34:21</td>\n",
       "      <td>just for test I have to say murdev.com</td>\n",
       "    </tr>\n",
       "    <tr>\n",
       "      <th>2</th>\n",
       "      <td>2</td>\n",
       "      <td>LZQPQhLyRh9-wNRtlZDM90f1k0BrdVdJyN_YsaSwfxc</td>\n",
       "      <td>Jason Haddad</td>\n",
       "      <td>2013-11-26T02:55:11</td>\n",
       "      <td>Hey, check out my new website!! This site is a...</td>\n",
       "    </tr>\n",
       "    <tr>\n",
       "      <th>3</th>\n",
       "      <td>3</td>\n",
       "      <td>z122wfnzgt30fhubn04cdn3xfx2mxzngsl40k</td>\n",
       "      <td>Bob Kanowski</td>\n",
       "      <td>2013-11-28T12:33:27</td>\n",
       "      <td>i turned it on mute as soon is i came on i jus...</td>\n",
       "    </tr>\n",
       "    <tr>\n",
       "      <th>4</th>\n",
       "      <td>4</td>\n",
       "      <td>z13ttt1jcraqexk2o234ghbgzxymz1zzi04</td>\n",
       "      <td>Cony</td>\n",
       "      <td>2013-11-28T16:01:47</td>\n",
       "      <td>You should check my channel for Funny VIDEOS!!﻿</td>\n",
       "    </tr>\n",
       "  </tbody>\n",
       "</table>\n",
       "</div>"
      ],
      "text/plain": [
       "   ID                                   COMMENT_ID            AUTHOR  \\\n",
       "0   0  LZQPQhLyRh_C2cTtd9MvFRJedxydaVW-2sNg5Diuo4A       adam riyati   \n",
       "1   1  LZQPQhLyRh9MSZYnf8djyk0gEF9BHDPYrrK-qCczIY8  Evgeny Murashkin   \n",
       "2   2  LZQPQhLyRh9-wNRtlZDM90f1k0BrdVdJyN_YsaSwfxc      Jason Haddad   \n",
       "3   3        z122wfnzgt30fhubn04cdn3xfx2mxzngsl40k      Bob Kanowski   \n",
       "4   4          z13ttt1jcraqexk2o234ghbgzxymz1zzi04              Cony   \n",
       "\n",
       "                  DATE                                            CONTENT  \n",
       "0  2013-11-07T12:37:15  Hey guys check out my new channel and our firs...  \n",
       "1  2013-11-08T17:34:21             just for test I have to say murdev.com  \n",
       "2  2013-11-26T02:55:11  Hey, check out my new website!! This site is a...  \n",
       "3  2013-11-28T12:33:27  i turned it on mute as soon is i came on i jus...  \n",
       "4  2013-11-28T16:01:47    You should check my channel for Funny VIDEOS!!﻿  "
      ]
     },
     "execution_count": 7,
     "metadata": {},
     "output_type": "execute_result"
    }
   ],
   "source": [
    "df_test = pd.read_csv('test.csv')\n",
    "df_test.head()"
   ]
  },
  {
   "cell_type": "code",
   "execution_count": 8,
   "metadata": {},
   "outputs": [
    {
     "name": "stdout",
     "output_type": "stream",
     "text": [
      "<class 'pandas.core.frame.DataFrame'>\n",
      "RangeIndex: 799 entries, 0 to 798\n",
      "Data columns (total 5 columns):\n",
      " #   Column      Non-Null Count  Dtype \n",
      "---  ------      --------------  ----- \n",
      " 0   ID          799 non-null    int64 \n",
      " 1   COMMENT_ID  799 non-null    object\n",
      " 2   AUTHOR      799 non-null    object\n",
      " 3   DATE        692 non-null    object\n",
      " 4   CONTENT     799 non-null    object\n",
      "dtypes: int64(1), object(4)\n",
      "memory usage: 31.3+ KB\n"
     ]
    }
   ],
   "source": [
    "df_test.info()"
   ]
  },
  {
   "cell_type": "code",
   "execution_count": 9,
   "metadata": {},
   "outputs": [
    {
     "data": {
      "text/plain": [
       "(799, 5)"
      ]
     },
     "execution_count": 9,
     "metadata": {},
     "output_type": "execute_result"
    }
   ],
   "source": [
    "df_test.shape"
   ]
  },
  {
   "cell_type": "code",
   "execution_count": 10,
   "metadata": {},
   "outputs": [],
   "source": [
    "### Didn't consider comment_id,AUTHOR and Date from the dataFrame. As they are not the important variable to predict whether a content is based on advertisement or not. "
   ]
  },
  {
   "cell_type": "markdown",
   "metadata": {
    "colab_type": "text",
    "collapsed": true,
    "id": "YIHaWAagwj_H"
   },
   "source": [
    "## Word Cloud"
   ]
  },
  {
   "cell_type": "code",
   "execution_count": 123,
   "metadata": {
    "colab": {},
    "colab_type": "code",
    "id": "SAK6X0-jwj_H"
   },
   "outputs": [],
   "source": [
    "import matplotlib.pyplot as plt\n",
    "import seaborn as sns\n",
    "from wordcloud import WordCloud "
   ]
  },
  {
   "cell_type": "code",
   "execution_count": 124,
   "metadata": {},
   "outputs": [],
   "source": [
    "data = df_train.copy()"
   ]
  },
  {
   "cell_type": "code",
   "execution_count": 125,
   "metadata": {
    "colab": {},
    "colab_type": "code",
    "id": "JjXZV57kwj_J"
   },
   "outputs": [
    {
     "data": {
      "text/html": [
       "<div>\n",
       "<style scoped>\n",
       "    .dataframe tbody tr th:only-of-type {\n",
       "        vertical-align: middle;\n",
       "    }\n",
       "\n",
       "    .dataframe tbody tr th {\n",
       "        vertical-align: top;\n",
       "    }\n",
       "\n",
       "    .dataframe thead th {\n",
       "        text-align: right;\n",
       "    }\n",
       "</style>\n",
       "<table border=\"1\" class=\"dataframe\">\n",
       "  <thead>\n",
       "    <tr style=\"text-align: right;\">\n",
       "      <th></th>\n",
       "      <th>COMMENT_ID</th>\n",
       "      <th>AUTHOR</th>\n",
       "      <th>DATE</th>\n",
       "      <th>CONTENT</th>\n",
       "      <th>CLASS</th>\n",
       "    </tr>\n",
       "  </thead>\n",
       "  <tbody>\n",
       "    <tr>\n",
       "      <th>0</th>\n",
       "      <td>LZQPQhLyRh80UYxNuaDWhIGQYNQ96IuCg-AYWqNPjpU</td>\n",
       "      <td>Julius NM</td>\n",
       "      <td>2013-11-07T06:20:48</td>\n",
       "      <td>huh anyway check out this you tube channel kob...</td>\n",
       "      <td>1</td>\n",
       "    </tr>\n",
       "    <tr>\n",
       "      <th>1</th>\n",
       "      <td>z13jhp0bxqncu512g22wvzkasxmvvzjaz04</td>\n",
       "      <td>ElNino Melendez</td>\n",
       "      <td>2013-11-09T08:28:43</td>\n",
       "      <td>me shake my sexy ass on my channel enjoy ^_^ ﻿</td>\n",
       "      <td>1</td>\n",
       "    </tr>\n",
       "    <tr>\n",
       "      <th>2</th>\n",
       "      <td>z13fwbwp1oujthgqj04chlngpvzmtt3r3dw</td>\n",
       "      <td>GsMega</td>\n",
       "      <td>2013-11-10T16:05:38</td>\n",
       "      <td>watch v=vtarggvgtwq check this out .﻿</td>\n",
       "      <td>1</td>\n",
       "    </tr>\n",
       "    <tr>\n",
       "      <th>3</th>\n",
       "      <td>z13lfzdo5vmdi1cm123te5uz2mqig1brz04</td>\n",
       "      <td>ferleck ferles</td>\n",
       "      <td>2013-11-27T21:39:24</td>\n",
       "      <td>subscribe to my channel ﻿</td>\n",
       "      <td>1</td>\n",
       "    </tr>\n",
       "    <tr>\n",
       "      <th>4</th>\n",
       "      <td>z12avveb4xqiirsix04chxviiljryduwxg0</td>\n",
       "      <td>BeBe Burkey</td>\n",
       "      <td>2013-11-28T16:30:13</td>\n",
       "      <td>and u should.d check my channel and tell me wh...</td>\n",
       "      <td>1</td>\n",
       "    </tr>\n",
       "  </tbody>\n",
       "</table>\n",
       "</div>"
      ],
      "text/plain": [
       "                                    COMMENT_ID           AUTHOR  \\\n",
       "0  LZQPQhLyRh80UYxNuaDWhIGQYNQ96IuCg-AYWqNPjpU        Julius NM   \n",
       "1          z13jhp0bxqncu512g22wvzkasxmvvzjaz04  ElNino Melendez   \n",
       "2          z13fwbwp1oujthgqj04chlngpvzmtt3r3dw           GsMega   \n",
       "3          z13lfzdo5vmdi1cm123te5uz2mqig1brz04   ferleck ferles   \n",
       "4          z12avveb4xqiirsix04chxviiljryduwxg0      BeBe Burkey   \n",
       "\n",
       "                  DATE                                            CONTENT  \\\n",
       "0  2013-11-07T06:20:48  huh anyway check out this you tube channel kob...   \n",
       "1  2013-11-09T08:28:43    me shake my sexy ass on my channel enjoy ^_^ ﻿    \n",
       "2  2013-11-10T16:05:38             watch v=vtarggvgtwq check this out .﻿    \n",
       "3  2013-11-27T21:39:24                         subscribe to my channel ﻿    \n",
       "4  2013-11-28T16:30:13  and u should.d check my channel and tell me wh...   \n",
       "\n",
       "   CLASS  \n",
       "0      1  \n",
       "1      1  \n",
       "2      1  \n",
       "3      1  \n",
       "4      1  "
      ]
     },
     "execution_count": 125,
     "metadata": {},
     "output_type": "execute_result"
    }
   ],
   "source": [
    "data.head(5)"
   ]
  },
  {
   "cell_type": "code",
   "execution_count": 126,
   "metadata": {
    "colab": {},
    "colab_type": "code",
    "id": "X5ix7Va-wj_M"
   },
   "outputs": [
    {
     "data": {
      "image/png": "[encoded data removed]",
      "text/plain": [
       "<Figure size 1440x720 with 1 Axes>"
      ]
     },
     "metadata": {},
     "output_type": "display_data"
    }
   ],
   "source": [
    "wc = WordCloud()\n",
    "wc.generate(str(data['CONTENT']))\n",
    "plt.figure(figsize=(20,10), facecolor='k')\n",
    "plt.title(\"Most frequent words in Ads dataset\", fontsize=40,color='white')\n",
    "plt.imshow(wc)\n",
    "plt.show()"
   ]
  },
  {
   "cell_type": "markdown",
   "metadata": {},
   "source": [
    "## Text Prepocessing"
   ]
  },
  {
   "cell_type": "code",
   "execution_count": 11,
   "metadata": {},
   "outputs": [],
   "source": [
    "df_train.CONTENT = df_train.CONTENT.apply(lambda x: x.lower())\n",
    "df_train.CONTENT = df_train.CONTENT.apply(lambda x: x.strip())\n",
    "df_test.CONTENT = df_test.CONTENT.apply(lambda x: x.lower())\n",
    "df_test.CONTENT = df_test.CONTENT.apply(lambda x: x.strip())"
   ]
  },
  {
   "cell_type": "code",
   "execution_count": 12,
   "metadata": {},
   "outputs": [],
   "source": [
    "fun = lambda x: x.lower()"
   ]
  },
  {
   "cell_type": "code",
   "execution_count": 14,
   "metadata": {},
   "outputs": [
    {
     "data": {
      "text/plain": [
       "'hello i am'"
      ]
     },
     "execution_count": 14,
     "metadata": {},
     "output_type": "execute_result"
    }
   ],
   "source": [
    "fun('hello i Am')"
   ]
  },
  {
   "cell_type": "code",
   "execution_count": 19,
   "metadata": {},
   "outputs": [],
   "source": [
    "import nltk\n",
    "from nltk.stem import WordNetLemmatizer\n",
    "wordnet_lemmatizer = WordNetLemmatizer()"
   ]
  },
  {
   "cell_type": "code",
   "execution_count": 12,
   "metadata": {},
   "outputs": [
    {
     "data": {
      "text/plain": [
       "'run'"
      ]
     },
     "execution_count": 12,
     "metadata": {},
     "output_type": "execute_result"
    }
   ],
   "source": [
    "wordnet_lemmatizer.lemmatize('running',pos='v')"
   ]
  },
  {
   "cell_type": "code",
   "execution_count": 13,
   "metadata": {},
   "outputs": [
    {
     "data": {
      "text/plain": [
       "'artist'"
      ]
     },
     "execution_count": 13,
     "metadata": {},
     "output_type": "execute_result"
    }
   ],
   "source": [
    "wordnet_lemmatizer.lemmatize('artists',pos='n')"
   ]
  },
  {
   "cell_type": "code",
   "execution_count": 16,
   "metadata": {},
   "outputs": [],
   "source": [
    "from sklearn.model_selection import train_test_split"
   ]
  },
  {
   "cell_type": "code",
   "execution_count": 17,
   "metadata": {},
   "outputs": [],
   "source": [
    "from nltk.tokenize import sent_tokenize, word_tokenize\n",
    "def stemSentence(sentence):\n",
    "    sentence_words = nltk.word_tokenize(sentence)\n",
    "    punctuations=\"?:!.,;[]\"\n",
    "    for word in sentence_words:\n",
    "        if word in punctuations:\n",
    "            sentence_words.remove(word)\n",
    "    stem_sentence=[]\n",
    "    for word in sentence_words:\n",
    "        stem_sentence.append(wordnet_lemmatizer.lemmatize(word,pos=\"v\"))\n",
    "        stem_sentence.append(\" \")\n",
    "    return \"\".join(stem_sentence)"
   ]
  },
  {
   "cell_type": "code",
   "execution_count": 20,
   "metadata": {},
   "outputs": [
    {
     "data": {
      "text/plain": [
       "['I', 'am', 'saihith', 'reddy']"
      ]
     },
     "execution_count": 20,
     "metadata": {},
     "output_type": "execute_result"
    }
   ],
   "source": [
    "nltk.word_tokenize('I am saihith reddy')"
   ]
  },
  {
   "cell_type": "code",
   "execution_count": 21,
   "metadata": {},
   "outputs": [
    {
     "data": {
      "text/plain": [
       "['I am saihith reddy.', 'Hi, hell']"
      ]
     },
     "execution_count": 21,
     "metadata": {},
     "output_type": "execute_result"
    }
   ],
   "source": [
    "nltk.sent_tokenize('I am saihith reddy. Hi, hell')"
   ]
  },
  {
   "cell_type": "code",
   "execution_count": 22,
   "metadata": {},
   "outputs": [
    {
     "name": "stderr",
     "output_type": "stream",
     "text": [
      "<ipython-input-22-924d7888830d>:3: SettingWithCopyWarning: \n",
      "A value is trying to be set on a copy of a slice from a DataFrame\n",
      "\n",
      "See the caveats in the documentation: https://pandas.pydata.org/pandas-docs/stable/user_guide/indexing.html#returning-a-view-versus-a-copy\n",
      "  df_train.CONTENT[j] = stemSentence(i)\n"
     ]
    }
   ],
   "source": [
    "j = 0\n",
    "for i in df_train.CONTENT:\n",
    "    df_train.CONTENT[j] = stemSentence(i)\n",
    "    j = j +1"
   ]
  },
  {
   "cell_type": "code",
   "execution_count": 23,
   "metadata": {},
   "outputs": [
    {
     "name": "stderr",
     "output_type": "stream",
     "text": [
      "<ipython-input-23-88e7b8df3042>:3: SettingWithCopyWarning: \n",
      "A value is trying to be set on a copy of a slice from a DataFrame\n",
      "\n",
      "See the caveats in the documentation: https://pandas.pydata.org/pandas-docs/stable/user_guide/indexing.html#returning-a-view-versus-a-copy\n",
      "  df_test.CONTENT[j] = stemSentence(i)\n"
     ]
    }
   ],
   "source": [
    "j = 0\n",
    "for i in df_test.CONTENT:\n",
    "    df_test.CONTENT[j] = stemSentence(i)\n",
    "    j = j +1"
   ]
  },
  {
   "cell_type": "code",
   "execution_count": 24,
   "metadata": {},
   "outputs": [
    {
     "data": {
      "text/plain": [
       "'huh anyway check out this you tube channel kobyoshi02 '"
      ]
     },
     "execution_count": 24,
     "metadata": {},
     "output_type": "execute_result"
    }
   ],
   "source": [
    "df_train.CONTENT[0]"
   ]
  },
  {
   "cell_type": "code",
   "execution_count": 25,
   "metadata": {},
   "outputs": [
    {
     "data": {
      "text/plain": [
       "'i turn it on mute as soon be i come on i just want to check the view ... \\ufeff '"
      ]
     },
     "execution_count": 25,
     "metadata": {},
     "output_type": "execute_result"
    }
   ],
   "source": [
    "df_test.CONTENT[3]"
   ]
  },
  {
   "cell_type": "code",
   "execution_count": 22,
   "metadata": {},
   "outputs": [
    {
     "data": {
      "text/plain": [
       "'i turn it on mute as soon be i come on i just want to check the view ... \\ufeff '"
      ]
     },
     "execution_count": 22,
     "metadata": {},
     "output_type": "execute_result"
    }
   ],
   "source": [
    "stemSentence(df_test.CONTENT[3])"
   ]
  },
  {
   "cell_type": "markdown",
   "metadata": {},
   "source": [
    "## Spliting the train data to check the performance with help of CountVectorizer"
   ]
  },
  {
   "cell_type": "code",
   "execution_count": 47,
   "metadata": {},
   "outputs": [],
   "source": [
    "X = df_train['CONTENT']\n",
    "y = df_train['CLASS']"
   ]
  },
  {
   "cell_type": "code",
   "execution_count": 48,
   "metadata": {},
   "outputs": [],
   "source": [
    "X_train, X_test, y_train, y_test = train_test_split(X, y, test_size=0.3, random_state=42)"
   ]
  },
  {
   "cell_type": "code",
   "execution_count": 49,
   "metadata": {},
   "outputs": [],
   "source": [
    "from sklearn.feature_extraction.text import CountVectorizer,TfidfVectorizer"
   ]
  },
  {
   "cell_type": "code",
   "execution_count": 50,
   "metadata": {},
   "outputs": [],
   "source": [
    "toNumeric = CountVectorizer(stop_words='english',token_pattern = '[a-zA-Z0-9]+',ngram_range=(1,2))"
   ]
  },
  {
   "cell_type": "code",
   "execution_count": 51,
   "metadata": {},
   "outputs": [
    {
     "data": {
      "text/plain": [
       "CountVectorizer(ngram_range=(1, 2), stop_words='english',\n",
       "                token_pattern='[a-zA-Z0-9]+')"
      ]
     },
     "execution_count": 51,
     "metadata": {},
     "output_type": "execute_result"
    }
   ],
   "source": [
    "toNumeric.fit(X_train)"
   ]
  },
  {
   "cell_type": "code",
   "execution_count": 52,
   "metadata": {},
   "outputs": [],
   "source": [
    "wordsCV = toNumeric.get_feature_names()"
   ]
  },
  {
   "cell_type": "code",
   "execution_count": 53,
   "metadata": {},
   "outputs": [
    {
     "data": {
      "text/plain": [
       "['0',\n",
       " '0 1',\n",
       " '0 amp',\n",
       " '0 h',\n",
       " '0 margin',\n",
       " '0 padding',\n",
       " '0 src',\n",
       " '000',\n",
       " '000 000',\n",
       " '000 comment',\n",
       " '000 month',\n",
       " '000 subscribers',\n",
       " '000 view',\n",
       " '034',\n",
       " '034 783',\n",
       " '04',\n",
       " '04 katy',\n",
       " '05',\n",
       " '05 hahahahah',\n",
       " '053012',\n",
       " '053012 jpg',\n",
       " '08',\n",
       " '08 little',\n",
       " '0d878a889c',\n",
       " '0f9fa8aa',\n",
       " '0f9fa8aa 243a',\n",
       " '0laviqu2b',\n",
       " '1',\n",
       " '1 000',\n",
       " '1 57',\n",
       " '1 710',\n",
       " '1 884',\n",
       " '1 africa',\n",
       " '1 amp',\n",
       " '1 bil',\n",
       " '1 billion',\n",
       " '1 day',\n",
       " '1 ff3',\n",
       " '1 icep',\n",
       " '1 lt',\n",
       " '1 mabey',\n",
       " '1 million',\n",
       " '1 millioon',\n",
       " '1 penny',\n",
       " '1 song',\n",
       " '1 thank',\n",
       " '1 waka',\n",
       " '1 year',\n",
       " '10',\n",
       " '10 months',\n",
       " '100',\n",
       " '100 100',\n",
       " '100 subs',\n",
       " '100 subscribers',\n",
       " '10000000',\n",
       " '10000000 subscribers',\n",
       " '10001',\n",
       " '10001 amp',\n",
       " '100877300245414',\n",
       " '100877300245414 https',\n",
       " '10200253113705769',\n",
       " '10200253113705769 amp',\n",
       " '1024',\n",
       " '1024 katy',\n",
       " '104999962146104962510',\n",
       " '104999962146104962510 oid',\n",
       " '104999962146104962510 supermariologan',\n",
       " '10626048',\n",
       " '10626048 expendables',\n",
       " '1073741828',\n",
       " '1073741828 1496241863981208',\n",
       " '1073741830',\n",
       " '1073741830 327568907427561',\n",
       " '1073741943',\n",
       " '1073741943 111719098841907',\n",
       " '109',\n",
       " '109 videos',\n",
       " '11',\n",
       " '11 08',\n",
       " '11 video',\n",
       " '11 year',\n",
       " '111719098841907',\n",
       " '111719098841907 937732262907249',\n",
       " '126',\n",
       " '126 521',\n",
       " '128gb',\n",
       " '128gb price',\n",
       " '13',\n",
       " '13 intel',\n",
       " '1337',\n",
       " '134470083389909',\n",
       " '134470083389909 like',\n",
       " '14',\n",
       " '14 year',\n",
       " '1442646731',\n",
       " '1495323920744243',\n",
       " '1495323920744243 ref',\n",
       " '1496241863981208',\n",
       " '1496241863981208 1498561870415874',\n",
       " '1496273723978022',\n",
       " '1496273723978022 1073741828',\n",
       " '1498561870415874',\n",
       " '1498561870415874 type',\n",
       " '15',\n",
       " '15 age',\n",
       " '15 year',\n",
       " '16',\n",
       " '16 bar',\n",
       " '16 n',\n",
       " '161620527267482',\n",
       " '16gb',\n",
       " '16gb new',\n",
       " '17',\n",
       " '17 year',\n",
       " '17 years',\n",
       " '1727483389',\n",
       " '1727483389 amp',\n",
       " '18',\n",
       " '18 55mm',\n",
       " '18 year',\n",
       " '19',\n",
       " '19 year',\n",
       " '19255',\n",
       " '19255 0',\n",
       " '19924',\n",
       " '19924 616375350',\n",
       " '1b',\n",
       " '1b b',\n",
       " '1bi',\n",
       " '1bi view',\n",
       " '1billion',\n",
       " '1billion view',\n",
       " '1m',\n",
       " '1m crdits',\n",
       " '2',\n",
       " '2 05',\n",
       " '2 126',\n",
       " '2 2billion',\n",
       " '2 39',\n",
       " '2 amp',\n",
       " '2 bear',\n",
       " '2 bilion',\n",
       " '2 billion',\n",
       " '2 brothers',\n",
       " '2 channel',\n",
       " '2 holy',\n",
       " '2 million',\n",
       " '2 months',\n",
       " '2 years',\n",
       " '20',\n",
       " '20 minutes',\n",
       " '20 paypal',\n",
       " '20 subs',\n",
       " '200',\n",
       " '200 subscribers',\n",
       " '2004',\n",
       " '2004 check',\n",
       " '2009',\n",
       " '2009 2',\n",
       " '200k',\n",
       " '200k world',\n",
       " '200mm',\n",
       " '200mm 32gb',\n",
       " '2010',\n",
       " '2010 time',\n",
       " '2011',\n",
       " '2011 year',\n",
       " '2012',\n",
       " '2012 just',\n",
       " '2012430',\n",
       " '2012430 reg',\n",
       " '2013',\n",
       " '2013 s',\n",
       " '2014',\n",
       " '2014 11',\n",
       " '2014 134470083389909',\n",
       " '2014 best',\n",
       " '2014 dvdscr',\n",
       " '2014 year',\n",
       " '201470069872822',\n",
       " '201470069872822 amp',\n",
       " '2015',\n",
       " '2015 br',\n",
       " '2015 contest',\n",
       " '2015 d',\n",
       " '2015 fuck',\n",
       " '2015 hi',\n",
       " '2015 im',\n",
       " '2015 like',\n",
       " '2015 llikee',\n",
       " '2015 subscribe',\n",
       " '2015 super',\n",
       " '2015 superbowl',\n",
       " '2017',\n",
       " '2017 half',\n",
       " '210',\n",
       " '210 dislike',\n",
       " '2177367',\n",
       " '2177367 vote',\n",
       " '229508',\n",
       " '229508 amp',\n",
       " '23active',\n",
       " '23active active',\n",
       " '23lmfao',\n",
       " '23lmfao lmfao',\n",
       " '243a',\n",
       " '243a 5c2f',\n",
       " '25',\n",
       " '25 35',\n",
       " '25 thank',\n",
       " '251638183951',\n",
       " '251638183951 sspagename',\n",
       " '25874',\n",
       " '25874 2177367',\n",
       " '26032883',\n",
       " '26032883 love',\n",
       " '279',\n",
       " '279 898',\n",
       " '2b',\n",
       " '2b hits',\n",
       " '2billion',\n",
       " '2billion hit',\n",
       " '2billion people',\n",
       " '2billion view',\n",
       " '2x10',\n",
       " '2x10 9',\n",
       " '3',\n",
       " '3 000',\n",
       " '3 2014',\n",
       " '3 40',\n",
       " '3 amp',\n",
       " '3 billion',\n",
       " '3 br',\n",
       " '3 dollars',\n",
       " '3 empire',\n",
       " '3 hackers',\n",
       " '3 minutes',\n",
       " '3 shakira',\n",
       " '3 song',\n",
       " '3 vids',\n",
       " '302703146601369',\n",
       " '313327',\n",
       " '313327 help',\n",
       " '314',\n",
       " '320',\n",
       " '320 camera',\n",
       " '327568907427561',\n",
       " '327568907427561 333607726823679',\n",
       " '32gb',\n",
       " '32gb black',\n",
       " '32gb price',\n",
       " '32gb unlock',\n",
       " '33',\n",
       " '333607726823679',\n",
       " '333607726823679 type',\n",
       " '333608120156973',\n",
       " '333608120156973 1073741830',\n",
       " '35',\n",
       " '35 hour',\n",
       " '360',\n",
       " '360 sony',\n",
       " '365',\n",
       " '365 days',\n",
       " '385',\n",
       " '385 samsung',\n",
       " '389088',\n",
       " '389088 sheilcen',\n",
       " '39',\n",
       " '39 africans',\n",
       " '39 cuz',\n",
       " '39 d',\n",
       " '39 days',\n",
       " '39 good',\n",
       " '39 great',\n",
       " '39 ll',\n",
       " '39 m',\n",
       " '39 palastine',\n",
       " '39 s',\n",
       " '39 t',\n",
       " '39 ve',\n",
       " '39 watch',\n",
       " '390',\n",
       " '390 apple',\n",
       " '390 ultrabooks',\n",
       " '3d',\n",
       " '3d lead',\n",
       " '3m',\n",
       " '3m subscribers',\n",
       " '3m40s',\n",
       " '3m40s 3',\n",
       " '4',\n",
       " '4 0',\n",
       " '4 11',\n",
       " '4 16gb',\n",
       " '4 6',\n",
       " '4 fuck',\n",
       " '4 inch',\n",
       " '4 months',\n",
       " '4 song',\n",
       " '4 years',\n",
       " '40',\n",
       " '40 hours',\n",
       " '40 href',\n",
       " '4000',\n",
       " '4000 5000',\n",
       " '4000dollars',\n",
       " '4000dollars month',\n",
       " '41',\n",
       " '41 39',\n",
       " '447935454150',\n",
       " '447935454150 lovely',\n",
       " '4483179854075',\n",
       " '4483179854075 amp',\n",
       " '46',\n",
       " '46 invisible',\n",
       " '482',\n",
       " '482 940',\n",
       " '490',\n",
       " '490 000',\n",
       " '4g',\n",
       " '4g 9',\n",
       " '4gb',\n",
       " '4gb 128gb',\n",
       " '4m11s',\n",
       " '4m11s 4',\n",
       " '4netjobs',\n",
       " '4netjobs com',\n",
       " '4s',\n",
       " '4s 4',\n",
       " '4th',\n",
       " '4th gen',\n",
       " '4th sell',\n",
       " '5',\n",
       " '5 5s',\n",
       " '5 comforter',\n",
       " '5 complain',\n",
       " '5 dollars',\n",
       " '5 latest',\n",
       " '5 milions',\n",
       " '5 minutes',\n",
       " '5 months',\n",
       " '5 star',\n",
       " '5 years',\n",
       " '50',\n",
       " '50 sub',\n",
       " '500',\n",
       " '500 like',\n",
       " '500 new',\n",
       " '500 subscribers',\n",
       " '5000',\n",
       " '5000 monthly',\n",
       " '5000 sub',\n",
       " '500k',\n",
       " '500k video',\n",
       " '505b0232',\n",
       " '505b0232 https',\n",
       " '5094',\n",
       " '5094 amp',\n",
       " '50k',\n",
       " '50k month',\n",
       " '510',\n",
       " '510 pcs',\n",
       " '515',\n",
       " '515 purchase',\n",
       " '521',\n",
       " '521 750',\n",
       " '5242575',\n",
       " '5277478',\n",
       " '5277478 comment',\n",
       " '5337555197',\n",
       " '5337555197 amp',\n",
       " '53481',\n",
       " '53481 19255',\n",
       " '543627485763966',\n",
       " '543627485763966 amp',\n",
       " '55',\n",
       " '55 200mm',\n",
       " '5575096797',\n",
       " '5575096797 amp',\n",
       " '55mm',\n",
       " '55mm 55',\n",
       " '566',\n",
       " '566 000',\n",
       " '57',\n",
       " '57 lol',\n",
       " '5800',\n",
       " '5800 ll',\n",
       " '5af506e1',\n",
       " '5c',\n",
       " '5c 4s',\n",
       " '5c2f',\n",
       " '5c2f c349',\n",
       " '5million',\n",
       " '5million comment',\n",
       " '5million fake',\n",
       " '5s',\n",
       " '5s 5c',\n",
       " '5th',\n",
       " '5th view',\n",
       " '6',\n",
       " '6 500',\n",
       " '6 month',\n",
       " '6 months',\n",
       " '6 n',\n",
       " '6 old',\n",
       " '6 years',\n",
       " '60',\n",
       " '60 6',\n",
       " '60 inch',\n",
       " '60 years',\n",
       " '600',\n",
       " '600 60',\n",
       " '600 million',\n",
       " '600 quid',\n",
       " '616375350',\n",
       " '629',\n",
       " '629 million',\n",
       " '6381501',\n",
       " '6381501 timothy',\n",
       " '661',\n",
       " '661 million',\n",
       " '666',\n",
       " '666 people',\n",
       " '7',\n",
       " '7 billion',\n",
       " '7 inch',\n",
       " '7 million',\n",
       " '7 noms',\n",
       " '710',\n",
       " '710 53481',\n",
       " '733634264',\n",
       " '733634264 visortwin',\n",
       " '733949243353321',\n",
       " '733949243353321 comment',\n",
       " '734237113324534',\n",
       " '734237113324534 amp',\n",
       " '74',\n",
       " '74 like',\n",
       " '750',\n",
       " '750 view',\n",
       " '775510675841486',\n",
       " '783',\n",
       " '783 view',\n",
       " '79',\n",
       " '7in',\n",
       " '7in white',\n",
       " '7k',\n",
       " '7k subscribers',\n",
       " '8',\n",
       " '800',\n",
       " '800 m',\n",
       " '800 mil',\n",
       " '824',\n",
       " '824 amp',\n",
       " '857',\n",
       " '857 482',\n",
       " '868',\n",
       " '868 mio',\n",
       " '87',\n",
       " '87 cypher',\n",
       " '870',\n",
       " '870 000',\n",
       " '884',\n",
       " '884 034',\n",
       " '898',\n",
       " '898 youtube',\n",
       " '89c',\n",
       " '89c c3',\n",
       " '89iyec7nrwp5nytno5u7amhvmflutggl',\n",
       " '89iyec7nrwp5nytno5u7amhvmflutggl amp',\n",
       " '9',\n",
       " '9 7in',\n",
       " '9 months',\n",
       " '9 view',\n",
       " '90',\n",
       " '90 amp',\n",
       " '902099',\n",
       " '902099 amp',\n",
       " '9277547',\n",
       " '9277547 peace',\n",
       " '936868579660284',\n",
       " '936868579660284 1073741943',\n",
       " '937732262907249',\n",
       " '937732262907249 type',\n",
       " '940',\n",
       " '940 view',\n",
       " '969',\n",
       " '969 210',\n",
       " '999999999',\n",
       " '999999999 gt',\n",
       " '9bzkp7q19f0',\n",
       " '9gag',\n",
       " '9gag com',\n",
       " '9nl',\n",
       " '9nl make',\n",
       " 'aaas',\n",
       " 'aaas org',\n",
       " 'aavpwj9',\n",
       " 'ablaze',\n",
       " 'ablaze crabby',\n",
       " 'able',\n",
       " 'able advertise',\n",
       " 'able cover',\n",
       " 'absolutely',\n",
       " 'absolutely adore',\n",
       " 'absolutely amaze',\n",
       " 'absolutely beautiful',\n",
       " 'absolutely gorgeous',\n",
       " 'abused',\n",
       " 'abused mistreated',\n",
       " 'abusive',\n",
       " 'abusive tower',\n",
       " 'acaer',\n",
       " 'acaer chillpal',\n",
       " 'acceptance',\n",
       " 'acceptance speech',\n",
       " 'access',\n",
       " 'access internet',\n",
       " 'accidental',\n",
       " 'accidental pepelexa',\n",
       " 'account',\n",
       " 'account 389088',\n",
       " 'account ll',\n",
       " 'account psy',\n",
       " 'acquire',\n",
       " 'acquire bonus',\n",
       " 'act',\n",
       " 'act like',\n",
       " 'active',\n",
       " 'active bad',\n",
       " 'active child',\n",
       " 'active youtube',\n",
       " 'actor',\n",
       " 'actor hwang',\n",
       " 'actorid',\n",
       " 'actorid 1442646731',\n",
       " 'actually',\n",
       " 'actually buy',\n",
       " 'actually loss',\n",
       " 'actually respect',\n",
       " 'adam',\n",
       " 'adam b',\n",
       " 'adam whitney',\n",
       " 'add',\n",
       " 'add follow',\n",
       " 'add hit',\n",
       " 'addition',\n",
       " 'addition design',\n",
       " 'adf',\n",
       " 'adf ly',\n",
       " 'adhoc',\n",
       " 'adhoc weak',\n",
       " 'admirable',\n",
       " 'admirable pray',\n",
       " 'admit',\n",
       " 'admit just',\n",
       " 'adore',\n",
       " 'adore watch',\n",
       " 'advance',\n",
       " 'advertise',\n",
       " 'advertise channel',\n",
       " 'advertise simple',\n",
       " 'advertise wont',\n",
       " 'advertisements',\n",
       " 'advertisements chance',\n",
       " 'affiliate',\n",
       " 'affiliate company',\n",
       " 'afflict',\n",
       " 'afflict pray',\n",
       " 'africa',\n",
       " 'africa 2',\n",
       " 'africa african',\n",
       " 'africa br',\n",
       " 'africa check',\n",
       " 'africa quot',\n",
       " 'african',\n",
       " 'african people',\n",
       " 'african quot',\n",
       " 'africans',\n",
       " 'africans colour',\n",
       " 'age',\n",
       " 'age 46',\n",
       " 'age don',\n",
       " 'ago',\n",
       " 'ago ancestors',\n",
       " 'ago bring',\n",
       " 'ago damn',\n",
       " 'ago justin',\n",
       " 'ago promise',\n",
       " 'ago song',\n",
       " 'agree',\n",
       " 'agree just',\n",
       " 'ah',\n",
       " 'ah good',\n",
       " 'ahhh',\n",
       " 'ahhh 2',\n",
       " 'ahhh life',\n",
       " 'aiiima',\n",
       " 'aiiima plzzz',\n",
       " 'air',\n",
       " 'air price',\n",
       " 'airplane',\n",
       " 'airplane crash',\n",
       " 'aka',\n",
       " 'aka soccer',\n",
       " 'al',\n",
       " 'al ma',\n",
       " 'alcoholic',\n",
       " 'alcoholic 15',\n",
       " 'alex',\n",
       " 'alex serov',\n",
       " 'alive',\n",
       " 'alive subscribe',\n",
       " 'allot',\n",
       " 'allot effort',\n",
       " 'allow',\n",
       " 'allow gwar',\n",
       " 'allways',\n",
       " 'allways laugh',\n",
       " 'almond',\n",
       " 'almond eyes',\n",
       " 'aloidia',\n",
       " 'aloidia cheilith',\n",
       " 'alot',\n",
       " 'alot girls',\n",
       " 'alright',\n",
       " 'alright ladies',\n",
       " 'amaze',\n",
       " 'amaze hope',\n",
       " 'amaze result',\n",
       " 'amaze smiley',\n",
       " 'amaze song',\n",
       " 'ambition',\n",
       " 'ambition subscribe',\n",
       " 'america',\n",
       " 'american',\n",
       " 'amiable',\n",
       " 'amiable pray',\n",
       " 'amp',\n",
       " 'amp actorid',\n",
       " 'amp campid',\n",
       " 'amp chillstep',\n",
       " 'amp crea',\n",
       " 'amp csrftoken',\n",
       " 'amp customid',\n",
       " 'amp dj',\n",
       " 'amp dref',\n",
       " 'amp follow',\n",
       " 'amp god',\n",
       " 'amp hl',\n",
       " 'amp house',\n",
       " 'amp icep',\n",
       " 'amp ipn',\n",
       " 'amp keyword',\n",
       " 'amp kw',\n",
       " 'amp kwid',\n",
       " 'amp l',\n",
       " 'amp list',\n",
       " 'amp mpt',\n",
       " 'amp mtid',\n",
       " 'amp offset',\n",
       " 'amp permpage',\n",
       " 'amp pub',\n",
       " 'amp ref',\n",
       " 'amp rrid',\n",
       " 'amp set',\n",
       " 'amp share',\n",
       " 'amp size',\n",
       " 'amp sort',\n",
       " 'amp store',\n",
       " 'amp t',\n",
       " 'amp theater',\n",
       " 'amp toolid',\n",
       " 'amp total',\n",
       " 'amp trksid',\n",
       " 'amp type',\n",
       " 'anand',\n",
       " 'anand niketan',\n",
       " 'ancestors',\n",
       " 'ancestors leave',\n",
       " 'anderson',\n",
       " 'anderson 39',\n",
       " 'android',\n",
       " 'android game',\n",
       " 'android photo',\n",
       " 'angel',\n",
       " 'angel rookie',\n",
       " 'angels',\n",
       " 'angels n',\n",
       " 'angels pray',\n",
       " 'animal',\n",
       " 'animal organizations',\n",
       " 'animals',\n",
       " 'animals fund',\n",
       " 'animals like',\n",
       " 'animals ones',\n",
       " 'annoy',\n",
       " 'annoy check',\n",
       " 'annoy hell',\n",
       " 'annoy spammed',\n",
       " 'annoy spare',\n",
       " 'annoying',\n",
       " 'ans',\n",
       " 'ans katy',\n",
       " 'antrobofficial',\n",
       " 'anxious',\n",
       " 'anxious regret',\n",
       " 'anymore',\n",
       " 'anymore gim',\n",
       " 'anymore just',\n",
       " 'apostles',\n",
       " 'apostles pray',\n",
       " 'app',\n",
       " 'app link',\n",
       " 'app solve',\n",
       " 'applause',\n",
       " 'applause lt',\n",
       " 'apple',\n",
       " 'apple ipad',\n",
       " 'apple iphone',\n",
       " 'apple macbook',\n",
       " 'applocker',\n",
       " 'applocker amp',\n",
       " 'apply',\n",
       " 'apply learn',\n",
       " 'appreciate',\n",
       " 'appreciate chance',\n",
       " 'appreciate constructive',\n",
       " 'appreciate hair',\n",
       " 'appreciate help',\n",
       " 'appreciate subscribe',\n",
       " 'appreciate thumb',\n",
       " 'appreciate time',\n",
       " 'appreciate win',\n",
       " 'apprecitate',\n",
       " 'apps',\n",
       " 'apps 1m',\n",
       " 'apps details',\n",
       " 'apps facebook',\n",
       " 'arbitrate',\n",
       " 'arbitrate guide',\n",
       " 'arive',\n",
       " 'arive ebay',\n",
       " 'arkglzjqup0',\n",
       " 'arkglzjqup0 fb',\n",
       " 'arrogant',\n",
       " 'arrogant obviously',\n",
       " 'arrowgance',\n",
       " 'arrowgance lively',\n",
       " 'art',\n",
       " 'art videos',\n",
       " 'artist',\n",
       " 'artist everyday',\n",
       " 'artist year',\n",
       " 'artists',\n",
       " 'aseris',\n",
       " 'aseris money',\n",
       " 'asia',\n",
       " 'asia look',\n",
       " 'asian',\n",
       " 'asian countries',\n",
       " 'asian things',\n",
       " 'ask',\n",
       " 'ask critique',\n",
       " 'ask promote',\n",
       " 'aslamu',\n",
       " 'aslamu lykum',\n",
       " 'aspx',\n",
       " 'aspx e',\n",
       " 'ass',\n",
       " 'ass channel',\n",
       " 'assume',\n",
       " 'assume bookmakers',\n",
       " 'astauand',\n",
       " 'astauand johackle',\n",
       " 'attention',\n",
       " 'attention hooker',\n",
       " 'attention im',\n",
       " 'attention just',\n",
       " 'attention katycats',\n",
       " 'attention subscribe',\n",
       " 'audition',\n",
       " 'audition jyp',\n",
       " 'audition korean',\n",
       " 'australia',\n",
       " 'australia attention',\n",
       " 'authority',\n",
       " 'authority improve',\n",
       " 'autotune',\n",
       " 'autotuned',\n",
       " 'avoid',\n",
       " 'avoid watch',\n",
       " 'award',\n",
       " 'award method',\n",
       " 'away',\n",
       " 'away 6',\n",
       " 'away act',\n",
       " 'away help',\n",
       " 'away im',\n",
       " 'away way',\n",
       " 'aways',\n",
       " 'aways goal',\n",
       " 'awesom',\n",
       " 'awesome',\n",
       " 'awesome 39',\n",
       " 'awesome cover',\n",
       " 'awesome edm',\n",
       " 'awesome entertainer',\n",
       " 'awesome fuck',\n",
       " 'awesome guy',\n",
       " 'awesome ll',\n",
       " 'awesome non',\n",
       " 'awesome song',\n",
       " 'awesome thank',\n",
       " 'awesome video',\n",
       " 'awesome videos',\n",
       " 'awsome',\n",
       " 'awsome br',\n",
       " 'axeljonssons',\n",
       " 'ayyy',\n",
       " 'ayyy u',\n",
       " 'azerbaijan',\n",
       " 'azerbaijan br',\n",
       " 'b',\n",
       " 'b 1b',\n",
       " 'b beat',\n",
       " 'b otib',\n",
       " 'b rile',\n",
       " 'b view',\n",
       " 'b5',\n",
       " 'b5 al',\n",
       " 'b5t',\n",
       " 'b5t 302703146601369',\n",
       " 'b7b',\n",
       " 'b7b ce',\n",
       " 'b8l',\n",
       " 'b8l ce',\n",
       " 'ba',\n",
       " 'ba dancing',\n",
       " 'baba',\n",
       " 'baba brinkman',\n",
       " 'baby',\n",
       " 'baby congrats',\n",
       " 'baby justin',\n",
       " 'baby quot',\n",
       " 'bad',\n",
       " 'bad 5277478',\n",
       " 'bad brazilian',\n",
       " 'bady',\n",
       " 'bady yust',\n",
       " 'ball',\n",
       " 'ball house',\n",
       " 'ball vincent',\n",
       " 'band',\n",
       " 'band page',\n",
       " 'bar',\n",
       " 'bar song',\n",
       " 'barnesandnoble',\n",
       " 'barnesandnoble com',\n",
       " 'base',\n",
       " 'base click',\n",
       " 'based',\n",
       " 'based music',\n",
       " 'bass',\n",
       " 'bdp',\n",
       " 'bdp amp',\n",
       " 'bdp csrftoken',\n",
       " 'bear',\n",
       " 'bear beautiful',\n",
       " 'bear october',\n",
       " 'beat',\n",
       " 'beat 2013',\n",
       " 'beat check',\n",
       " 'beat millions',\n",
       " 'beat psy',\n",
       " 'beatboxing',\n",
       " 'beaties',\n",
       " 'beaties make',\n",
       " 'beautiful',\n",
       " 'beautiful american',\n",
       " 'beautiful girl',\n",
       " 'beautiful lovely',\n",
       " 'beautiful need',\n",
       " 'beautiful song',\n",
       " 'beautiful songs',\n",
       " 'beautiful south',\n",
       " 'beautiful suddenly',\n",
       " 'beauty',\n",
       " 'beauty download',\n",
       " 'begin',\n",
       " 'begin scar',\n",
       " 'begin work',\n",
       " 'behavior',\n",
       " 'behavior grass',\n",
       " 'beibs',\n",
       " 'beibs n',\n",
       " 'believe',\n",
       " 'believe kid',\n",
       " 'believe love',\n",
       " 'believe maybe',\n",
       " 'believe pray',\n",
       " 'believe shit',\n",
       " 'believe website',\n",
       " 'believe women',\n",
       " 'believemefilm',\n",
       " 'believemefilm com',\n",
       " 'bennett',\n",
       " 'berzerk',\n",
       " 'berzerk video',\n",
       " 'besloor',\n",
       " 'besloor shame',\n",
       " 'best',\n",
       " 'best female',\n",
       " 'best funny',\n",
       " 'best live',\n",
       " 'best look',\n",
       " 'best love',\n",
       " 'best party',\n",
       " 'best pop',\n",
       " 'best rapper',\n",
       " 'best singer',\n",
       " 'best song',\n",
       " 'best songs',\n",
       " 'best video',\n",
       " 'best voice',\n",
       " 'best way',\n",
       " 'best wk',\n",
       " 'best world',\n",
       " 'betfair',\n",
       " 'betfair acquire',\n",
       " 'better',\n",
       " 'better 10',\n",
       " 'better 39',\n",
       " 'better black',\n",
       " 'better eminem',\n",
       " 'better football',\n",
       " 'better person',\n",
       " 'beutiful',\n",
       " 'big',\n",
       " 'big dick',\n",
       " 'big dream',\n",
       " 'big fan',\n",
       " 'big room',\n",
       " 'big think',\n",
       " 'bigboss286',\n",
       " 'bigelow',\n",
       " 'bigelow 39',\n",
       " 'bigger',\n",
       " 'bigger s',\n",
       " 'bighit',\n",
       " 'bighit jellyfish',\n",
       " 'bikini',\n",
       " 'bil',\n",
       " 'bil wow',\n",
       " 'bilion',\n",
       " 'bilion views',\n",
       " 'billie',\n",
       " 'billie jean',\n",
       " 'billion',\n",
       " 'billion come',\n",
       " 'billion shit',\n",
       " 'billion view',\n",
       " 'billion worth',\n",
       " 'bills',\n",
       " 'bills help',\n",
       " 'binbox',\n",
       " 'binbox io',\n",
       " 'bing',\n",
       " 'bing com',\n",
       " 'bing reward',\n",
       " 'birthday',\n",
       " 'birthday katy',\n",
       " 'birthday today',\n",
       " 'bitch',\n",
       " 'bitch hyuna',\n",
       " 'bitch need',\n",
       " 'bite',\n",
       " 'bite blank',\n",
       " 'bite end',\n",
       " 'black',\n",
       " 'black hair',\n",
       " 'black price',\n",
       " 'black robot',\n",
       " 'blank',\n",
       " 'blank space',\n",
       " 'bleach',\n",
       " 'bless',\n",
       " 'block',\n",
       " 'block youtube',\n",
       " 'blog',\n",
       " 'blog sinar',\n",
       " 'blond',\n",
       " 'blond hair',\n",
       " 'blow',\n",
       " 'blow mind',\n",
       " 'blue',\n",
       " 'body',\n",
       " 'body like',\n",
       " 'bogdan',\n",
       " 'bogdan grigore',\n",
       " ...]"
      ]
     },
     "execution_count": 53,
     "metadata": {},
     "output_type": "execute_result"
    }
   ],
   "source": [
    "wordsCV"
   ]
  },
  {
   "cell_type": "code",
   "execution_count": 54,
   "metadata": {},
   "outputs": [
    {
     "data": {
      "text/plain": [
       "7007"
      ]
     },
     "execution_count": 54,
     "metadata": {},
     "output_type": "execute_result"
    }
   ],
   "source": [
    "len(wordsCV)"
   ]
  },
  {
   "cell_type": "code",
   "execution_count": 55,
   "metadata": {},
   "outputs": [],
   "source": [
    "X_train_dtm = toNumeric.transform(X_train)"
   ]
  },
  {
   "cell_type": "code",
   "execution_count": 56,
   "metadata": {},
   "outputs": [
    {
     "data": {
      "text/plain": [
       "<809x7007 sparse matrix of type '<class 'numpy.int64'>'\n",
       "\twith 12945 stored elements in Compressed Sparse Row format>"
      ]
     },
     "execution_count": 56,
     "metadata": {},
     "output_type": "execute_result"
    }
   ],
   "source": [
    "X_train_dtm"
   ]
  },
  {
   "cell_type": "code",
   "execution_count": 57,
   "metadata": {},
   "outputs": [
    {
     "data": {
      "text/plain": [
       "array([[0, 0, 0, ..., 0, 0, 0],\n",
       "       [0, 0, 0, ..., 0, 0, 0],\n",
       "       [0, 0, 0, ..., 0, 0, 0],\n",
       "       ...,\n",
       "       [0, 0, 0, ..., 0, 0, 0],\n",
       "       [0, 0, 0, ..., 0, 0, 0],\n",
       "       [0, 0, 0, ..., 0, 0, 0]], dtype=int64)"
      ]
     },
     "execution_count": 57,
     "metadata": {},
     "output_type": "execute_result"
    }
   ],
   "source": [
    "X_train_dtm.toarray()"
   ]
  },
  {
   "cell_type": "code",
   "execution_count": 58,
   "metadata": {},
   "outputs": [
    {
     "data": {
      "text/plain": [
       "<348x7007 sparse matrix of type '<class 'numpy.int64'>'\n",
       "\twith 3384 stored elements in Compressed Sparse Row format>"
      ]
     },
     "execution_count": 58,
     "metadata": {},
     "output_type": "execute_result"
    }
   ],
   "source": [
    "X_test_dtm = toNumeric.transform(X_test)\n",
    "X_test_dtm"
   ]
  },
  {
   "cell_type": "code",
   "execution_count": 59,
   "metadata": {},
   "outputs": [
    {
     "data": {
      "text/plain": [
       "array([[0, 0, 0, ..., 0, 0, 0],\n",
       "       [0, 0, 0, ..., 0, 0, 0],\n",
       "       [0, 0, 0, ..., 0, 0, 0],\n",
       "       ...,\n",
       "       [0, 0, 0, ..., 0, 0, 0],\n",
       "       [0, 0, 0, ..., 0, 0, 0],\n",
       "       [0, 0, 0, ..., 0, 0, 0]], dtype=int64)"
      ]
     },
     "execution_count": 59,
     "metadata": {},
     "output_type": "execute_result"
    }
   ],
   "source": [
    "X_test_dtm.toarray()"
   ]
  },
  {
   "cell_type": "code",
   "execution_count": null,
   "metadata": {},
   "outputs": [],
   "source": []
  },
  {
   "cell_type": "code",
   "execution_count": null,
   "metadata": {},
   "outputs": [],
   "source": [
    "#LogisticRegression"
   ]
  },
  {
   "cell_type": "code",
   "execution_count": 36,
   "metadata": {},
   "outputs": [],
   "source": [
    "from sklearn.linear_model import LogisticRegression"
   ]
  },
  {
   "cell_type": "code",
   "execution_count": 37,
   "metadata": {},
   "outputs": [],
   "source": [
    "lr = LogisticRegression()"
   ]
  },
  {
   "cell_type": "code",
   "execution_count": 38,
   "metadata": {},
   "outputs": [],
   "source": [
    "clf = lr.fit(X_train_dtm,y_train)"
   ]
  },
  {
   "cell_type": "code",
   "execution_count": 39,
   "metadata": {},
   "outputs": [
    {
     "data": {
      "text/plain": [
       "1    407\n",
       "0    402\n",
       "Name: CLASS, dtype: int64"
      ]
     },
     "execution_count": 39,
     "metadata": {},
     "output_type": "execute_result"
    }
   ],
   "source": [
    "y_train.value_counts()"
   ]
  },
  {
   "cell_type": "code",
   "execution_count": 40,
   "metadata": {},
   "outputs": [
    {
     "data": {
      "text/plain": [
       "<809x7007 sparse matrix of type '<class 'numpy.int64'>'\n",
       "\twith 12945 stored elements in Compressed Sparse Row format>"
      ]
     },
     "execution_count": 40,
     "metadata": {},
     "output_type": "execute_result"
    }
   ],
   "source": [
    "X_train_dtm"
   ]
  },
  {
   "cell_type": "code",
   "execution_count": 41,
   "metadata": {},
   "outputs": [
    {
     "data": {
      "image/png": "[encoded data removed]",
      "text/plain": [
       "<Figure size 432x288 with 1 Axes>"
      ]
     },
     "metadata": {
      "needs_background": "light"
     },
     "output_type": "display_data"
    }
   ],
   "source": [
    "from sklearn.metrics import plot_roc_curve,plot_confusion_matrix\n",
    "plot_roc_curve(estimator=clf,y=y_test,X=X_test_dtm)\n",
    "plt.show()"
   ]
  },
  {
   "cell_type": "code",
   "execution_count": 42,
   "metadata": {},
   "outputs": [
    {
     "data": {
      "image/png": "[encoded data removed]",
      "text/plain": [
       "<Figure size 432x288 with 2 Axes>"
      ]
     },
     "metadata": {
      "needs_background": "light"
     },
     "output_type": "display_data"
    }
   ],
   "source": [
    "plot_confusion_matrix(estimator=clf,y_true=y_test,X=X_test_dtm)\n",
    "plt.show()"
   ]
  },
  {
   "cell_type": "code",
   "execution_count": null,
   "metadata": {},
   "outputs": [],
   "source": []
  },
  {
   "cell_type": "code",
   "execution_count": null,
   "metadata": {},
   "outputs": [],
   "source": [
    "#DecisionTreeClassifier"
   ]
  },
  {
   "cell_type": "code",
   "execution_count": 39,
   "metadata": {},
   "outputs": [],
   "source": [
    "import sklearn.metrics"
   ]
  },
  {
   "cell_type": "code",
   "execution_count": 142,
   "metadata": {},
   "outputs": [
    {
     "data": {
      "text/plain": [
       "dict_keys(['explained_variance', 'r2', 'max_error', 'neg_median_absolute_error', 'neg_mean_absolute_error', 'neg_mean_squared_error', 'neg_mean_squared_log_error', 'neg_root_mean_squared_error', 'neg_mean_poisson_deviance', 'neg_mean_gamma_deviance', 'accuracy', 'roc_auc', 'roc_auc_ovr', 'roc_auc_ovo', 'roc_auc_ovr_weighted', 'roc_auc_ovo_weighted', 'balanced_accuracy', 'average_precision', 'neg_log_loss', 'neg_brier_score', 'adjusted_rand_score', 'homogeneity_score', 'completeness_score', 'v_measure_score', 'mutual_info_score', 'adjusted_mutual_info_score', 'normalized_mutual_info_score', 'fowlkes_mallows_score', 'precision', 'precision_macro', 'precision_micro', 'precision_samples', 'precision_weighted', 'recall', 'recall_macro', 'recall_micro', 'recall_samples', 'recall_weighted', 'f1', 'f1_macro', 'f1_micro', 'f1_samples', 'f1_weighted', 'jaccard', 'jaccard_macro', 'jaccard_micro', 'jaccard_samples', 'jaccard_weighted'])"
      ]
     },
     "execution_count": 142,
     "metadata": {},
     "output_type": "execute_result"
    }
   ],
   "source": [
    "sklearn.metrics.SCORERS.keys()"
   ]
  },
  {
   "cell_type": "code",
   "execution_count": 73,
   "metadata": {},
   "outputs": [],
   "source": [
    "from sklearn.tree import DecisionTreeClassifier"
   ]
  },
  {
   "cell_type": "code",
   "execution_count": 74,
   "metadata": {},
   "outputs": [],
   "source": [
    "from sklearn.model_selection import GridSearchCV"
   ]
  },
  {
   "cell_type": "code",
   "execution_count": 110,
   "metadata": {},
   "outputs": [],
   "source": [
    "params = {'criterion':['gini','entropy'],'max_depth':[8,10,20,30,35,36,37,38,39,40,50]}\n",
    "dtc = DecisionTreeClassifier()\n",
    "\n",
    "gsearch = GridSearchCV(dtc,param_grid=params,cv=3,scoring='roc_auc')"
   ]
  },
  {
   "cell_type": "code",
   "execution_count": 111,
   "metadata": {},
   "outputs": [],
   "source": [
    "clf = gsearch.fit(X_train_dtm,y_train)"
   ]
  },
  {
   "cell_type": "code",
   "execution_count": 112,
   "metadata": {},
   "outputs": [
    {
     "data": {
      "text/plain": [
       "1    407\n",
       "0    402\n",
       "Name: CLASS, dtype: int64"
      ]
     },
     "execution_count": 112,
     "metadata": {},
     "output_type": "execute_result"
    }
   ],
   "source": [
    "y_train.value_counts()"
   ]
  },
  {
   "cell_type": "code",
   "execution_count": 113,
   "metadata": {},
   "outputs": [
    {
     "data": {
      "text/plain": [
       "<809x7007 sparse matrix of type '<class 'numpy.int64'>'\n",
       "\twith 12945 stored elements in Compressed Sparse Row format>"
      ]
     },
     "execution_count": 113,
     "metadata": {},
     "output_type": "execute_result"
    }
   ],
   "source": [
    "X_train_dtm"
   ]
  },
  {
   "cell_type": "code",
   "execution_count": 114,
   "metadata": {},
   "outputs": [
    {
     "data": {
      "text/plain": [
       "DecisionTreeClassifier(max_depth=36)"
      ]
     },
     "execution_count": 114,
     "metadata": {},
     "output_type": "execute_result"
    }
   ],
   "source": [
    "clf.best_estimator_"
   ]
  },
  {
   "cell_type": "code",
   "execution_count": 116,
   "metadata": {},
   "outputs": [],
   "source": [
    "dtc = DecisionTreeClassifier(max_depth=36)"
   ]
  },
  {
   "cell_type": "code",
   "execution_count": 117,
   "metadata": {},
   "outputs": [],
   "source": [
    "clf = dtc.fit(X_train_dtm,y_train)"
   ]
  },
  {
   "cell_type": "code",
   "execution_count": 118,
   "metadata": {},
   "outputs": [
    {
     "data": {
      "image/png": "[encoded data removed]",
      "text/plain": [
       "<Figure size 432x288 with 1 Axes>"
      ]
     },
     "metadata": {
      "needs_background": "light"
     },
     "output_type": "display_data"
    }
   ],
   "source": [
    "from sklearn.metrics import plot_roc_curve,plot_confusion_matrix\n",
    "plot_roc_curve(estimator=clf,y=y_test,X=X_test_dtm)\n",
    "plt.show()"
   ]
  },
  {
   "cell_type": "code",
   "execution_count": 119,
   "metadata": {},
   "outputs": [
    {
     "data": {
      "image/png": "[encoded data removed]",
      "text/plain": [
       "<Figure size 432x288 with 2 Axes>"
      ]
     },
     "metadata": {
      "needs_background": "light"
     },
     "output_type": "display_data"
    }
   ],
   "source": [
    "plot_confusion_matrix(estimator=clf,y_true=y_test,X=X_test_dtm)\n",
    "plt.show()"
   ]
  },
  {
   "cell_type": "code",
   "execution_count": null,
   "metadata": {},
   "outputs": [],
   "source": []
  },
  {
   "cell_type": "code",
   "execution_count": null,
   "metadata": {},
   "outputs": [],
   "source": [
    "#RandomForestClassifier"
   ]
  },
  {
   "cell_type": "code",
   "execution_count": 40,
   "metadata": {},
   "outputs": [],
   "source": [
    "from sklearn.ensemble import RandomForestClassifier"
   ]
  },
  {
   "cell_type": "code",
   "execution_count": 43,
   "metadata": {},
   "outputs": [],
   "source": [
    "params = {'criterion':['gini','entropy'],'max_depth':[8,10,20,30,35,36,37,38,39,40,50]}\n",
    "rfc = RandomForestClassifier(random_state=100)\n",
    "\n",
    "gsearch = GridSearchCV(rfc,param_grid=params,cv=3,scoring='roc_auc')"
   ]
  },
  {
   "cell_type": "code",
   "execution_count": 164,
   "metadata": {},
   "outputs": [],
   "source": [
    "clf3 = gsearch.fit(X_train_dtm,y_train)"
   ]
  },
  {
   "cell_type": "code",
   "execution_count": 165,
   "metadata": {},
   "outputs": [
    {
     "data": {
      "text/plain": [
       "1    407\n",
       "0    402\n",
       "Name: CLASS, dtype: int64"
      ]
     },
     "execution_count": 165,
     "metadata": {},
     "output_type": "execute_result"
    }
   ],
   "source": [
    "y_train.value_counts()"
   ]
  },
  {
   "cell_type": "code",
   "execution_count": 166,
   "metadata": {},
   "outputs": [
    {
     "data": {
      "text/plain": [
       "<809x7007 sparse matrix of type '<class 'numpy.int64'>'\n",
       "\twith 12945 stored elements in Compressed Sparse Row format>"
      ]
     },
     "execution_count": 166,
     "metadata": {},
     "output_type": "execute_result"
    }
   ],
   "source": [
    "X_train_dtm"
   ]
  },
  {
   "cell_type": "code",
   "execution_count": 167,
   "metadata": {},
   "outputs": [
    {
     "data": {
      "text/plain": [
       "RandomForestClassifier(max_depth=35, random_state=100)"
      ]
     },
     "execution_count": 167,
     "metadata": {},
     "output_type": "execute_result"
    }
   ],
   "source": [
    "clf3.best_estimator_"
   ]
  },
  {
   "cell_type": "code",
   "execution_count": 60,
   "metadata": {},
   "outputs": [],
   "source": [
    "rfc = RandomForestClassifier(max_depth=35,random_state=150)"
   ]
  },
  {
   "cell_type": "code",
   "execution_count": 61,
   "metadata": {},
   "outputs": [],
   "source": [
    "clf3 = rfc.fit(X_train_dtm,y_train)"
   ]
  },
  {
   "cell_type": "code",
   "execution_count": 62,
   "metadata": {},
   "outputs": [
    {
     "data": {
      "text/plain": [
       "1    407\n",
       "0    402\n",
       "Name: CLASS, dtype: int64"
      ]
     },
     "execution_count": 62,
     "metadata": {},
     "output_type": "execute_result"
    }
   ],
   "source": [
    "y_train.value_counts()"
   ]
  },
  {
   "cell_type": "code",
   "execution_count": 63,
   "metadata": {},
   "outputs": [
    {
     "data": {
      "text/plain": [
       "<809x7007 sparse matrix of type '<class 'numpy.int64'>'\n",
       "\twith 12945 stored elements in Compressed Sparse Row format>"
      ]
     },
     "execution_count": 63,
     "metadata": {},
     "output_type": "execute_result"
    }
   ],
   "source": [
    "X_train_dtm"
   ]
  },
  {
   "cell_type": "code",
   "execution_count": 64,
   "metadata": {},
   "outputs": [
    {
     "data": {
      "image/png": "[encoded data removed]",
      "text/plain": [
       "<Figure size 432x288 with 1 Axes>"
      ]
     },
     "metadata": {
      "needs_background": "light"
     },
     "output_type": "display_data"
    }
   ],
   "source": [
    "from sklearn.metrics import plot_roc_curve,plot_confusion_matrix\n",
    "plot_roc_curve(estimator=clf3,y=y_test,X=X_test_dtm)\n",
    "plt.show()"
   ]
  },
  {
   "cell_type": "code",
   "execution_count": 65,
   "metadata": {},
   "outputs": [
    {
     "data": {
      "image/png": "[encoded data removed]",
      "text/plain": [
       "<Figure size 432x288 with 2 Axes>"
      ]
     },
     "metadata": {
      "needs_background": "light"
     },
     "output_type": "display_data"
    }
   ],
   "source": [
    "plot_confusion_matrix(estimator=clf3,y_true=y_test,X=X_test_dtm)\n",
    "plt.show()"
   ]
  },
  {
   "cell_type": "code",
   "execution_count": null,
   "metadata": {},
   "outputs": [],
   "source": []
  },
  {
   "cell_type": "code",
   "execution_count": null,
   "metadata": {},
   "outputs": [],
   "source": [
    "#MultinomialNB"
   ]
  },
  {
   "cell_type": "code",
   "execution_count": 43,
   "metadata": {},
   "outputs": [],
   "source": [
    "from sklearn.naive_bayes import MultinomialNB"
   ]
  },
  {
   "cell_type": "code",
   "execution_count": 44,
   "metadata": {},
   "outputs": [],
   "source": [
    "gnb = MultinomialNB()"
   ]
  },
  {
   "cell_type": "code",
   "execution_count": 45,
   "metadata": {},
   "outputs": [],
   "source": [
    "clf4 = gnb.fit(X_train_dtm.toarray(),y_train)"
   ]
  },
  {
   "cell_type": "code",
   "execution_count": 46,
   "metadata": {},
   "outputs": [
    {
     "data": {
      "text/plain": [
       "1    407\n",
       "0    402\n",
       "Name: CLASS, dtype: int64"
      ]
     },
     "execution_count": 46,
     "metadata": {},
     "output_type": "execute_result"
    }
   ],
   "source": [
    "y_train.value_counts()"
   ]
  },
  {
   "cell_type": "code",
   "execution_count": 47,
   "metadata": {},
   "outputs": [
    {
     "data": {
      "text/plain": [
       "<809x7007 sparse matrix of type '<class 'numpy.int64'>'\n",
       "\twith 12945 stored elements in Compressed Sparse Row format>"
      ]
     },
     "execution_count": 47,
     "metadata": {},
     "output_type": "execute_result"
    }
   ],
   "source": [
    "X_train_dtm"
   ]
  },
  {
   "cell_type": "code",
   "execution_count": 48,
   "metadata": {},
   "outputs": [
    {
     "data": {
      "image/png": "[encoded data removed]",
      "text/plain": [
       "<Figure size 432x288 with 1 Axes>"
      ]
     },
     "metadata": {
      "needs_background": "light"
     },
     "output_type": "display_data"
    }
   ],
   "source": [
    "from sklearn.metrics import plot_roc_curve,plot_confusion_matrix\n",
    "plot_roc_curve(estimator=clf4,y=y_test,X=X_test_dtm.toarray())\n",
    "plt.show()"
   ]
  },
  {
   "cell_type": "code",
   "execution_count": 49,
   "metadata": {},
   "outputs": [
    {
     "data": {
      "image/png": "[encoded data removed]",
      "text/plain": [
       "<Figure size 432x288 with 2 Axes>"
      ]
     },
     "metadata": {
      "needs_background": "light"
     },
     "output_type": "display_data"
    }
   ],
   "source": [
    "plot_confusion_matrix(estimator=clf4,y_true=y_test,X=X_test_dtm.toarray())\n",
    "plt.show()"
   ]
  },
  {
   "cell_type": "code",
   "execution_count": null,
   "metadata": {},
   "outputs": [],
   "source": []
  },
  {
   "cell_type": "code",
   "execution_count": null,
   "metadata": {},
   "outputs": [],
   "source": [
    "#GradientBoostingClassifier"
   ]
  },
  {
   "cell_type": "code",
   "execution_count": 44,
   "metadata": {},
   "outputs": [],
   "source": [
    "from sklearn.ensemble import GradientBoostingClassifier"
   ]
  },
  {
   "cell_type": "code",
   "execution_count": 254,
   "metadata": {},
   "outputs": [],
   "source": [
    "gbc = GradientBoostingClassifier()"
   ]
  },
  {
   "cell_type": "code",
   "execution_count": 193,
   "metadata": {},
   "outputs": [],
   "source": [
    "clf5 = gbc.fit(X_train_dtm.toarray(),y_train)"
   ]
  },
  {
   "cell_type": "code",
   "execution_count": 194,
   "metadata": {},
   "outputs": [
    {
     "data": {
      "text/plain": [
       "1    407\n",
       "0    402\n",
       "Name: CLASS, dtype: int64"
      ]
     },
     "execution_count": 194,
     "metadata": {},
     "output_type": "execute_result"
    }
   ],
   "source": [
    "y_train.value_counts()"
   ]
  },
  {
   "cell_type": "code",
   "execution_count": 195,
   "metadata": {},
   "outputs": [
    {
     "data": {
      "text/plain": [
       "<809x7007 sparse matrix of type '<class 'numpy.int64'>'\n",
       "\twith 12945 stored elements in Compressed Sparse Row format>"
      ]
     },
     "execution_count": 195,
     "metadata": {},
     "output_type": "execute_result"
    }
   ],
   "source": [
    "X_train_dtm"
   ]
  },
  {
   "cell_type": "code",
   "execution_count": 196,
   "metadata": {},
   "outputs": [
    {
     "data": {
      "image/png": "[encoded data removed]",
      "text/plain": [
       "<Figure size 432x288 with 1 Axes>"
      ]
     },
     "metadata": {
      "needs_background": "light"
     },
     "output_type": "display_data"
    }
   ],
   "source": [
    "from sklearn.metrics import plot_roc_curve,plot_confusion_matrix\n",
    "plot_roc_curve(estimator=clf5,y=y_test,X=X_test_dtm.toarray())\n",
    "plt.show()"
   ]
  },
  {
   "cell_type": "code",
   "execution_count": 197,
   "metadata": {},
   "outputs": [
    {
     "data": {
      "image/png": "[encoded data removed]",
      "text/plain": [
       "<Figure size 432x288 with 2 Axes>"
      ]
     },
     "metadata": {
      "needs_background": "light"
     },
     "output_type": "display_data"
    }
   ],
   "source": [
    "plot_confusion_matrix(estimator=clf5,y_true=y_test,X=X_test_dtm.toarray())\n",
    "plt.show()"
   ]
  },
  {
   "cell_type": "code",
   "execution_count": null,
   "metadata": {},
   "outputs": [],
   "source": []
  },
  {
   "cell_type": "code",
   "execution_count": null,
   "metadata": {},
   "outputs": [],
   "source": [
    "#AdaBoostClassifier"
   ]
  },
  {
   "cell_type": "code",
   "execution_count": 66,
   "metadata": {},
   "outputs": [],
   "source": [
    "from sklearn.ensemble import AdaBoostClassifier"
   ]
  },
  {
   "cell_type": "code",
   "execution_count": 67,
   "metadata": {},
   "outputs": [],
   "source": [
    "abc = AdaBoostClassifier(base_estimator=RandomForestClassifier())"
   ]
  },
  {
   "cell_type": "code",
   "execution_count": 68,
   "metadata": {},
   "outputs": [],
   "source": [
    "clf6 = abc.fit(X_train_dtm,y_train)"
   ]
  },
  {
   "cell_type": "code",
   "execution_count": 69,
   "metadata": {},
   "outputs": [
    {
     "data": {
      "text/plain": [
       "1    407\n",
       "0    402\n",
       "Name: CLASS, dtype: int64"
      ]
     },
     "execution_count": 69,
     "metadata": {},
     "output_type": "execute_result"
    }
   ],
   "source": [
    "y_train.value_counts()"
   ]
  },
  {
   "cell_type": "code",
   "execution_count": 70,
   "metadata": {},
   "outputs": [
    {
     "data": {
      "text/plain": [
       "<809x7007 sparse matrix of type '<class 'numpy.int64'>'\n",
       "\twith 12945 stored elements in Compressed Sparse Row format>"
      ]
     },
     "execution_count": 70,
     "metadata": {},
     "output_type": "execute_result"
    }
   ],
   "source": [
    "X_train_dtm"
   ]
  },
  {
   "cell_type": "code",
   "execution_count": 71,
   "metadata": {},
   "outputs": [
    {
     "data": {
      "image/png": "[encoded data removed]",
      "text/plain": [
       "<Figure size 432x288 with 1 Axes>"
      ]
     },
     "metadata": {
      "needs_background": "light"
     },
     "output_type": "display_data"
    }
   ],
   "source": [
    "from sklearn.metrics import plot_roc_curve,plot_confusion_matrix\n",
    "plot_roc_curve(estimator=clf6,y=y_test,X=X_test_dtm)\n",
    "plt.show()"
   ]
  },
  {
   "cell_type": "code",
   "execution_count": 72,
   "metadata": {},
   "outputs": [
    {
     "data": {
      "image/png": "[encoded data removed]",
      "text/plain": [
       "<Figure size 432x288 with 2 Axes>"
      ]
     },
     "metadata": {
      "needs_background": "light"
     },
     "output_type": "display_data"
    }
   ],
   "source": [
    "plot_confusion_matrix(estimator=clf6,y_true=y_test,X=X_test_dtm)\n",
    "plt.show()"
   ]
  },
  {
   "cell_type": "code",
   "execution_count": null,
   "metadata": {},
   "outputs": [],
   "source": []
  },
  {
   "cell_type": "code",
   "execution_count": null,
   "metadata": {},
   "outputs": [],
   "source": [
    "#StackingClassifier"
   ]
  },
  {
   "cell_type": "code",
   "execution_count": 76,
   "metadata": {},
   "outputs": [],
   "source": [
    "from sklearn.ensemble import StackingClassifier"
   ]
  },
  {
   "cell_type": "code",
   "execution_count": 310,
   "metadata": {},
   "outputs": [],
   "source": [
    "sc = StackingClassifier(estimators=[('dtc' ,DecisionTreeClassifier(criterion='entropy',max_depth=36)),('rfc',RandomForestClassifier(criterion='entropy')),('lr',LogisticRegression())],final_estimator=RandomForestClassifier())"
   ]
  },
  {
   "cell_type": "code",
   "execution_count": 311,
   "metadata": {},
   "outputs": [],
   "source": [
    "clf7 = sc.fit(X_train_dtm,y_train)"
   ]
  },
  {
   "cell_type": "code",
   "execution_count": 312,
   "metadata": {},
   "outputs": [
    {
     "data": {
      "text/plain": [
       "936     0\n",
       "599     1\n",
       "339     0\n",
       "617     1\n",
       "501     0\n",
       "       ..\n",
       "1044    1\n",
       "1095    0\n",
       "1130    1\n",
       "860     0\n",
       "1126    1\n",
       "Name: CLASS, Length: 809, dtype: int64"
      ]
     },
     "execution_count": 312,
     "metadata": {},
     "output_type": "execute_result"
    }
   ],
   "source": [
    "y_train"
   ]
  },
  {
   "cell_type": "code",
   "execution_count": 313,
   "metadata": {},
   "outputs": [
    {
     "data": {
      "text/plain": [
       "1    407\n",
       "0    402\n",
       "Name: CLASS, dtype: int64"
      ]
     },
     "execution_count": 313,
     "metadata": {},
     "output_type": "execute_result"
    }
   ],
   "source": [
    "y_train.value_counts()"
   ]
  },
  {
   "cell_type": "code",
   "execution_count": 314,
   "metadata": {},
   "outputs": [
    {
     "data": {
      "text/plain": [
       "array([0, 0, 1, 0, 0, 1, 0, 0, 0, 1, 1, 0, 0, 0, 0, 0, 1, 0, 0, 1, 1, 0,\n",
       "       0, 0, 1, 1, 1, 1, 0, 1, 0, 0, 0, 0, 0, 1, 0, 1, 0, 0, 0, 1, 0, 1,\n",
       "       1, 1, 0, 1, 0, 0, 0, 1, 0, 1, 1, 0, 0, 0, 0, 1, 1, 0, 1, 0, 1, 1,\n",
       "       1, 1, 0, 1, 0, 0, 0, 1, 0, 0, 0, 1, 0, 1, 0, 1, 0, 0, 1, 1, 1, 0,\n",
       "       0, 1, 0, 0, 1, 0, 0, 1, 0, 1, 0, 0, 0, 0, 1, 0, 1, 0, 0, 0, 0, 1,\n",
       "       1, 1, 1, 1, 1, 1, 0, 0, 1, 1, 1, 1, 1, 1, 0, 0, 0, 1, 0, 1, 1, 0,\n",
       "       0, 1, 1, 0, 0, 0, 0, 1, 1, 0, 0, 1, 0, 1, 1, 1, 0, 1, 1, 1, 1, 0,\n",
       "       1, 1, 0, 1, 0, 0, 0, 1, 1, 1, 1, 0, 1, 1, 1, 0, 1, 1, 1, 1, 0, 0,\n",
       "       0, 0, 1, 1, 1, 0, 1, 0, 0, 1, 0, 1, 0, 1, 1, 0, 1, 0, 1, 0, 1, 1,\n",
       "       0, 0, 0, 0, 1, 1, 1, 0, 0, 1, 0, 1, 0, 0, 0, 0, 1, 0, 1, 1, 1, 1,\n",
       "       1, 0, 1, 0, 1, 0, 0, 1, 0, 1, 0, 0, 1, 0, 1, 1, 1, 0, 1, 0, 1, 0,\n",
       "       1, 1, 0, 0, 1, 1, 0, 1, 1, 1, 0, 0, 1, 1, 1, 0, 0, 1, 1, 1, 0, 1,\n",
       "       0, 1, 1, 0, 0, 1, 0, 0, 0, 0, 0, 0, 1, 1, 1, 1, 1, 0, 1, 1, 1, 1,\n",
       "       0, 1, 0, 1, 1, 0, 0, 0, 0, 0, 0, 1, 1, 1, 0, 1, 0, 1, 0, 1, 0, 1,\n",
       "       0, 0, 0, 0, 1, 1, 1, 1, 0, 0, 0, 0, 0, 1, 1, 1, 1, 1, 1, 1, 0, 0,\n",
       "       0, 1, 1, 0, 0, 1, 1, 0, 1, 1, 1, 1, 1, 1, 0, 1, 0, 0], dtype=int64)"
      ]
     },
     "execution_count": 314,
     "metadata": {},
     "output_type": "execute_result"
    }
   ],
   "source": [
    "clf7.predict(X_test_dtm)"
   ]
  },
  {
   "cell_type": "code",
   "execution_count": 315,
   "metadata": {},
   "outputs": [
    {
     "data": {
      "text/plain": [
       "<809x7007 sparse matrix of type '<class 'numpy.int64'>'\n",
       "\twith 12945 stored elements in Compressed Sparse Row format>"
      ]
     },
     "execution_count": 315,
     "metadata": {},
     "output_type": "execute_result"
    }
   ],
   "source": [
    "X_train_dtm"
   ]
  },
  {
   "cell_type": "code",
   "execution_count": 316,
   "metadata": {},
   "outputs": [
    {
     "data": {
      "image/png": "[encoded data removed]",
      "text/plain": [
       "<Figure size 432x288 with 1 Axes>"
      ]
     },
     "metadata": {
      "needs_background": "light"
     },
     "output_type": "display_data"
    }
   ],
   "source": [
    "from sklearn.metrics import plot_roc_curve,plot_confusion_matrix\n",
    "plot_roc_curve(estimator=clf7,y=y_test,X=X_test_dtm)\n",
    "plt.show()"
   ]
  },
  {
   "cell_type": "code",
   "execution_count": 317,
   "metadata": {},
   "outputs": [
    {
     "data": {
      "image/png": "[encoded data removed]",
      "text/plain": [
       "<Figure size 432x288 with 2 Axes>"
      ]
     },
     "metadata": {
      "needs_background": "light"
     },
     "output_type": "display_data"
    }
   ],
   "source": [
    "plot_confusion_matrix(estimator=clf7,y_true=y_test,X=X_test_dtm)\n",
    "plt.show()"
   ]
  },
  {
   "cell_type": "code",
   "execution_count": null,
   "metadata": {},
   "outputs": [],
   "source": []
  },
  {
   "cell_type": "code",
   "execution_count": null,
   "metadata": {},
   "outputs": [],
   "source": [
    "#VotingClassifier"
   ]
  },
  {
   "cell_type": "code",
   "execution_count": 77,
   "metadata": {},
   "outputs": [],
   "source": [
    "from sklearn.ensemble import VotingClassifier"
   ]
  },
  {
   "cell_type": "code",
   "execution_count": 127,
   "metadata": {},
   "outputs": [],
   "source": [
    "vc = VotingClassifier(estimators=[('dtc' ,DecisionTreeClassifier(criterion='entropy',max_depth=36)),('rfc',RandomForestClassifier(criterion='entropy')),('lr',LogisticRegression())],voting='soft')"
   ]
  },
  {
   "cell_type": "code",
   "execution_count": 128,
   "metadata": {},
   "outputs": [],
   "source": [
    "clf8 = vc.fit(X_train_dtm,y_train)"
   ]
  },
  {
   "cell_type": "code",
   "execution_count": 129,
   "metadata": {},
   "outputs": [
    {
     "data": {
      "text/plain": [
       "936     0\n",
       "599     1\n",
       "339     0\n",
       "617     1\n",
       "501     0\n",
       "       ..\n",
       "1044    1\n",
       "1095    0\n",
       "1130    1\n",
       "860     0\n",
       "1126    1\n",
       "Name: CLASS, Length: 809, dtype: int64"
      ]
     },
     "execution_count": 129,
     "metadata": {},
     "output_type": "execute_result"
    }
   ],
   "source": [
    "y_train"
   ]
  },
  {
   "cell_type": "code",
   "execution_count": 130,
   "metadata": {},
   "outputs": [
    {
     "data": {
      "text/plain": [
       "1    407\n",
       "0    402\n",
       "Name: CLASS, dtype: int64"
      ]
     },
     "execution_count": 130,
     "metadata": {},
     "output_type": "execute_result"
    }
   ],
   "source": [
    "y_train.value_counts()"
   ]
  },
  {
   "cell_type": "code",
   "execution_count": 131,
   "metadata": {},
   "outputs": [
    {
     "data": {
      "text/plain": [
       "array([0, 0, 1, 0, 0, 1, 0, 0, 0, 1, 1, 0, 0, 0, 0, 0, 1, 0, 0, 1, 1, 0,\n",
       "       0, 0, 1, 1, 1, 1, 0, 1, 0, 0, 0, 0, 1, 1, 0, 1, 0, 0, 0, 1, 0, 1,\n",
       "       1, 1, 0, 1, 0, 0, 0, 1, 0, 1, 1, 0, 0, 0, 0, 1, 1, 0, 1, 0, 1, 1,\n",
       "       1, 1, 0, 1, 0, 0, 0, 1, 0, 0, 0, 1, 0, 1, 0, 1, 0, 0, 1, 1, 1, 0,\n",
       "       0, 1, 0, 0, 1, 0, 0, 1, 0, 1, 0, 0, 0, 0, 1, 0, 1, 0, 0, 0, 0, 1,\n",
       "       1, 1, 1, 1, 1, 1, 0, 0, 1, 1, 1, 1, 1, 1, 0, 0, 0, 1, 0, 1, 1, 0,\n",
       "       0, 1, 1, 0, 0, 0, 0, 1, 1, 0, 0, 1, 0, 1, 1, 1, 0, 1, 1, 1, 1, 0,\n",
       "       1, 0, 0, 1, 0, 0, 0, 1, 1, 1, 1, 0, 1, 1, 1, 0, 1, 1, 1, 1, 0, 0,\n",
       "       0, 0, 0, 1, 1, 0, 1, 0, 0, 1, 0, 1, 0, 1, 1, 0, 1, 0, 1, 0, 1, 1,\n",
       "       0, 0, 0, 0, 1, 1, 1, 0, 0, 1, 0, 1, 0, 0, 1, 0, 1, 0, 1, 1, 1, 1,\n",
       "       1, 0, 1, 0, 1, 0, 0, 1, 0, 1, 0, 0, 1, 0, 1, 1, 1, 0, 1, 0, 1, 0,\n",
       "       1, 1, 0, 0, 1, 1, 0, 1, 1, 1, 0, 0, 1, 1, 1, 0, 0, 1, 1, 1, 0, 1,\n",
       "       0, 1, 1, 0, 0, 1, 0, 0, 0, 1, 0, 0, 1, 1, 1, 1, 1, 0, 1, 1, 1, 1,\n",
       "       0, 1, 0, 1, 1, 0, 0, 0, 0, 0, 0, 1, 1, 1, 0, 1, 0, 1, 0, 1, 0, 1,\n",
       "       0, 0, 0, 0, 1, 1, 1, 1, 0, 0, 0, 0, 0, 1, 1, 1, 1, 1, 1, 1, 0, 0,\n",
       "       0, 1, 1, 0, 0, 1, 1, 0, 1, 1, 1, 1, 1, 1, 0, 1, 0, 0], dtype=int64)"
      ]
     },
     "execution_count": 131,
     "metadata": {},
     "output_type": "execute_result"
    }
   ],
   "source": [
    "clf8.predict(X_test_dtm)"
   ]
  },
  {
   "cell_type": "code",
   "execution_count": 132,
   "metadata": {},
   "outputs": [
    {
     "data": {
      "text/plain": [
       "array([[9.64641436e-01, 3.53585638e-02],\n",
       "       [9.70811536e-01, 2.91884638e-02],\n",
       "       [4.23333569e-01, 5.76666431e-01],\n",
       "       [9.42898242e-01, 5.71017578e-02],\n",
       "       [9.74047157e-01, 2.59528429e-02],\n",
       "       [3.40687254e-01, 6.59312746e-01],\n",
       "       [8.75422396e-01, 1.24577604e-01],\n",
       "       [9.61606375e-01, 3.83936253e-02],\n",
       "       [9.90580498e-01, 9.41950237e-03],\n",
       "       [1.06308194e-02, 9.89369181e-01],\n",
       "       [3.93684858e-01, 6.06315142e-01],\n",
       "       [9.75118877e-01, 2.48811226e-02],\n",
       "       [9.11078136e-01, 8.89218636e-02],\n",
       "       [9.87131584e-01, 1.28684155e-02],\n",
       "       [8.64811048e-01, 1.35188952e-01],\n",
       "       [9.77473520e-01, 2.25264802e-02],\n",
       "       [8.59219338e-02, 9.14078066e-01],\n",
       "       [9.65933237e-01, 3.40667633e-02],\n",
       "       [9.87276680e-01, 1.27233201e-02],\n",
       "       [1.24495624e-01, 8.75504376e-01],\n",
       "       [1.07527054e-01, 8.92472946e-01],\n",
       "       [9.74047157e-01, 2.59528429e-02],\n",
       "       [9.51557371e-01, 4.84426291e-02],\n",
       "       [9.51557371e-01, 4.84426291e-02],\n",
       "       [1.35603733e-01, 8.64396267e-01],\n",
       "       [2.95757887e-02, 9.70424211e-01],\n",
       "       [4.33373995e-02, 9.56662600e-01],\n",
       "       [8.44789506e-03, 9.91552105e-01],\n",
       "       [9.49567769e-01, 5.04322309e-02],\n",
       "       [3.02148570e-05, 9.99969785e-01],\n",
       "       [9.74047157e-01, 2.59528429e-02],\n",
       "       [9.03746695e-01, 9.62533049e-02],\n",
       "       [7.79212273e-01, 2.20787727e-01],\n",
       "       [9.65320481e-01, 3.46795187e-02],\n",
       "       [4.08282450e-01, 5.91717550e-01],\n",
       "       [7.15836981e-03, 9.92841630e-01],\n",
       "       [9.41037684e-01, 5.89623160e-02],\n",
       "       [2.00543242e-02, 9.79945676e-01],\n",
       "       [9.56979975e-01, 4.30200253e-02],\n",
       "       [9.51557371e-01, 4.84426291e-02],\n",
       "       [9.88028631e-01, 1.19713686e-02],\n",
       "       [3.62353961e-02, 9.63764604e-01],\n",
       "       [9.74780908e-01, 2.52190921e-02],\n",
       "       [1.41792669e-02, 9.85820733e-01],\n",
       "       [3.06518339e-01, 6.93481661e-01],\n",
       "       [5.97434821e-03, 9.94025652e-01],\n",
       "       [9.25736921e-01, 7.42630795e-02],\n",
       "       [4.18176485e-02, 9.58182351e-01],\n",
       "       [9.89379444e-01, 1.06205558e-02],\n",
       "       [9.72622937e-01, 2.73770630e-02],\n",
       "       [8.99037839e-01, 1.00962161e-01],\n",
       "       [7.01530890e-03, 9.92984691e-01],\n",
       "       [9.46173218e-01, 5.38267820e-02],\n",
       "       [4.40359515e-01, 5.59640485e-01],\n",
       "       [1.21432378e-01, 8.78567622e-01],\n",
       "       [6.31658284e-01, 3.68341716e-01],\n",
       "       [9.78026258e-01, 2.19737415e-02],\n",
       "       [9.23084170e-01, 7.69158304e-02],\n",
       "       [9.12129625e-01, 8.78703753e-02],\n",
       "       [4.97886461e-01, 5.02113539e-01],\n",
       "       [1.82480072e-02, 9.81751993e-01],\n",
       "       [8.73649491e-01, 1.26350509e-01],\n",
       "       [1.06308194e-02, 9.89369181e-01],\n",
       "       [9.90781428e-01, 9.21857179e-03],\n",
       "       [5.90545210e-02, 9.40945479e-01],\n",
       "       [7.01530890e-03, 9.92984691e-01],\n",
       "       [1.16673115e-01, 8.83326885e-01],\n",
       "       [1.44686948e-01, 8.55313052e-01],\n",
       "       [9.76244243e-01, 2.37557567e-02],\n",
       "       [9.51444995e-03, 9.90485550e-01],\n",
       "       [9.11573976e-01, 8.84260237e-02],\n",
       "       [9.85019695e-01, 1.49803052e-02],\n",
       "       [9.48665646e-01, 5.13343540e-02],\n",
       "       [1.19854008e-02, 9.88014599e-01],\n",
       "       [9.74047157e-01, 2.59528429e-02],\n",
       "       [9.56364655e-01, 4.36353454e-02],\n",
       "       [8.95703074e-01, 1.04296926e-01],\n",
       "       [3.00121235e-02, 9.69987877e-01],\n",
       "       [9.27903658e-01, 7.20963419e-02],\n",
       "       [3.87132013e-01, 6.12867987e-01],\n",
       "       [9.61606375e-01, 3.83936253e-02],\n",
       "       [1.17893786e-01, 8.82106214e-01],\n",
       "       [9.38228397e-01, 6.17716034e-02],\n",
       "       [9.68654982e-01, 3.13450185e-02],\n",
       "       [3.66744544e-02, 9.63325546e-01],\n",
       "       [1.37655517e-01, 8.62344483e-01],\n",
       "       [8.44789506e-03, 9.91552105e-01],\n",
       "       [9.88028631e-01, 1.19713686e-02],\n",
       "       [9.75365822e-01, 2.46341777e-02],\n",
       "       [5.97861136e-02, 9.40213886e-01],\n",
       "       [9.71874039e-01, 2.81259612e-02],\n",
       "       [9.58828290e-01, 4.11717102e-02],\n",
       "       [3.33356407e-03, 9.96666436e-01],\n",
       "       [9.58261916e-01, 4.17380837e-02],\n",
       "       [9.75952777e-01, 2.40472227e-02],\n",
       "       [1.79763331e-01, 8.20236669e-01],\n",
       "       [9.62969623e-01, 3.70303772e-02],\n",
       "       [4.16123610e-01, 5.83876390e-01],\n",
       "       [9.70267808e-01, 2.97321916e-02],\n",
       "       [9.51557371e-01, 4.84426291e-02],\n",
       "       [8.38607594e-01, 1.61392406e-01],\n",
       "       [9.00350895e-01, 9.96491054e-02],\n",
       "       [2.46952011e-02, 9.75304799e-01],\n",
       "       [9.86992334e-01, 1.30076663e-02],\n",
       "       [7.48455867e-02, 9.25154413e-01],\n",
       "       [9.57292297e-01, 4.27077029e-02],\n",
       "       [8.51642485e-01, 1.48357515e-01],\n",
       "       [9.44548382e-01, 5.54516177e-02],\n",
       "       [9.32769882e-01, 6.72301183e-02],\n",
       "       [1.32729783e-02, 9.86727022e-01],\n",
       "       [3.46667948e-01, 6.53332052e-01],\n",
       "       [1.06308194e-02, 9.89369181e-01],\n",
       "       [4.47958501e-01, 5.52041499e-01],\n",
       "       [1.04742425e-02, 9.89525758e-01],\n",
       "       [1.05414024e-02, 9.89458598e-01],\n",
       "       [2.77132052e-02, 9.72286795e-01],\n",
       "       [9.92783424e-01, 7.21657573e-03],\n",
       "       [9.83116195e-01, 1.68838045e-02],\n",
       "       [1.21432378e-01, 8.78567622e-01],\n",
       "       [5.46280877e-02, 9.45371912e-01],\n",
       "       [1.60356258e-01, 8.39643742e-01],\n",
       "       [1.82876702e-01, 8.17123298e-01],\n",
       "       [8.44789506e-03, 9.91552105e-01],\n",
       "       [2.65536079e-01, 7.34463921e-01],\n",
       "       [9.02748247e-01, 9.72517527e-02],\n",
       "       [8.85857504e-01, 1.14142496e-01],\n",
       "       [9.72218120e-01, 2.77818798e-02],\n",
       "       [4.18546108e-01, 5.81453892e-01],\n",
       "       [9.56824624e-01, 4.31753760e-02],\n",
       "       [5.94591579e-02, 9.40540842e-01],\n",
       "       [6.33467336e-02, 9.36653266e-01],\n",
       "       [9.47030818e-01, 5.29691821e-02],\n",
       "       [8.57999960e-01, 1.42000040e-01],\n",
       "       [1.83590462e-01, 8.16409538e-01],\n",
       "       [8.44789506e-03, 9.91552105e-01],\n",
       "       [9.08663461e-01, 9.13365394e-02],\n",
       "       [9.90580498e-01, 9.41950237e-03],\n",
       "       [9.85902281e-01, 1.40977188e-02],\n",
       "       [8.80032414e-01, 1.19967586e-01],\n",
       "       [2.13928369e-01, 7.86071631e-01],\n",
       "       [1.50962706e-01, 8.49037294e-01],\n",
       "       [9.77048606e-01, 2.29513943e-02],\n",
       "       [9.88948004e-01, 1.10519960e-02],\n",
       "       [2.57793759e-07, 9.99999742e-01],\n",
       "       [9.49437664e-01, 5.05623358e-02],\n",
       "       [5.02626029e-02, 9.49737397e-01],\n",
       "       [3.12652032e-01, 6.87347968e-01],\n",
       "       [7.36603783e-02, 9.26339622e-01],\n",
       "       [5.70706825e-01, 4.29293175e-01],\n",
       "       [8.32823463e-02, 9.16717654e-01],\n",
       "       [1.19122038e-01, 8.80877962e-01],\n",
       "       [4.62621986e-01, 5.37378014e-01],\n",
       "       [6.44259550e-02, 9.35574045e-01],\n",
       "       [9.25723214e-01, 7.42767860e-02],\n",
       "       [1.03516760e-01, 8.96483240e-01],\n",
       "       [7.46198168e-01, 2.53801832e-01],\n",
       "       [9.36097568e-01, 6.39024315e-02],\n",
       "       [1.82726243e-02, 9.81727376e-01],\n",
       "       [9.75725699e-01, 2.42743005e-02],\n",
       "       [9.78594525e-01, 2.14054747e-02],\n",
       "       [9.74579272e-01, 2.54207278e-02],\n",
       "       [8.44789506e-03, 9.91552105e-01],\n",
       "       [1.45964408e-01, 8.54035592e-01],\n",
       "       [1.08185672e-01, 8.91814328e-01],\n",
       "       [1.23703832e-01, 8.76296168e-01],\n",
       "       [9.85759280e-01, 1.42407199e-02],\n",
       "       [3.68514996e-01, 6.31485004e-01],\n",
       "       [1.23558305e-01, 8.76441695e-01],\n",
       "       [6.61288454e-03, 9.93387115e-01],\n",
       "       [9.72585638e-01, 2.74143616e-02],\n",
       "       [8.44789506e-03, 9.91552105e-01],\n",
       "       [4.34228300e-02, 9.56577170e-01],\n",
       "       [2.44851050e-02, 9.75514895e-01],\n",
       "       [1.23492608e-01, 8.76507392e-01],\n",
       "       [9.84704360e-01, 1.52956403e-02],\n",
       "       [9.66787525e-01, 3.32124751e-02],\n",
       "       [9.93214327e-01, 6.78567307e-03],\n",
       "       [9.52430120e-01, 4.75698805e-02],\n",
       "       [8.37908863e-01, 1.62091137e-01],\n",
       "       [2.75412092e-02, 9.72458791e-01],\n",
       "       [5.38971887e-03, 9.94610281e-01],\n",
       "       [8.96353916e-01, 1.03646084e-01],\n",
       "       [1.06308194e-02, 9.89369181e-01],\n",
       "       [8.70091237e-01, 1.29908763e-01],\n",
       "       [9.50969133e-01, 4.90308672e-02],\n",
       "       [6.13317247e-02, 9.38668275e-01],\n",
       "       [9.88147849e-01, 1.18521513e-02],\n",
       "       [1.07952147e-01, 8.92047853e-01],\n",
       "       [8.27831731e-01, 1.72168269e-01],\n",
       "       [2.98453488e-01, 7.01546512e-01],\n",
       "       [1.00581716e-02, 9.89941828e-01],\n",
       "       [9.51557371e-01, 4.84426291e-02],\n",
       "       [7.68387233e-02, 9.23161277e-01],\n",
       "       [9.90580498e-01, 9.41950237e-03],\n",
       "       [8.20182205e-02, 9.17981780e-01],\n",
       "       [9.87332986e-01, 1.26670136e-02],\n",
       "       [6.28060653e-02, 9.37193935e-01],\n",
       "       [4.33115886e-02, 9.56688411e-01],\n",
       "       [9.21810332e-01, 7.81896678e-02],\n",
       "       [9.75564870e-01, 2.44351302e-02],\n",
       "       [9.81767429e-01, 1.82325709e-02],\n",
       "       [8.96048438e-01, 1.03951562e-01],\n",
       "       [2.33342686e-02, 9.76665731e-01],\n",
       "       [5.89938899e-02, 9.41006110e-01],\n",
       "       [1.46991617e-03, 9.98530084e-01],\n",
       "       [9.84909469e-01, 1.50905306e-02],\n",
       "       [9.75614529e-01, 2.43854713e-02],\n",
       "       [2.77645045e-07, 9.99999722e-01],\n",
       "       [9.79527057e-01, 2.04729432e-02],\n",
       "       [1.22078467e-02, 9.87792153e-01],\n",
       "       [9.51453490e-01, 4.85465098e-02],\n",
       "       [9.66081338e-01, 3.39186620e-02],\n",
       "       [3.88973789e-01, 6.11026211e-01],\n",
       "       [9.82316109e-01, 1.76838913e-02],\n",
       "       [2.05701735e-02, 9.79429826e-01],\n",
       "       [9.29089209e-01, 7.09107912e-02],\n",
       "       [8.44789506e-03, 9.91552105e-01],\n",
       "       [6.61288454e-03, 9.93387115e-01],\n",
       "       [1.61599860e-01, 8.38400140e-01],\n",
       "       [1.48379426e-01, 8.51620574e-01],\n",
       "       [6.61288454e-03, 9.93387115e-01],\n",
       "       [9.81767429e-01, 1.82325709e-02],\n",
       "       [4.17646121e-01, 5.82353879e-01],\n",
       "       [9.73711697e-01, 2.62883025e-02],\n",
       "       [3.82472816e-01, 6.17527184e-01],\n",
       "       [9.85396276e-01, 1.46037240e-02],\n",
       "       [9.51401480e-01, 4.85985204e-02],\n",
       "       [3.02765493e-02, 9.69723451e-01],\n",
       "       [8.11995308e-01, 1.88004692e-01],\n",
       "       [1.07952147e-01, 8.92047853e-01],\n",
       "       [9.72005923e-01, 2.79940771e-02],\n",
       "       [9.91339741e-01, 8.66025914e-03],\n",
       "       [2.57934516e-01, 7.42065484e-01],\n",
       "       [9.58876497e-01, 4.11235027e-02],\n",
       "       [3.29847145e-01, 6.70152855e-01],\n",
       "       [4.17973181e-02, 9.58202682e-01],\n",
       "       [7.59041488e-02, 9.24095851e-01],\n",
       "       [9.44352735e-01, 5.56472653e-02],\n",
       "       [1.05784133e-03, 9.98942159e-01],\n",
       "       [9.57478651e-01, 4.25213485e-02],\n",
       "       [3.87039251e-02, 9.61296075e-01],\n",
       "       [9.43894219e-01, 5.61057809e-02],\n",
       "       [1.82563444e-01, 8.17436556e-01],\n",
       "       [8.44789506e-03, 9.91552105e-01],\n",
       "       [8.86441789e-01, 1.13558211e-01],\n",
       "       [9.19021765e-01, 8.09782354e-02],\n",
       "       [4.38444288e-03, 9.95615557e-01],\n",
       "       [3.33412882e-02, 9.66658712e-01],\n",
       "       [9.86921440e-01, 1.30785605e-02],\n",
       "       [1.19962684e-01, 8.80037316e-01],\n",
       "       [4.18176485e-02, 9.58182351e-01],\n",
       "       [3.02148570e-05, 9.99969785e-01],\n",
       "       [9.63984499e-01, 3.60155006e-02],\n",
       "       [9.51557371e-01, 4.84426291e-02],\n",
       "       [8.44789506e-03, 9.91552105e-01],\n",
       "       [2.25927070e-01, 7.74072930e-01],\n",
       "       [5.01880643e-02, 9.49811936e-01],\n",
       "       [9.01228052e-01, 9.87719477e-02],\n",
       "       [9.21759369e-01, 7.82406308e-02],\n",
       "       [2.44851050e-02, 9.75514895e-01],\n",
       "       [3.02765493e-02, 9.69723451e-01],\n",
       "       [5.18541113e-02, 9.48145889e-01],\n",
       "       [9.66102396e-01, 3.38976038e-02],\n",
       "       [3.34955582e-02, 9.66504442e-01],\n",
       "       [9.29765189e-01, 7.02348109e-02],\n",
       "       [6.39931033e-02, 9.36006897e-01],\n",
       "       [2.25817714e-02, 9.77418229e-01],\n",
       "       [9.65063064e-01, 3.49369360e-02],\n",
       "       [9.72466722e-01, 2.75332775e-02],\n",
       "       [8.44789506e-03, 9.91552105e-01],\n",
       "       [9.51540336e-01, 4.84596635e-02],\n",
       "       [9.66552012e-01, 3.34479876e-02],\n",
       "       [9.70455193e-01, 2.95448070e-02],\n",
       "       [3.99272119e-01, 6.00727881e-01],\n",
       "       [9.06412328e-01, 9.35876724e-02],\n",
       "       [9.53681847e-01, 4.63181530e-02],\n",
       "       [5.20383042e-02, 9.47961696e-01],\n",
       "       [2.44882810e-07, 9.99999755e-01],\n",
       "       [1.82273770e-01, 8.17726230e-01],\n",
       "       [1.44452149e-01, 8.55547851e-01],\n",
       "       [3.86824815e-01, 6.13175185e-01],\n",
       "       [9.36329544e-01, 6.36704564e-02],\n",
       "       [1.06308194e-02, 9.89369181e-01],\n",
       "       [2.68443140e-01, 7.31556860e-01],\n",
       "       [3.47035134e-03, 9.96529649e-01],\n",
       "       [1.06308194e-02, 9.89369181e-01],\n",
       "       [9.43578618e-01, 5.64213824e-02],\n",
       "       [4.18176485e-02, 9.58182351e-01],\n",
       "       [9.51557371e-01, 4.84426291e-02],\n",
       "       [1.06266146e-01, 8.93733854e-01],\n",
       "       [7.27453921e-02, 9.27254608e-01],\n",
       "       [9.42532827e-01, 5.74671729e-02],\n",
       "       [9.58828290e-01, 4.11717102e-02],\n",
       "       [9.63164431e-01, 3.68355688e-02],\n",
       "       [9.63699010e-01, 3.63009899e-02],\n",
       "       [9.78299322e-01, 2.17006780e-02],\n",
       "       [9.91331004e-01, 8.66899553e-03],\n",
       "       [1.57108909e-01, 8.42891091e-01],\n",
       "       [8.44789506e-03, 9.91552105e-01],\n",
       "       [1.53780470e-01, 8.46219530e-01],\n",
       "       [9.85640087e-01, 1.43599133e-02],\n",
       "       [7.85118317e-02, 9.21488168e-01],\n",
       "       [9.62749006e-01, 3.72509939e-02],\n",
       "       [2.41979575e-02, 9.75802042e-01],\n",
       "       [9.51557371e-01, 4.84426291e-02],\n",
       "       [1.06308194e-02, 9.89369181e-01],\n",
       "       [5.68352769e-01, 4.31647231e-01],\n",
       "       [8.44789506e-03, 9.91552105e-01],\n",
       "       [9.61659785e-01, 3.83402151e-02],\n",
       "       [9.90580498e-01, 9.41950237e-03],\n",
       "       [9.76116715e-01, 2.38832846e-02],\n",
       "       [9.90580498e-01, 9.41950237e-03],\n",
       "       [6.44259550e-02, 9.35574045e-01],\n",
       "       [1.33333333e-02, 9.86666667e-01],\n",
       "       [6.44259550e-02, 9.35574045e-01],\n",
       "       [1.00010858e-02, 9.89998914e-01],\n",
       "       [9.40568806e-01, 5.94311940e-02],\n",
       "       [8.36318620e-01, 1.63681380e-01],\n",
       "       [9.83048986e-01, 1.69510139e-02],\n",
       "       [9.51557371e-01, 4.84426291e-02],\n",
       "       [9.57486058e-01, 4.25139422e-02],\n",
       "       [5.11234832e-02, 9.48876517e-01],\n",
       "       [1.06308194e-02, 9.89369181e-01],\n",
       "       [1.06308194e-02, 9.89369181e-01],\n",
       "       [1.01491208e-01, 8.98508792e-01],\n",
       "       [1.08662647e-02, 9.89133735e-01],\n",
       "       [1.92546735e-02, 9.80745327e-01],\n",
       "       [1.32865477e-01, 8.67134523e-01],\n",
       "       [9.53722906e-01, 4.62770940e-02],\n",
       "       [9.29143418e-01, 7.08565824e-02],\n",
       "       [8.59368412e-01, 1.40631588e-01],\n",
       "       [1.45225145e-01, 8.54774855e-01],\n",
       "       [3.31018503e-01, 6.68981497e-01],\n",
       "       [9.62407355e-01, 3.75926453e-02],\n",
       "       [8.82766617e-01, 1.17233383e-01],\n",
       "       [1.03814782e-01, 8.96185218e-01],\n",
       "       [1.27941891e-01, 8.72058109e-01],\n",
       "       [8.12796197e-01, 1.87203803e-01],\n",
       "       [1.41071943e-01, 8.58928057e-01],\n",
       "       [6.21241135e-02, 9.37875886e-01],\n",
       "       [5.57142968e-03, 9.94428570e-01],\n",
       "       [7.06327989e-02, 9.29367201e-01],\n",
       "       [1.71627202e-02, 9.82837280e-01],\n",
       "       [1.01082634e-01, 8.98917366e-01],\n",
       "       [8.89386921e-01, 1.10613079e-01],\n",
       "       [6.44259550e-02, 9.35574045e-01],\n",
       "       [9.74047157e-01, 2.59528429e-02],\n",
       "       [9.76181001e-01, 2.38189986e-02]])"
      ]
     },
     "execution_count": 132,
     "metadata": {},
     "output_type": "execute_result"
    }
   ],
   "source": [
    "clf8.predict_proba(X_test_dtm)"
   ]
  },
  {
   "cell_type": "code",
   "execution_count": 133,
   "metadata": {},
   "outputs": [
    {
     "data": {
      "text/plain": [
       "<809x7007 sparse matrix of type '<class 'numpy.int64'>'\n",
       "\twith 12945 stored elements in Compressed Sparse Row format>"
      ]
     },
     "execution_count": 133,
     "metadata": {},
     "output_type": "execute_result"
    }
   ],
   "source": [
    "X_train_dtm"
   ]
  },
  {
   "cell_type": "code",
   "execution_count": 134,
   "metadata": {},
   "outputs": [
    {
     "data": {
      "image/png": "[encoded data removed]",
      "text/plain": [
       "<Figure size 432x288 with 1 Axes>"
      ]
     },
     "metadata": {
      "needs_background": "light"
     },
     "output_type": "display_data"
    }
   ],
   "source": [
    "from sklearn.metrics import plot_roc_curve,plot_confusion_matrix\n",
    "plot_roc_curve(estimator=clf8,y=y_test,X=X_test_dtm)\n",
    "plt.show()"
   ]
  },
  {
   "cell_type": "code",
   "execution_count": 167,
   "metadata": {},
   "outputs": [
    {
     "data": {
      "image/png": "[encoded data removed]",
      "text/plain": [
       "<Figure size 432x288 with 2 Axes>"
      ]
     },
     "metadata": {
      "needs_background": "light"
     },
     "output_type": "display_data"
    }
   ],
   "source": [
    "plot_confusion_matrix(estimator=clf8,y_true=y_test,X=X_test_dtm)\n",
    "plt.show()"
   ]
  },
  {
   "cell_type": "code",
   "execution_count": null,
   "metadata": {},
   "outputs": [],
   "source": []
  },
  {
   "cell_type": "code",
   "execution_count": null,
   "metadata": {},
   "outputs": [],
   "source": [
    "#RandomForestClassifier with RandomizedSearchCV"
   ]
  },
  {
   "cell_type": "code",
   "execution_count": 48,
   "metadata": {},
   "outputs": [],
   "source": [
    "from sklearn.pipeline import make_pipeline"
   ]
  },
  {
   "cell_type": "code",
   "execution_count": 49,
   "metadata": {},
   "outputs": [],
   "source": [
    "from sklearn.model_selection import RandomizedSearchCV"
   ]
  },
  {
   "cell_type": "code",
   "execution_count": 50,
   "metadata": {},
   "outputs": [],
   "source": [
    "param_distributions_rfc = [{\n",
    "    'randomforestclassifier__criterion' : ['gini','entropy'],\n",
    "    'randomforestclassifier__n_estimators': [int(x) for x in np.linspace(10, 200, num = 50)],\n",
    "    'randomforestclassifier__max_depth': [int(x) for x in np.linspace(2, 10, num = 5)],\n",
    "    'randomforestclassifier__max_features': ['auto', 'sqrt'],\n",
    "}]"
   ]
  },
  {
   "cell_type": "code",
   "execution_count": 51,
   "metadata": {},
   "outputs": [],
   "source": [
    "pipeline_rfc = make_pipeline(RandomForestClassifier(random_state=1))"
   ]
  },
  {
   "cell_type": "code",
   "execution_count": 52,
   "metadata": {},
   "outputs": [],
   "source": [
    "rsRFC = RandomizedSearchCV(pipeline_rfc, param_distributions=param_distributions_rfc,\n",
    "                            scoring='roc_auc',\n",
    "                            cv = 10, refit=True,\n",
    "                            random_state=1)"
   ]
  },
  {
   "cell_type": "code",
   "execution_count": 53,
   "metadata": {},
   "outputs": [
    {
     "data": {
      "text/plain": [
       "RandomizedSearchCV(cv=10,\n",
       "                   estimator=Pipeline(steps=[('randomforestclassifier',\n",
       "                                              RandomForestClassifier(random_state=1))]),\n",
       "                   param_distributions=[{'randomforestclassifier__criterion': ['gini',\n",
       "                                                                               'entropy'],\n",
       "                                         'randomforestclassifier__max_depth': [2,\n",
       "                                                                               4,\n",
       "                                                                               6,\n",
       "                                                                               8,\n",
       "                                                                               10],\n",
       "                                         'randomforestclassifier__max_features': ['auto',\n",
       "                                                                                  'sqrt'],\n",
       "                                         'randomforestclassifier__n_estimators': [10,\n",
       "                                                                                  13,\n",
       "                                                                                  17,\n",
       "                                                                                  21,\n",
       "                                                                                  25,\n",
       "                                                                                  29,\n",
       "                                                                                  33,\n",
       "                                                                                  37,\n",
       "                                                                                  41,\n",
       "                                                                                  44,\n",
       "                                                                                  48,\n",
       "                                                                                  52,\n",
       "                                                                                  56,\n",
       "                                                                                  60,\n",
       "                                                                                  64,\n",
       "                                                                                  68,\n",
       "                                                                                  72,\n",
       "                                                                                  75,\n",
       "                                                                                  79,\n",
       "                                                                                  83,\n",
       "                                                                                  87,\n",
       "                                                                                  91,\n",
       "                                                                                  95,\n",
       "                                                                                  99,\n",
       "                                                                                  103,\n",
       "                                                                                  106,\n",
       "                                                                                  110,\n",
       "                                                                                  114,\n",
       "                                                                                  118,\n",
       "                                                                                  122, ...]}],\n",
       "                   random_state=1, scoring='roc_auc')"
      ]
     },
     "execution_count": 53,
     "metadata": {},
     "output_type": "execute_result"
    }
   ],
   "source": [
    "rsRFC.fit(X_train_dtm,y_train)"
   ]
  },
  {
   "cell_type": "code",
   "execution_count": 54,
   "metadata": {},
   "outputs": [
    {
     "data": {
      "text/plain": [
       "Pipeline(steps=[('randomforestclassifier',\n",
       "                 RandomForestClassifier(criterion='entropy', max_depth=8,\n",
       "                                        n_estimators=192, random_state=1))])"
      ]
     },
     "execution_count": 54,
     "metadata": {},
     "output_type": "execute_result"
    }
   ],
   "source": [
    "clf9 = rsRFC.best_estimator_\n",
    "clf9"
   ]
  },
  {
   "cell_type": "code",
   "execution_count": 55,
   "metadata": {},
   "outputs": [
    {
     "data": {
      "image/png": "[encoded data removed]",
      "text/plain": [
       "<Figure size 432x288 with 1 Axes>"
      ]
     },
     "metadata": {
      "needs_background": "light"
     },
     "output_type": "display_data"
    }
   ],
   "source": [
    "from sklearn.metrics import plot_roc_curve,plot_confusion_matrix\n",
    "plot_roc_curve(estimator=clf9,y=y_test,X=X_test_dtm)\n",
    "plt.show()"
   ]
  },
  {
   "cell_type": "code",
   "execution_count": 278,
   "metadata": {},
   "outputs": [
    {
     "data": {
      "image/png": "[encoded data removed]",
      "text/plain": [
       "<Figure size 432x288 with 2 Axes>"
      ]
     },
     "metadata": {
      "needs_background": "light"
     },
     "output_type": "display_data"
    }
   ],
   "source": [
    "plot_confusion_matrix(estimator=clf9,y_true=y_test,X=X_test_dtm)\n",
    "plt.show()"
   ]
  },
  {
   "cell_type": "code",
   "execution_count": null,
   "metadata": {},
   "outputs": [],
   "source": []
  },
  {
   "cell_type": "markdown",
   "metadata": {},
   "source": [
    "## Building the model on train data set and testing with the test data set"
   ]
  },
  {
   "cell_type": "code",
   "execution_count": 50,
   "metadata": {},
   "outputs": [],
   "source": [
    "X = df_train['CONTENT']\n",
    "y = df_train['CLASS']"
   ]
  },
  {
   "cell_type": "code",
   "execution_count": 51,
   "metadata": {},
   "outputs": [],
   "source": [
    "toNumeric = CountVectorizer(stop_words='english',token_pattern = '[a-zA-Z0-9]+',ngram_range=(1,2))"
   ]
  },
  {
   "cell_type": "code",
   "execution_count": 52,
   "metadata": {},
   "outputs": [
    {
     "data": {
      "text/plain": [
       "CountVectorizer(ngram_range=(1, 2), stop_words='english',\n",
       "                token_pattern='[a-zA-Z0-9]+')"
      ]
     },
     "execution_count": 52,
     "metadata": {},
     "output_type": "execute_result"
    }
   ],
   "source": [
    "toNumeric.fit(X)"
   ]
  },
  {
   "cell_type": "code",
   "execution_count": 53,
   "metadata": {},
   "outputs": [],
   "source": [
    "wordsCV = toNumeric.get_feature_names()"
   ]
  },
  {
   "cell_type": "code",
   "execution_count": 54,
   "metadata": {},
   "outputs": [
    {
     "data": {
      "text/plain": [
       "['0',\n",
       " '0 02',\n",
       " '0 1',\n",
       " '0 amp',\n",
       " '0 efforts',\n",
       " '0 h',\n",
       " '0 lneadw26bfst76vhkjl8pxaey6vmnlvmriudtsfk6vy',\n",
       " '0 lneadw26bft',\n",
       " '0 lneadw26bftvzqt6juehasiefrjg1exi',\n",
       " '0 lneadw26bfunoarag71awgu6tjo6azdkfiun',\n",
       " '0 lneadw26bfvkahxpkenm25fywkyxthsupri6juqsznu',\n",
       " '0 margin',\n",
       " '0 padding',\n",
       " '0 src',\n",
       " '00',\n",
       " '00 43',\n",
       " '00 710000',\n",
       " '00 morning',\n",
       " '00 pass',\n",
       " '000',\n",
       " '000 000',\n",
       " '000 comment',\n",
       " '000 let',\n",
       " '000 month',\n",
       " '000 subscribers',\n",
       " '000 view',\n",
       " '002',\n",
       " '002 018',\n",
       " '018',\n",
       " '018 view',\n",
       " '02',\n",
       " '02 u',\n",
       " '034',\n",
       " '034 783',\n",
       " '04',\n",
       " '04 katy',\n",
       " '047000',\n",
       " '047000 croatia',\n",
       " '05',\n",
       " '05 hahahahah',\n",
       " '053012',\n",
       " '053012 jpg',\n",
       " '08',\n",
       " '08 little',\n",
       " '09',\n",
       " '09 26t22',\n",
       " '0d878a889c',\n",
       " '0f9fa8aa',\n",
       " '0f9fa8aa 243a',\n",
       " '0laviqu2b',\n",
       " '1',\n",
       " '1 00',\n",
       " '1 000',\n",
       " '1 57',\n",
       " '1 700',\n",
       " '1 710',\n",
       " '1 884',\n",
       " '1 africa',\n",
       " '1 amp',\n",
       " '1 bil',\n",
       " '1 billion',\n",
       " '1 cup',\n",
       " '1 day',\n",
       " '1 dollar',\n",
       " '1 ff3',\n",
       " '1 half',\n",
       " '1 icep',\n",
       " '1 know',\n",
       " '1 lt',\n",
       " '1 mabey',\n",
       " '1 man',\n",
       " '1 million',\n",
       " '1 millioon',\n",
       " '1 penny',\n",
       " '1 person',\n",
       " '1 second',\n",
       " '1 song',\n",
       " '1 thank',\n",
       " '1 view',\n",
       " '1 waka',\n",
       " '1 year',\n",
       " '10',\n",
       " '10 15',\n",
       " '10 5',\n",
       " '10 million',\n",
       " '10 months',\n",
       " '100',\n",
       " '100 100',\n",
       " '100 listener',\n",
       " '100 million',\n",
       " '100 subs',\n",
       " '100 subscribers',\n",
       " '100 virus',\n",
       " '100 work',\n",
       " '10000000',\n",
       " '10000000 subscribers',\n",
       " '100007085325116',\n",
       " '10001',\n",
       " '10001 amp',\n",
       " '100877300245414',\n",
       " '100877300245414 https',\n",
       " '10200253113705769',\n",
       " '10200253113705769 amp',\n",
       " '1024',\n",
       " '1024 katy',\n",
       " '104999962146104962510',\n",
       " '104999962146104962510 oid',\n",
       " '104999962146104962510 supermariologan',\n",
       " '10626048',\n",
       " '10626048 expendables',\n",
       " '1073741828',\n",
       " '1073741828 1496241863981208',\n",
       " '1073741830',\n",
       " '1073741830 327568907427561',\n",
       " '1073741943',\n",
       " '1073741943 111719098841907',\n",
       " '109',\n",
       " '109 videos',\n",
       " '11',\n",
       " '11 08',\n",
       " '11 video',\n",
       " '11 year',\n",
       " '111719098841907',\n",
       " '111719098841907 937732262907249',\n",
       " '12',\n",
       " '12 832000',\n",
       " '12 yr',\n",
       " '123',\n",
       " '124',\n",
       " '124 821',\n",
       " '126',\n",
       " '126 521',\n",
       " '128gb',\n",
       " '128gb price',\n",
       " '13',\n",
       " '13 ft',\n",
       " '13 intel',\n",
       " '1337',\n",
       " '134470083389909',\n",
       " '134470083389909 like',\n",
       " '14',\n",
       " '14 15',\n",
       " '14 year',\n",
       " '1442646731',\n",
       " '1495323920744243',\n",
       " '1495323920744243 ref',\n",
       " '1496241863981208',\n",
       " '1496241863981208 1498561870415874',\n",
       " '1496273723978022',\n",
       " '1496273723978022 1073741828',\n",
       " '1498561870415874',\n",
       " '1498561870415874 type',\n",
       " '14gkvdo',\n",
       " '15',\n",
       " '15 45',\n",
       " '15 age',\n",
       " '15 minutes',\n",
       " '15 ps4',\n",
       " '15 year',\n",
       " '15 years',\n",
       " '16',\n",
       " '16 bar',\n",
       " '16 n',\n",
       " '16 year',\n",
       " '161620527267482',\n",
       " '16gb',\n",
       " '16gb new',\n",
       " '17',\n",
       " '17 047000',\n",
       " '17 rapper',\n",
       " '17 year',\n",
       " '17 years',\n",
       " '1727483389',\n",
       " '1727483389 amp',\n",
       " '17yr',\n",
       " '17yr old',\n",
       " '18',\n",
       " '18 55mm',\n",
       " '18 year',\n",
       " '19',\n",
       " '19 best',\n",
       " '19 year',\n",
       " '19255',\n",
       " '19255 0',\n",
       " '1990',\n",
       " '1990 video',\n",
       " '19924',\n",
       " '19924 616375350',\n",
       " '1b',\n",
       " '1b b',\n",
       " '1bi',\n",
       " '1bi view',\n",
       " '1billion',\n",
       " '1billion view',\n",
       " '1firo',\n",
       " '1firo 123',\n",
       " '1hmvtx',\n",
       " '1hmvtx br',\n",
       " '1k',\n",
       " '1k subscribers',\n",
       " '1m',\n",
       " '1m crdits',\n",
       " '1m00s',\n",
       " '1m00s 1',\n",
       " '2',\n",
       " '2 05',\n",
       " '2 1',\n",
       " '2 124',\n",
       " '2 126',\n",
       " '2 19',\n",
       " '2 2billion',\n",
       " '2 39',\n",
       " '2 7',\n",
       " '2 amp',\n",
       " '2 bear',\n",
       " '2 bilion',\n",
       " '2 billion',\n",
       " '2 brothers',\n",
       " '2 channel',\n",
       " '2 girls',\n",
       " '2 halp',\n",
       " '2 hell',\n",
       " '2 holy',\n",
       " '2 latest',\n",
       " '2 million',\n",
       " '2 months',\n",
       " '2 thousands',\n",
       " '2 want',\n",
       " '2 years',\n",
       " '20',\n",
       " '20 fifa',\n",
       " '20 minutes',\n",
       " '20 paypal',\n",
       " '20 subs',\n",
       " '200',\n",
       " '200 galaxy',\n",
       " '200 subscribers',\n",
       " '200 visit',\n",
       " '2004',\n",
       " '2004 check',\n",
       " '2009',\n",
       " '2009 2',\n",
       " '200k',\n",
       " '200k world',\n",
       " '200mm',\n",
       " '200mm 32gb',\n",
       " '2010',\n",
       " '2010 time',\n",
       " '2011',\n",
       " '2011 year',\n",
       " '2012',\n",
       " '2012 just',\n",
       " '2012430',\n",
       " '2012430 reg',\n",
       " '2012bitches',\n",
       " '2013',\n",
       " '2013 09',\n",
       " '2013 facebook',\n",
       " '2013 s',\n",
       " '2014',\n",
       " '2014 11',\n",
       " '2014 134470083389909',\n",
       " '2014 best',\n",
       " '2014 dvdscr',\n",
       " '2014 year',\n",
       " '201470069872822',\n",
       " '201470069872822 amp',\n",
       " '2015',\n",
       " '2015 br',\n",
       " '2015 contest',\n",
       " '2015 d',\n",
       " '2015 fuck',\n",
       " '2015 hi',\n",
       " '2015 im',\n",
       " '2015 like',\n",
       " '2015 likeee',\n",
       " '2015 llikee',\n",
       " '2015 subscribe',\n",
       " '2015 super',\n",
       " '2015 superbowl',\n",
       " '2017',\n",
       " '2017 half',\n",
       " '210',\n",
       " '210 dislike',\n",
       " '2177367',\n",
       " '2177367 vote',\n",
       " '229508',\n",
       " '229508 amp',\n",
       " '23',\n",
       " '23 00',\n",
       " '23 world',\n",
       " '23active',\n",
       " '23active active',\n",
       " '23everydayimvaping',\n",
       " '23everydayimvaping everydayimvaping',\n",
       " '23giraffebruuh',\n",
       " '23giraffebruuh giraffebruuh',\n",
       " '23kinglothedancer',\n",
       " '23kinglothedancer kinglothedancer',\n",
       " '23lmfao',\n",
       " '23lmfao lmfao',\n",
       " '243a',\n",
       " '243a 5c2f',\n",
       " '247',\n",
       " '247 920',\n",
       " '25',\n",
       " '25 35',\n",
       " '25 life',\n",
       " '25 thank',\n",
       " '250',\n",
       " '250 ipad',\n",
       " '25000',\n",
       " '25000 subscribers',\n",
       " '251638183951',\n",
       " '251638183951 sspagename',\n",
       " '25874',\n",
       " '25874 2177367',\n",
       " '26',\n",
       " '26 12',\n",
       " '26032883',\n",
       " '26032883 love',\n",
       " '26t22',\n",
       " '26t22 00',\n",
       " '26t22 15',\n",
       " '26t22 23',\n",
       " '26t22 26',\n",
       " '26t22 28',\n",
       " '279',\n",
       " '279 898',\n",
       " '28',\n",
       " '28 17',\n",
       " '2asfn9shghk',\n",
       " '2asfn9shghk amp',\n",
       " '2b',\n",
       " '2b hits',\n",
       " '2billion',\n",
       " '2billion hit',\n",
       " '2billion people',\n",
       " '2billion view',\n",
       " '2m19s',\n",
       " '2m19s 2',\n",
       " '2tggp3pv6l',\n",
       " '2tggp3pv6l song',\n",
       " '2x10',\n",
       " '2x10 9',\n",
       " '3',\n",
       " '3 0',\n",
       " '3 000',\n",
       " '3 2014',\n",
       " '3 40',\n",
       " '3 46',\n",
       " '3 amp',\n",
       " '3 billion',\n",
       " '3 br',\n",
       " '3 dollars',\n",
       " '3 empire',\n",
       " '3 hackers',\n",
       " '3 katy',\n",
       " '3 lt',\n",
       " '3 minutes',\n",
       " '3 shakira',\n",
       " '3 song',\n",
       " '3 vids',\n",
       " '3 vote',\n",
       " '3 xx',\n",
       " '30',\n",
       " '30 sec',\n",
       " '300',\n",
       " '300 subscribers',\n",
       " '3000',\n",
       " '3000 subscribers',\n",
       " '302703146601369',\n",
       " '313327',\n",
       " '313327 help',\n",
       " '314',\n",
       " '320',\n",
       " '320 camera',\n",
       " '327568907427561',\n",
       " '327568907427561 333607726823679',\n",
       " '32gb',\n",
       " '32gb black',\n",
       " '32gb price',\n",
       " '32gb unlock',\n",
       " '33',\n",
       " '333607726823679',\n",
       " '333607726823679 type',\n",
       " '333608120156973',\n",
       " '333608120156973 1073741830',\n",
       " '33gxrf',\n",
       " '33gxrf brt0u5',\n",
       " '35',\n",
       " '35 hour',\n",
       " '360',\n",
       " '360 sony',\n",
       " '365',\n",
       " '365 days',\n",
       " '385',\n",
       " '385 samsung',\n",
       " '389088',\n",
       " '389088 sheilcen',\n",
       " '39',\n",
       " '39 africans',\n",
       " '39 cuz',\n",
       " '39 d',\n",
       " '39 days',\n",
       " '39 good',\n",
       " '39 great',\n",
       " '39 help',\n",
       " '39 ll',\n",
       " '39 m',\n",
       " '39 palastine',\n",
       " '39 quot',\n",
       " '39 s',\n",
       " '39 t',\n",
       " '39 ve',\n",
       " '39 watch',\n",
       " '390',\n",
       " '390 apple',\n",
       " '390 ultrabooks',\n",
       " '3d',\n",
       " '3d lead',\n",
       " '3m',\n",
       " '3m subscribers',\n",
       " '3m40s',\n",
       " '3m40s 3',\n",
       " '3rd',\n",
       " '3rd mix',\n",
       " '4',\n",
       " '4 0',\n",
       " '4 11',\n",
       " '4 16gb',\n",
       " '4 200',\n",
       " '4 6',\n",
       " '4 fuck',\n",
       " '4 inch',\n",
       " '4 months',\n",
       " '4 song',\n",
       " '4 years',\n",
       " '40',\n",
       " '40 hours',\n",
       " '40 href',\n",
       " '4000',\n",
       " '4000 5000',\n",
       " '4000 view',\n",
       " '4000dollars',\n",
       " '4000dollars month',\n",
       " '41',\n",
       " '41 39',\n",
       " '43',\n",
       " '43 613000',\n",
       " '4344749',\n",
       " '4477063',\n",
       " '447935454150',\n",
       " '447935454150 lovely',\n",
       " '4483179854075',\n",
       " '4483179854075 amp',\n",
       " '45',\n",
       " '45 476000',\n",
       " '46',\n",
       " '46 cute',\n",
       " '46 invisible',\n",
       " '4604617',\n",
       " '476000',\n",
       " '476000 fuck',\n",
       " '482',\n",
       " '482 940',\n",
       " '490',\n",
       " '490 000',\n",
       " '4g',\n",
       " '4g 9',\n",
       " '4gb',\n",
       " '4gb 128gb',\n",
       " '4m11s',\n",
       " '4m11s 4',\n",
       " '4netjobs',\n",
       " '4netjobs com',\n",
       " '4s',\n",
       " '4s 4',\n",
       " '4th',\n",
       " '4th amendment',\n",
       " '4th gen',\n",
       " '4th sell',\n",
       " '5',\n",
       " '5 5s',\n",
       " '5 comforter',\n",
       " '5 complain',\n",
       " '5 dollars',\n",
       " '5 hours',\n",
       " '5 latest',\n",
       " '5 milions',\n",
       " '5 minutes',\n",
       " '5 months',\n",
       " '5 star',\n",
       " '5 subscribers',\n",
       " '5 years',\n",
       " '50',\n",
       " '50 million',\n",
       " '50 sub',\n",
       " '500',\n",
       " '500 like',\n",
       " '500 new',\n",
       " '500 subscribers',\n",
       " '5000',\n",
       " '5000 monthly',\n",
       " '5000 sub',\n",
       " '500k',\n",
       " '500k video',\n",
       " '500m',\n",
       " '500m 1',\n",
       " '505b0232',\n",
       " '505b0232 https',\n",
       " '5094',\n",
       " '5094 amp',\n",
       " '50k',\n",
       " '50k month',\n",
       " '510',\n",
       " '510 pcs',\n",
       " '515',\n",
       " '515 purchase',\n",
       " '521',\n",
       " '521 750',\n",
       " '5242575',\n",
       " '5277478',\n",
       " '5277478 comment',\n",
       " '5337555197',\n",
       " '5337555197 amp',\n",
       " '53481',\n",
       " '53481 19255',\n",
       " '543627485763966',\n",
       " '543627485763966 amp',\n",
       " '55',\n",
       " '55 200mm',\n",
       " '5575096797',\n",
       " '5575096797 amp',\n",
       " '55mm',\n",
       " '55mm 55',\n",
       " '566',\n",
       " '566 000',\n",
       " '57',\n",
       " '57 lol',\n",
       " '5800',\n",
       " '5800 ll',\n",
       " '5af506e1',\n",
       " '5c',\n",
       " '5c 4s',\n",
       " '5c2f',\n",
       " '5c2f c349',\n",
       " '5million',\n",
       " '5million comment',\n",
       " '5million fake',\n",
       " '5s',\n",
       " '5s 5c',\n",
       " '5th',\n",
       " '5th view',\n",
       " '5tu9gn1l310',\n",
       " '6',\n",
       " '6 500',\n",
       " '6 month',\n",
       " '6 months',\n",
       " '6 n',\n",
       " '6 old',\n",
       " '6 years',\n",
       " '60',\n",
       " '60 6',\n",
       " '60 inch',\n",
       " '60 years',\n",
       " '600',\n",
       " '600 60',\n",
       " '600 million',\n",
       " '600 quid',\n",
       " '600m',\n",
       " '600m views',\n",
       " '613000',\n",
       " '613000 hey',\n",
       " '616375350',\n",
       " '6174122',\n",
       " '6174122 fan',\n",
       " '629',\n",
       " '629 million',\n",
       " '6381501',\n",
       " '6381501 timothy',\n",
       " '661',\n",
       " '661 million',\n",
       " '666',\n",
       " '666 002',\n",
       " '666 katy',\n",
       " '666 million',\n",
       " '666 people',\n",
       " '674732645945877',\n",
       " '694',\n",
       " '694 view',\n",
       " '6th',\n",
       " '6th grade',\n",
       " '7',\n",
       " '7 bilion',\n",
       " '7 billion',\n",
       " '7 inch',\n",
       " '7 million',\n",
       " '7 noms',\n",
       " '7 people',\n",
       " '700',\n",
       " '700 000',\n",
       " '710',\n",
       " '710 53481',\n",
       " '710000',\n",
       " '710000 600m',\n",
       " '733634264',\n",
       " '733634264 visortwin',\n",
       " '733949243353321',\n",
       " '733949243353321 comment',\n",
       " '734237113324534',\n",
       " '734237113324534 amp',\n",
       " '74',\n",
       " '74 like',\n",
       " '750',\n",
       " '750 view',\n",
       " '775510675841486',\n",
       " '783',\n",
       " '783 view',\n",
       " '79',\n",
       " '7in',\n",
       " '7in white',\n",
       " '7k',\n",
       " '7k subscribers',\n",
       " '8',\n",
       " '800',\n",
       " '800 m',\n",
       " '800 mil',\n",
       " '82',\n",
       " '82 d9',\n",
       " '821',\n",
       " '821 694',\n",
       " '824',\n",
       " '824 amp',\n",
       " '832000',\n",
       " '832000 nice',\n",
       " '84',\n",
       " '84 d8',\n",
       " '85',\n",
       " '85 d9',\n",
       " '851',\n",
       " '851 247',\n",
       " '857',\n",
       " '857 482',\n",
       " '860',\n",
       " '860 000',\n",
       " '868',\n",
       " '868 mio',\n",
       " '8692160',\n",
       " '8692160 home',\n",
       " '87',\n",
       " '87 cypher',\n",
       " '870',\n",
       " '870 000',\n",
       " '88',\n",
       " '88 d8',\n",
       " '884',\n",
       " '884 034',\n",
       " '89',\n",
       " '89 music',\n",
       " '898',\n",
       " '898 youtube',\n",
       " '89c',\n",
       " '89c c3',\n",
       " '89iyec7nrwp5nytno5u7amhvmflutggl',\n",
       " '89iyec7nrwp5nytno5u7amhvmflutggl amp',\n",
       " '8a',\n",
       " '8a d9',\n",
       " '8bit',\n",
       " '8bit music',\n",
       " '8bit remix',\n",
       " '8bit remixes',\n",
       " '9',\n",
       " '9 7in',\n",
       " '9 months',\n",
       " '9 view',\n",
       " '90',\n",
       " '90 amp',\n",
       " '902099',\n",
       " '902099 amp',\n",
       " '920',\n",
       " '920 br',\n",
       " '9277547',\n",
       " '9277547 peace',\n",
       " '936868579660284',\n",
       " '936868579660284 1073741943',\n",
       " '937732262907249',\n",
       " '937732262907249 type',\n",
       " '940',\n",
       " '940 view',\n",
       " '969',\n",
       " '969 210',\n",
       " '999999999',\n",
       " '999999999 gt',\n",
       " '9bzkp7q19f0',\n",
       " '9gag',\n",
       " '9gag com',\n",
       " '9nl',\n",
       " '9nl make',\n",
       " 'a7',\n",
       " 'a7 d8',\n",
       " 'a7 d9',\n",
       " 'aa',\n",
       " 'aa d8',\n",
       " 'aaas',\n",
       " 'aaas org',\n",
       " 'aavpwj9',\n",
       " 'abbas',\n",
       " 'abbas 2013',\n",
       " 'ablaze',\n",
       " 'ablaze crabby',\n",
       " 'able',\n",
       " 'able advertise',\n",
       " 'able cover',\n",
       " 'abominable',\n",
       " 'abominable generation',\n",
       " 'abomination',\n",
       " 'abomination clap',\n",
       " 'abonner',\n",
       " 'abonner ma',\n",
       " 'absolutely',\n",
       " 'absolutely adore',\n",
       " 'absolutely amaze',\n",
       " 'absolutely beautiful',\n",
       " 'absolutely gorgeous',\n",
       " 'abused',\n",
       " 'abused mistreated',\n",
       " 'abusive',\n",
       " 'abusive relationship',\n",
       " 'abusive tower',\n",
       " 'ac',\n",
       " 'ac d9',\n",
       " 'acaer',\n",
       " 'acaer chillpal',\n",
       " 'acceptance',\n",
       " 'acceptance speech',\n",
       " 'access',\n",
       " 'access internet',\n",
       " 'accidental',\n",
       " 'accidental pepelexa',\n",
       " 'account',\n",
       " 'account 389088',\n",
       " 'account hack',\n",
       " 'account just',\n",
       " 'account ll',\n",
       " 'account psy',\n",
       " 'account wont',\n",
       " 'acidic',\n",
       " 'acidic stretch',\n",
       " 'acquire',\n",
       " 'acquire bonus',\n",
       " 'act',\n",
       " 'act like',\n",
       " 'act renewal',\n",
       " 'active',\n",
       " 'active bad',\n",
       " 'active child',\n",
       " 'active youtube',\n",
       " 'actor',\n",
       " 'actor hwang',\n",
       " 'actorid',\n",
       " 'actorid 1442646731',\n",
       " 'actors',\n",
       " 'actors actresses',\n",
       " 'actresses',\n",
       " 'actresses singers',\n",
       " 'actual',\n",
       " 'actual best',\n",
       " 'actually',\n",
       " 'actually buy',\n",
       " 'actually didn',\n",
       " 'actually loss',\n",
       " 'actually respect',\n",
       " 'ad',\n",
       " 'ad d9',\n",
       " 'ad don',\n",
       " 'adam',\n",
       " 'adam b',\n",
       " 'adam whitney',\n",
       " 'add',\n",
       " 'add follow',\n",
       " 'add hit',\n",
       " 'add mee',\n",
       " 'addition',\n",
       " 'addition design',\n",
       " 'adele',\n",
       " 'adele n',\n",
       " 'adf',\n",
       " 'adf ly',\n",
       " 'adhoc',\n",
       " 'adhoc weak',\n",
       " 'admirable',\n",
       " 'admirable pray',\n",
       " 'admit',\n",
       " 'admit just',\n",
       " 'adore',\n",
       " 'adore watch',\n",
       " 'adsense',\n",
       " 'adsense view',\n",
       " 'advance',\n",
       " 'advance guy',\n",
       " 'advertise',\n",
       " 'advertise channel',\n",
       " 'advertise simple',\n",
       " 'advertise wont',\n",
       " 'advertisements',\n",
       " 'advertisements chance',\n",
       " 'advertisiments',\n",
       " 'advertisiments chance',\n",
       " 'affiliate',\n",
       " 'affiliate company',\n",
       " 'afflict',\n",
       " 'afflict pray',\n",
       " 'afford',\n",
       " 'afford mri',\n",
       " 'afraid',\n",
       " 'africa',\n",
       " 'africa 2',\n",
       " 'africa african',\n",
       " 'africa br',\n",
       " 'africa check',\n",
       " 'africa quot',\n",
       " 'africa shame',\n",
       " 'african',\n",
       " 'african people',\n",
       " 'african quot',\n",
       " 'africans',\n",
       " 'africans colour',\n",
       " 'age',\n",
       " 'age 46',\n",
       " 'age don',\n",
       " 'ago',\n",
       " 'ago ancestors',\n",
       " 'ago bring',\n",
       " 'ago damn',\n",
       " 'ago justin',\n",
       " 'ago promise',\n",
       " 'ago song',\n",
       " 'agree',\n",
       " 'agree just',\n",
       " 'ah',\n",
       " 'ah good',\n",
       " 'ahead',\n",
       " 'ahead roughly',\n",
       " 'ahhh',\n",
       " 'ahhh 2',\n",
       " 'ahhh life',\n",
       " 'aiiima',\n",
       " 'aiiima plzzz',\n",
       " 'aimbwbfqbzg',\n",
       " 'aimbwbfqbzg watch',\n",
       " 'ain',\n",
       " 'ain 39',\n",
       " 'air',\n",
       " 'air price',\n",
       " 'airplane',\n",
       " 'airplane crash',\n",
       " 'aka',\n",
       " 'aka soccer',\n",
       " 'al',\n",
       " 'al ma',\n",
       " 'album',\n",
       " 'album click',\n",
       " 'alcoholic',\n",
       " 'alcoholic 15',\n",
       " 'alcoholic responsible',\n",
       " 'alex',\n",
       " 'alex serov',\n",
       " 'alfred',\n",
       " 'alfred sadly',\n",
       " 'ali',\n",
       " 'ali pa',\n",
       " 'alive',\n",
       " 'alive subscribe',\n",
       " 'alive zombie',\n",
       " 'allot',\n",
       " 'allot effort',\n",
       " 'allow',\n",
       " 'allow gwar',\n",
       " 'allways',\n",
       " 'allways laugh',\n",
       " 'almond',\n",
       " 'almond eyes',\n",
       " 'aloidia',\n",
       " 'aloidia cheilith',\n",
       " 'alot',\n",
       " 'alot girls',\n",
       " 'alright',\n",
       " 'alright ladies',\n",
       " 'alternate',\n",
       " 'alternate end',\n",
       " 'alvar',\n",
       " 'alvar lake',\n",
       " 'amaze',\n",
       " 'amaze hope',\n",
       " 'amaze omg',\n",
       " 'amaze result',\n",
       " 'amaze smiley',\n",
       " 'amaze song',\n",
       " 'amazon',\n",
       " 'amazon ebay',\n",
       " 'ambition',\n",
       " 'ambition subscribe',\n",
       " 'amendment',\n",
       " 'amendment right',\n",
       " 'america',\n",
       " 'american',\n",
       " 'americans',\n",
       " 'americans patriot',\n",
       " 'amiable',\n",
       " 'amiable pray',\n",
       " 'amp',\n",
       " 'amp 100',\n",
       " 'amp 39',\n",
       " 'amp actorid',\n",
       " 'amp campid',\n",
       " 'amp chillstep',\n",
       " 'amp crea',\n",
       " 'amp csrftoken',\n",
       " 'amp customid',\n",
       " 'amp dj',\n",
       " 'amp dref',\n",
       " 'amp earn',\n",
       " 'amp easy',\n",
       " 'amp feature',\n",
       " 'amp follow',\n",
       " 'amp god',\n",
       " 'amp hl',\n",
       " 'amp house',\n",
       " 'amp icep',\n",
       " 'amp ipn',\n",
       " 'amp keyboards',\n",
       " 'amp keyword',\n",
       " 'amp kw',\n",
       " 'amp kwid',\n",
       " 'amp l',\n",
       " 'amp list',\n",
       " 'amp mpt',\n",
       " 'amp mtid',\n",
       " 'amp offset',\n",
       " 'amp permpage',\n",
       " 'amp play',\n",
       " 'amp pub',\n",
       " 'amp ref',\n",
       " 'amp rrid',\n",
       " 'amp set',\n",
       " 'amp share',\n",
       " 'amp size',\n",
       " 'amp sort',\n",
       " 'amp store',\n",
       " 'amp subscribe',\n",
       " 'amp t',\n",
       " 'amp theater',\n",
       " 'amp toolid',\n",
       " 'amp total',\n",
       " 'amp trksid',\n",
       " 'amp type',\n",
       " 'amp use',\n",
       " 'ana',\n",
       " 'ana suck',\n",
       " 'anand',\n",
       " 'anand niketan',\n",
       " 'ancestors',\n",
       " 'ancestors leave',\n",
       " 'anderson',\n",
       " 'anderson 39',\n",
       " 'android',\n",
       " 'android game',\n",
       " 'android photo',\n",
       " 'angel',\n",
       " 'angel rookie',\n",
       " 'angels',\n",
       " 'angels n',\n",
       " 'angels pray',\n",
       " 'angry',\n",
       " 'angry minecraft',\n",
       " 'animal',\n",
       " 'animal organizations',\n",
       " 'animals',\n",
       " 'animals fund',\n",
       " 'animals like',\n",
       " 'animals ones',\n",
       " 'animes',\n",
       " 'animes mp3',\n",
       " 'annoy',\n",
       " 'annoy check',\n",
       " 'annoy hell',\n",
       " 'annoy spammed',\n",
       " 'annoy spare',\n",
       " 'annoying',\n",
       " 'ans',\n",
       " 'ans katy',\n",
       " 'anthem',\n",
       " 'anthem ft',\n",
       " 'antrobofficial',\n",
       " 'anular',\n",
       " 'anular os',\n",
       " 'anxious',\n",
       " 'anxious regret',\n",
       " 'anymore',\n",
       " ...]"
      ]
     },
     "execution_count": 54,
     "metadata": {},
     "output_type": "execute_result"
    }
   ],
   "source": [
    "wordsCV"
   ]
  },
  {
   "cell_type": "code",
   "execution_count": 55,
   "metadata": {},
   "outputs": [
    {
     "data": {
      "text/plain": [
       "9590"
      ]
     },
     "execution_count": 55,
     "metadata": {},
     "output_type": "execute_result"
    }
   ],
   "source": [
    "len(wordsCV)"
   ]
  },
  {
   "cell_type": "code",
   "execution_count": 56,
   "metadata": {},
   "outputs": [],
   "source": [
    "X_train_dtmF = toNumeric.transform(X)"
   ]
  },
  {
   "cell_type": "code",
   "execution_count": 57,
   "metadata": {},
   "outputs": [
    {
     "data": {
      "text/plain": [
       "<1157x9590 sparse matrix of type '<class 'numpy.int64'>'\n",
       "\twith 19122 stored elements in Compressed Sparse Row format>"
      ]
     },
     "execution_count": 57,
     "metadata": {},
     "output_type": "execute_result"
    }
   ],
   "source": [
    "X_train_dtmF"
   ]
  },
  {
   "cell_type": "code",
   "execution_count": 58,
   "metadata": {},
   "outputs": [
    {
     "data": {
      "text/plain": [
       "array([[0, 0, 0, ..., 0, 0, 0],\n",
       "       [0, 0, 0, ..., 0, 0, 0],\n",
       "       [0, 0, 0, ..., 0, 0, 0],\n",
       "       ...,\n",
       "       [0, 0, 0, ..., 0, 0, 0],\n",
       "       [0, 0, 0, ..., 0, 0, 0],\n",
       "       [0, 0, 0, ..., 0, 0, 0]], dtype=int64)"
      ]
     },
     "execution_count": 58,
     "metadata": {},
     "output_type": "execute_result"
    }
   ],
   "source": [
    "X_train_dtmF.toarray()"
   ]
  },
  {
   "cell_type": "code",
   "execution_count": 59,
   "metadata": {},
   "outputs": [],
   "source": [
    "Xtest = df_test.CONTENT"
   ]
  },
  {
   "cell_type": "code",
   "execution_count": 60,
   "metadata": {},
   "outputs": [
    {
     "data": {
      "text/plain": [
       "<799x9590 sparse matrix of type '<class 'numpy.int64'>'\n",
       "\twith 7852 stored elements in Compressed Sparse Row format>"
      ]
     },
     "execution_count": 60,
     "metadata": {},
     "output_type": "execute_result"
    }
   ],
   "source": [
    "X_test_dtmF = toNumeric.transform(Xtest)\n",
    "X_test_dtmF"
   ]
  },
  {
   "cell_type": "code",
   "execution_count": 61,
   "metadata": {},
   "outputs": [
    {
     "data": {
      "text/plain": [
       "array([[0, 0, 0, ..., 0, 0, 0],\n",
       "       [0, 0, 0, ..., 0, 0, 0],\n",
       "       [0, 0, 0, ..., 0, 0, 0],\n",
       "       ...,\n",
       "       [0, 0, 0, ..., 0, 0, 0],\n",
       "       [0, 0, 0, ..., 0, 0, 0],\n",
       "       [0, 0, 0, ..., 0, 0, 0]], dtype=int64)"
      ]
     },
     "execution_count": 61,
     "metadata": {},
     "output_type": "execute_result"
    }
   ],
   "source": [
    "X_test_dtmF.toarray()"
   ]
  },
  {
   "cell_type": "code",
   "execution_count": null,
   "metadata": {},
   "outputs": [],
   "source": []
  },
  {
   "cell_type": "code",
   "execution_count": null,
   "metadata": {},
   "outputs": [],
   "source": [
    "#LogisticRegression"
   ]
  },
  {
   "cell_type": "code",
   "execution_count": 62,
   "metadata": {},
   "outputs": [],
   "source": [
    "lr = LogisticRegression()"
   ]
  },
  {
   "cell_type": "code",
   "execution_count": 63,
   "metadata": {},
   "outputs": [],
   "source": [
    "clf_1 = lr.fit(X_train_dtmF,y)"
   ]
  },
  {
   "cell_type": "code",
   "execution_count": 64,
   "metadata": {},
   "outputs": [],
   "source": [
    "y_pred = clf_1.predict(X_test_dtmF)"
   ]
  },
  {
   "cell_type": "code",
   "execution_count": 65,
   "metadata": {},
   "outputs": [
    {
     "data": {
      "text/plain": [
       "array([1, 0, 1, 0, 1, 1, 1, 1, 1, 1, 0, 1, 0, 1, 1, 0, 1, 1, 1, 1, 0, 1,\n",
       "       1, 1, 0, 1, 0, 0, 0, 0, 1, 1, 1, 1, 0, 1, 1, 1, 1, 1, 0, 1, 1, 0,\n",
       "       1, 0, 0, 0, 0, 1, 0, 0, 1, 0, 1, 1, 1, 1, 1, 1, 1, 1, 1, 1, 1, 1,\n",
       "       0, 1, 1, 0, 0, 0, 0, 1, 1, 1, 1, 0, 0, 0, 0, 0, 0, 0, 0, 1, 0, 1,\n",
       "       0, 1, 0, 1, 0, 0, 0, 0, 0, 0, 0, 0, 0, 0, 0, 0, 0, 0, 0, 0, 0, 0,\n",
       "       0, 1, 0, 0, 0, 0, 0, 0, 1, 1, 1, 0, 1, 1, 0, 0, 0, 1, 1, 0, 1, 1,\n",
       "       1, 0, 1, 0, 0, 1, 1, 1, 1, 1, 1, 1, 1, 1, 1, 1, 1, 1, 1, 1, 1, 0,\n",
       "       0, 1, 1, 1, 1, 1, 0, 0, 1, 0, 1, 1, 0, 0, 0, 1, 0, 1, 1, 0, 1, 0,\n",
       "       1, 0, 0, 0, 0, 0, 0, 0, 0, 0, 1, 0, 0, 0, 0, 0, 1, 1, 0, 1, 1, 0,\n",
       "       0, 1, 1, 0, 0, 0, 0, 1, 1, 1, 0, 1, 1, 1, 0, 0, 0, 0, 1, 0, 0, 1,\n",
       "       0, 0, 1, 1, 1, 0, 1, 1, 1, 0, 0, 1, 0, 1, 0, 0, 0, 0, 1, 0, 1, 0,\n",
       "       1, 0, 0, 1, 0, 1, 0, 1, 0, 0, 1, 1, 1, 1, 0, 0, 0, 0, 0, 0, 0, 0,\n",
       "       1, 0, 1, 0, 1, 0, 0, 1, 1, 1, 1, 1, 0, 0, 0, 0, 0, 0, 0, 0, 0, 0,\n",
       "       0, 0, 0, 0, 0, 0, 1, 0, 0, 0, 0, 0, 0, 0, 0, 0, 0, 0, 0, 0, 0, 0,\n",
       "       1, 0, 0, 0, 0, 0, 0, 0, 0, 0, 0, 0, 0, 0, 0, 0, 0, 0, 0, 1, 0, 0,\n",
       "       0, 0, 0, 0, 0, 0, 0, 0, 0, 0, 0, 0, 0, 0, 0, 0, 0, 1, 0, 0, 0, 0,\n",
       "       0, 0, 1, 1, 1, 1, 1, 1, 1, 1, 1, 1, 1, 1, 1, 0, 1, 1, 1, 1, 1, 1,\n",
       "       0, 1, 1, 1, 1, 1, 1, 1, 0, 1, 1, 1, 1, 1, 1, 1, 1, 1, 0, 1, 1, 1,\n",
       "       1, 1, 1, 1, 1, 1, 1, 1, 1, 1, 1, 1, 1, 1, 1, 1, 1, 1, 1, 1, 1, 1,\n",
       "       1, 1, 1, 0, 1, 1, 1, 1, 1, 1, 1, 1, 1, 1, 1, 0, 0, 0, 1, 0, 0, 0,\n",
       "       0, 1, 0, 0, 0, 0, 0, 0, 0, 1, 1, 1, 0, 0, 1, 1, 0, 0, 0, 0, 1, 1,\n",
       "       1, 1, 1, 1, 0, 1, 0, 1, 1, 1, 0, 0, 1, 1, 1, 0, 1, 0, 0, 0, 1, 0,\n",
       "       1, 0, 1, 0, 1, 0, 1, 1, 1, 0, 1, 0, 0, 0, 0, 1, 0, 1, 0, 0, 0, 1,\n",
       "       1, 1, 1, 0, 0, 1, 0, 0, 0, 1, 0, 0, 0, 0, 0, 0, 1, 0, 1, 1, 1, 1,\n",
       "       0, 0, 1, 1, 0, 0, 1, 1, 0, 0, 0, 0, 1, 1, 0, 0, 1, 0, 1, 0, 1, 0,\n",
       "       1, 1, 1, 0, 1, 1, 1, 1, 1, 0, 0, 1, 0, 1, 1, 1, 1, 0, 1, 1, 0, 0,\n",
       "       0, 0, 1, 1, 0, 1, 1, 1, 1, 1, 0, 1, 1, 1, 1, 1, 1, 1, 0, 0, 1, 1,\n",
       "       0, 1, 0, 1, 1, 0, 1, 1, 0, 0, 0, 0, 0, 1, 1, 1, 1, 0, 1, 1, 0, 0,\n",
       "       0, 0, 0, 1, 0, 0, 1, 0, 1, 0, 0, 1, 0, 0, 1, 0, 1, 1, 1, 0, 1, 1,\n",
       "       0, 1, 1, 1, 0, 0, 0, 0, 0, 0, 0, 0, 0, 0, 0, 0, 1, 0, 0, 0, 0, 0,\n",
       "       0, 0, 0, 0, 0, 0, 0, 0, 1, 0, 0, 0, 1, 0, 0, 0, 0, 0, 1, 0, 0, 0,\n",
       "       0, 0, 0, 0, 0, 0, 0, 0, 0, 1, 0, 0, 0, 0, 0, 0, 0, 0, 0, 0, 0, 1,\n",
       "       1, 1, 1, 1, 1, 1, 1, 1, 1, 1, 1, 1, 1, 1, 1, 1, 1, 1, 1, 1, 1, 1,\n",
       "       1, 1, 1, 1, 1, 1, 0, 0, 0, 0, 0, 0, 0, 0, 0, 0, 1, 0, 0, 0, 0, 0,\n",
       "       0, 0, 1, 1, 1, 1, 1, 1, 0, 0, 0, 0, 0, 0, 0, 0, 0, 1, 1, 1, 1, 1,\n",
       "       1, 1, 1, 0, 1, 1, 1, 1, 1, 1, 1, 1, 1, 1, 1, 1, 1, 1, 1, 0, 0, 0,\n",
       "       0, 1, 1, 0, 0, 0, 0], dtype=int64)"
      ]
     },
     "execution_count": 65,
     "metadata": {},
     "output_type": "execute_result"
    }
   ],
   "source": [
    "y_pred"
   ]
  },
  {
   "cell_type": "code",
   "execution_count": 66,
   "metadata": {},
   "outputs": [
    {
     "data": {
      "text/html": [
       "<div>\n",
       "<style scoped>\n",
       "    .dataframe tbody tr th:only-of-type {\n",
       "        vertical-align: middle;\n",
       "    }\n",
       "\n",
       "    .dataframe tbody tr th {\n",
       "        vertical-align: top;\n",
       "    }\n",
       "\n",
       "    .dataframe thead th {\n",
       "        text-align: right;\n",
       "    }\n",
       "</style>\n",
       "<table border=\"1\" class=\"dataframe\">\n",
       "  <thead>\n",
       "    <tr style=\"text-align: right;\">\n",
       "      <th></th>\n",
       "      <th>ID</th>\n",
       "      <th>CLASS</th>\n",
       "    </tr>\n",
       "  </thead>\n",
       "  <tbody>\n",
       "    <tr>\n",
       "      <th>0</th>\n",
       "      <td>0</td>\n",
       "      <td>1</td>\n",
       "    </tr>\n",
       "    <tr>\n",
       "      <th>1</th>\n",
       "      <td>1</td>\n",
       "      <td>0</td>\n",
       "    </tr>\n",
       "    <tr>\n",
       "      <th>2</th>\n",
       "      <td>2</td>\n",
       "      <td>1</td>\n",
       "    </tr>\n",
       "    <tr>\n",
       "      <th>3</th>\n",
       "      <td>3</td>\n",
       "      <td>0</td>\n",
       "    </tr>\n",
       "    <tr>\n",
       "      <th>4</th>\n",
       "      <td>4</td>\n",
       "      <td>1</td>\n",
       "    </tr>\n",
       "  </tbody>\n",
       "</table>\n",
       "</div>"
      ],
      "text/plain": [
       "   ID  CLASS\n",
       "0   0      1\n",
       "1   1      0\n",
       "2   2      1\n",
       "3   3      0\n",
       "4   4      1"
      ]
     },
     "execution_count": 66,
     "metadata": {},
     "output_type": "execute_result"
    }
   ],
   "source": [
    "csv1=pd.DataFrame([df_test['ID'],y_pred],index=['ID','CLASS']).T\n",
    "\n",
    "csv1.head()"
   ]
  },
  {
   "cell_type": "code",
   "execution_count": 67,
   "metadata": {},
   "outputs": [
    {
     "data": {
      "text/plain": [
       "0    412\n",
       "1    387\n",
       "Name: CLASS, dtype: int64"
      ]
     },
     "execution_count": 67,
     "metadata": {},
     "output_type": "execute_result"
    }
   ],
   "source": [
    "csv1['CLASS'].value_counts()"
   ]
  },
  {
   "cell_type": "code",
   "execution_count": 68,
   "metadata": {},
   "outputs": [],
   "source": [
    "csv1.to_csv(\"Advertisement_or_not.csv\",index=False)"
   ]
  },
  {
   "cell_type": "code",
   "execution_count": 69,
   "metadata": {},
   "outputs": [
    {
     "data": {
      "text/html": [
       "<div>\n",
       "<style scoped>\n",
       "    .dataframe tbody tr th:only-of-type {\n",
       "        vertical-align: middle;\n",
       "    }\n",
       "\n",
       "    .dataframe tbody tr th {\n",
       "        vertical-align: top;\n",
       "    }\n",
       "\n",
       "    .dataframe thead th {\n",
       "        text-align: right;\n",
       "    }\n",
       "</style>\n",
       "<table border=\"1\" class=\"dataframe\">\n",
       "  <thead>\n",
       "    <tr style=\"text-align: right;\">\n",
       "      <th></th>\n",
       "      <th>ID</th>\n",
       "      <th>CLASS</th>\n",
       "    </tr>\n",
       "  </thead>\n",
       "  <tbody>\n",
       "    <tr>\n",
       "      <th>0</th>\n",
       "      <td>0</td>\n",
       "      <td>1</td>\n",
       "    </tr>\n",
       "    <tr>\n",
       "      <th>1</th>\n",
       "      <td>1</td>\n",
       "      <td>0</td>\n",
       "    </tr>\n",
       "    <tr>\n",
       "      <th>2</th>\n",
       "      <td>2</td>\n",
       "      <td>1</td>\n",
       "    </tr>\n",
       "    <tr>\n",
       "      <th>3</th>\n",
       "      <td>3</td>\n",
       "      <td>0</td>\n",
       "    </tr>\n",
       "    <tr>\n",
       "      <th>4</th>\n",
       "      <td>4</td>\n",
       "      <td>1</td>\n",
       "    </tr>\n",
       "    <tr>\n",
       "      <th>...</th>\n",
       "      <td>...</td>\n",
       "      <td>...</td>\n",
       "    </tr>\n",
       "    <tr>\n",
       "      <th>794</th>\n",
       "      <td>794</td>\n",
       "      <td>1</td>\n",
       "    </tr>\n",
       "    <tr>\n",
       "      <th>795</th>\n",
       "      <td>795</td>\n",
       "      <td>0</td>\n",
       "    </tr>\n",
       "    <tr>\n",
       "      <th>796</th>\n",
       "      <td>796</td>\n",
       "      <td>0</td>\n",
       "    </tr>\n",
       "    <tr>\n",
       "      <th>797</th>\n",
       "      <td>797</td>\n",
       "      <td>0</td>\n",
       "    </tr>\n",
       "    <tr>\n",
       "      <th>798</th>\n",
       "      <td>798</td>\n",
       "      <td>0</td>\n",
       "    </tr>\n",
       "  </tbody>\n",
       "</table>\n",
       "<p>799 rows × 2 columns</p>\n",
       "</div>"
      ],
      "text/plain": [
       "      ID  CLASS\n",
       "0      0      1\n",
       "1      1      0\n",
       "2      2      1\n",
       "3      3      0\n",
       "4      4      1\n",
       "..   ...    ...\n",
       "794  794      1\n",
       "795  795      0\n",
       "796  796      0\n",
       "797  797      0\n",
       "798  798      0\n",
       "\n",
       "[799 rows x 2 columns]"
      ]
     },
     "execution_count": 69,
     "metadata": {},
     "output_type": "execute_result"
    }
   ],
   "source": [
    "csv1"
   ]
  },
  {
   "cell_type": "code",
   "execution_count": null,
   "metadata": {},
   "outputs": [],
   "source": []
  },
  {
   "cell_type": "code",
   "execution_count": 70,
   "metadata": {},
   "outputs": [],
   "source": [
    "#RandomForestClassifier"
   ]
  },
  {
   "cell_type": "code",
   "execution_count": 78,
   "metadata": {},
   "outputs": [],
   "source": [
    "rfc = RandomForestClassifier()"
   ]
  },
  {
   "cell_type": "code",
   "execution_count": 79,
   "metadata": {},
   "outputs": [],
   "source": [
    "clf_2 = rfc.fit(X_train_dtmF,y)"
   ]
  },
  {
   "cell_type": "code",
   "execution_count": 91,
   "metadata": {},
   "outputs": [
    {
     "data": {
      "text/html": [
       "<div>\n",
       "<style scoped>\n",
       "    .dataframe tbody tr th:only-of-type {\n",
       "        vertical-align: middle;\n",
       "    }\n",
       "\n",
       "    .dataframe tbody tr th {\n",
       "        vertical-align: top;\n",
       "    }\n",
       "\n",
       "    .dataframe thead th {\n",
       "        text-align: right;\n",
       "    }\n",
       "</style>\n",
       "<table border=\"1\" class=\"dataframe\">\n",
       "  <thead>\n",
       "    <tr style=\"text-align: right;\">\n",
       "      <th></th>\n",
       "      <th>imp</th>\n",
       "    </tr>\n",
       "  </thead>\n",
       "  <tbody>\n",
       "    <tr>\n",
       "      <th>check</th>\n",
       "      <td>0.079897</td>\n",
       "    </tr>\n",
       "    <tr>\n",
       "      <th>subscribe</th>\n",
       "      <td>0.076215</td>\n",
       "    </tr>\n",
       "    <tr>\n",
       "      <th>channel</th>\n",
       "      <td>0.034899</td>\n",
       "    </tr>\n",
       "    <tr>\n",
       "      <th>com</th>\n",
       "      <td>0.026700</td>\n",
       "    </tr>\n",
       "    <tr>\n",
       "      <th>youtube</th>\n",
       "      <td>0.023369</td>\n",
       "    </tr>\n",
       "    <tr>\n",
       "      <th>...</th>\n",
       "      <td>...</td>\n",
       "    </tr>\n",
       "    <tr>\n",
       "      <th>long ago</th>\n",
       "      <td>0.000000</td>\n",
       "    </tr>\n",
       "    <tr>\n",
       "      <th>lol want</th>\n",
       "      <td>0.000000</td>\n",
       "    </tr>\n",
       "    <tr>\n",
       "      <th>lol m</th>\n",
       "      <td>0.000000</td>\n",
       "    </tr>\n",
       "    <tr>\n",
       "      <th>lol d</th>\n",
       "      <td>0.000000</td>\n",
       "    </tr>\n",
       "    <tr>\n",
       "      <th>lift letter</th>\n",
       "      <td>0.000000</td>\n",
       "    </tr>\n",
       "  </tbody>\n",
       "</table>\n",
       "<p>9590 rows × 1 columns</p>\n",
       "</div>"
      ],
      "text/plain": [
       "                  imp\n",
       "check        0.079897\n",
       "subscribe    0.076215\n",
       "channel      0.034899\n",
       "com          0.026700\n",
       "youtube      0.023369\n",
       "...               ...\n",
       "long ago     0.000000\n",
       "lol want     0.000000\n",
       "lol m        0.000000\n",
       "lol d        0.000000\n",
       "lift letter  0.000000\n",
       "\n",
       "[9590 rows x 1 columns]"
      ]
     },
     "execution_count": 91,
     "metadata": {},
     "output_type": "execute_result"
    }
   ],
   "source": [
    "pd.DataFrame(clf_2.feature_importances_,index=wordsCV,columns=['imp']).sort_values('imp',ascending=False)"
   ]
  },
  {
   "cell_type": "code",
   "execution_count": 80,
   "metadata": {},
   "outputs": [],
   "source": [
    "y_pred = clf_2.predict(X_test_dtmF)"
   ]
  },
  {
   "cell_type": "code",
   "execution_count": 81,
   "metadata": {},
   "outputs": [
    {
     "data": {
      "text/plain": [
       "array([1, 1, 1, 0, 1, 1, 1, 1, 1, 1, 0, 1, 0, 1, 1, 0, 0, 1, 1, 1, 0, 1,\n",
       "       1, 1, 0, 1, 0, 0, 0, 0, 1, 1, 1, 1, 0, 1, 1, 1, 1, 1, 0, 1, 1, 0,\n",
       "       1, 0, 0, 0, 0, 1, 0, 0, 1, 0, 1, 1, 1, 1, 1, 1, 1, 1, 1, 1, 1, 1,\n",
       "       1, 1, 1, 0, 0, 0, 1, 1, 1, 1, 1, 0, 0, 0, 0, 0, 0, 0, 0, 1, 0, 1,\n",
       "       0, 1, 0, 1, 0, 0, 0, 0, 0, 0, 0, 0, 0, 0, 0, 0, 0, 0, 0, 0, 0, 0,\n",
       "       0, 1, 0, 0, 0, 0, 0, 0, 1, 1, 1, 0, 1, 1, 0, 0, 0, 1, 1, 0, 1, 1,\n",
       "       0, 0, 1, 0, 0, 1, 1, 1, 1, 1, 1, 1, 1, 1, 1, 1, 1, 1, 1, 1, 1, 0,\n",
       "       0, 1, 1, 1, 1, 1, 0, 0, 1, 0, 1, 1, 0, 0, 0, 1, 0, 1, 1, 0, 1, 0,\n",
       "       1, 0, 0, 0, 0, 0, 0, 0, 0, 0, 1, 0, 0, 0, 0, 0, 1, 1, 0, 1, 1, 0,\n",
       "       0, 1, 1, 1, 0, 0, 0, 1, 1, 1, 0, 1, 1, 1, 1, 0, 0, 0, 1, 0, 0, 1,\n",
       "       1, 1, 1, 1, 1, 0, 1, 1, 1, 0, 0, 1, 0, 1, 0, 0, 0, 0, 1, 0, 1, 0,\n",
       "       1, 0, 0, 1, 0, 1, 0, 1, 0, 1, 1, 1, 1, 1, 0, 0, 0, 0, 0, 0, 0, 0,\n",
       "       1, 0, 0, 1, 1, 1, 0, 1, 1, 0, 1, 1, 0, 0, 0, 0, 0, 0, 0, 0, 0, 0,\n",
       "       0, 0, 0, 0, 0, 0, 1, 0, 0, 0, 0, 0, 0, 0, 0, 0, 0, 0, 0, 0, 0, 0,\n",
       "       1, 0, 0, 0, 0, 0, 0, 0, 0, 0, 0, 0, 0, 0, 0, 0, 0, 0, 0, 0, 0, 0,\n",
       "       0, 0, 0, 0, 0, 0, 0, 0, 0, 0, 0, 0, 0, 0, 0, 0, 0, 1, 0, 0, 0, 0,\n",
       "       0, 0, 1, 1, 1, 1, 1, 1, 1, 1, 1, 1, 1, 1, 1, 1, 1, 1, 1, 1, 1, 1,\n",
       "       0, 1, 1, 1, 1, 1, 1, 1, 1, 1, 1, 1, 1, 1, 1, 1, 1, 1, 1, 1, 1, 1,\n",
       "       1, 1, 1, 1, 1, 1, 1, 1, 1, 1, 1, 1, 1, 1, 1, 1, 1, 1, 1, 1, 1, 1,\n",
       "       1, 1, 1, 1, 1, 1, 1, 1, 1, 1, 1, 1, 1, 1, 1, 0, 0, 0, 1, 0, 0, 0,\n",
       "       0, 1, 0, 0, 0, 0, 0, 0, 0, 0, 1, 1, 0, 0, 1, 1, 0, 0, 0, 1, 1, 1,\n",
       "       1, 1, 1, 1, 0, 1, 0, 1, 1, 1, 0, 0, 1, 1, 1, 0, 1, 0, 0, 0, 1, 0,\n",
       "       1, 0, 1, 0, 1, 0, 1, 1, 1, 0, 1, 0, 0, 0, 0, 1, 0, 1, 0, 0, 0, 1,\n",
       "       0, 1, 1, 0, 0, 1, 0, 0, 0, 1, 0, 0, 0, 0, 0, 0, 1, 0, 1, 1, 1, 1,\n",
       "       0, 0, 1, 1, 0, 0, 1, 1, 0, 0, 0, 0, 1, 1, 0, 0, 1, 0, 1, 0, 1, 0,\n",
       "       1, 1, 1, 0, 0, 1, 1, 1, 1, 0, 0, 1, 0, 1, 1, 1, 1, 0, 0, 1, 0, 0,\n",
       "       0, 0, 1, 1, 0, 1, 1, 1, 1, 1, 0, 1, 1, 1, 1, 1, 1, 1, 0, 0, 1, 1,\n",
       "       0, 1, 0, 1, 1, 0, 1, 1, 0, 0, 0, 0, 0, 1, 1, 1, 1, 0, 1, 1, 0, 0,\n",
       "       0, 0, 0, 1, 0, 0, 1, 0, 1, 0, 0, 1, 0, 0, 1, 0, 1, 1, 1, 0, 1, 1,\n",
       "       0, 1, 1, 1, 1, 0, 0, 0, 0, 0, 0, 0, 0, 0, 0, 0, 1, 0, 0, 0, 0, 0,\n",
       "       0, 0, 0, 0, 0, 0, 0, 0, 1, 0, 0, 0, 1, 0, 0, 0, 0, 0, 1, 0, 0, 0,\n",
       "       0, 0, 0, 0, 0, 0, 0, 0, 0, 1, 0, 0, 0, 0, 0, 0, 0, 0, 0, 0, 0, 1,\n",
       "       1, 1, 1, 1, 1, 1, 1, 1, 1, 1, 1, 1, 1, 1, 1, 1, 1, 1, 0, 1, 1, 1,\n",
       "       1, 1, 1, 1, 1, 1, 0, 0, 0, 0, 0, 0, 0, 0, 0, 0, 0, 0, 0, 0, 0, 0,\n",
       "       0, 0, 1, 1, 1, 1, 1, 1, 0, 0, 0, 0, 0, 0, 0, 0, 0, 1, 1, 1, 1, 1,\n",
       "       1, 1, 1, 0, 1, 1, 1, 1, 1, 1, 1, 1, 1, 1, 1, 1, 1, 1, 1, 0, 0, 0,\n",
       "       0, 1, 1, 0, 0, 0, 0], dtype=int64)"
      ]
     },
     "execution_count": 81,
     "metadata": {},
     "output_type": "execute_result"
    }
   ],
   "source": [
    "y_pred"
   ]
  },
  {
   "cell_type": "code",
   "execution_count": 82,
   "metadata": {},
   "outputs": [
    {
     "data": {
      "text/html": [
       "<div>\n",
       "<style scoped>\n",
       "    .dataframe tbody tr th:only-of-type {\n",
       "        vertical-align: middle;\n",
       "    }\n",
       "\n",
       "    .dataframe tbody tr th {\n",
       "        vertical-align: top;\n",
       "    }\n",
       "\n",
       "    .dataframe thead th {\n",
       "        text-align: right;\n",
       "    }\n",
       "</style>\n",
       "<table border=\"1\" class=\"dataframe\">\n",
       "  <thead>\n",
       "    <tr style=\"text-align: right;\">\n",
       "      <th></th>\n",
       "      <th>ID</th>\n",
       "      <th>CLASS</th>\n",
       "    </tr>\n",
       "  </thead>\n",
       "  <tbody>\n",
       "    <tr>\n",
       "      <th>0</th>\n",
       "      <td>0</td>\n",
       "      <td>1</td>\n",
       "    </tr>\n",
       "    <tr>\n",
       "      <th>1</th>\n",
       "      <td>1</td>\n",
       "      <td>1</td>\n",
       "    </tr>\n",
       "    <tr>\n",
       "      <th>2</th>\n",
       "      <td>2</td>\n",
       "      <td>1</td>\n",
       "    </tr>\n",
       "    <tr>\n",
       "      <th>3</th>\n",
       "      <td>3</td>\n",
       "      <td>0</td>\n",
       "    </tr>\n",
       "    <tr>\n",
       "      <th>4</th>\n",
       "      <td>4</td>\n",
       "      <td>1</td>\n",
       "    </tr>\n",
       "  </tbody>\n",
       "</table>\n",
       "</div>"
      ],
      "text/plain": [
       "   ID  CLASS\n",
       "0   0      1\n",
       "1   1      1\n",
       "2   2      1\n",
       "3   3      0\n",
       "4   4      1"
      ]
     },
     "execution_count": 82,
     "metadata": {},
     "output_type": "execute_result"
    }
   ],
   "source": [
    "csv1=pd.DataFrame([df_test['ID'],y_pred],index=['ID','CLASS']).T\n",
    "\n",
    "csv1.head()"
   ]
  },
  {
   "cell_type": "code",
   "execution_count": 83,
   "metadata": {},
   "outputs": [
    {
     "data": {
      "text/plain": [
       "0    407\n",
       "1    392\n",
       "Name: CLASS, dtype: int64"
      ]
     },
     "execution_count": 83,
     "metadata": {},
     "output_type": "execute_result"
    }
   ],
   "source": [
    "csv1['CLASS'].value_counts()"
   ]
  },
  {
   "cell_type": "code",
   "execution_count": 84,
   "metadata": {},
   "outputs": [],
   "source": [
    "csv1.to_csv(\"Advertisement_or_not.csv\",index=False)"
   ]
  },
  {
   "cell_type": "code",
   "execution_count": null,
   "metadata": {},
   "outputs": [],
   "source": []
  },
  {
   "cell_type": "code",
   "execution_count": null,
   "metadata": {},
   "outputs": [],
   "source": [
    "##GradientBoostingClassifier"
   ]
  },
  {
   "cell_type": "code",
   "execution_count": 211,
   "metadata": {},
   "outputs": [],
   "source": [
    "clf_3 = gbc.fit(X_train_dtmF,y)"
   ]
  },
  {
   "cell_type": "code",
   "execution_count": 213,
   "metadata": {},
   "outputs": [
    {
     "data": {
      "text/plain": [
       "1    586\n",
       "0    571\n",
       "Name: CLASS, dtype: int64"
      ]
     },
     "execution_count": 213,
     "metadata": {},
     "output_type": "execute_result"
    }
   ],
   "source": [
    "y.value_counts()"
   ]
  },
  {
   "cell_type": "code",
   "execution_count": 214,
   "metadata": {},
   "outputs": [
    {
     "data": {
      "text/plain": [
       "<1157x9590 sparse matrix of type '<class 'numpy.int64'>'\n",
       "\twith 19122 stored elements in Compressed Sparse Row format>"
      ]
     },
     "execution_count": 214,
     "metadata": {},
     "output_type": "execute_result"
    }
   ],
   "source": [
    "X_train_dtm"
   ]
  },
  {
   "cell_type": "code",
   "execution_count": 216,
   "metadata": {},
   "outputs": [],
   "source": [
    "y_pred = clf_3.predict(X_test_dtmF)"
   ]
  },
  {
   "cell_type": "code",
   "execution_count": 217,
   "metadata": {},
   "outputs": [
    {
     "data": {
      "text/plain": [
       "array([1, 1, 1, 1, 1, 1, 1, 1, 1, 1, 1, 1, 0, 1, 1, 1, 0, 1, 1, 1, 0, 1,\n",
       "       1, 1, 0, 1, 0, 0, 0, 0, 1, 1, 1, 1, 0, 1, 0, 1, 1, 1, 0, 1, 1, 0,\n",
       "       1, 0, 0, 0, 0, 1, 0, 0, 1, 0, 1, 0, 1, 1, 1, 0, 1, 1, 1, 1, 0, 1,\n",
       "       0, 1, 1, 0, 0, 0, 0, 1, 1, 1, 1, 0, 0, 0, 0, 0, 0, 0, 0, 1, 0, 0,\n",
       "       0, 1, 0, 1, 0, 0, 0, 0, 0, 0, 0, 0, 0, 0, 0, 0, 0, 0, 0, 0, 0, 0,\n",
       "       0, 1, 0, 0, 0, 0, 0, 0, 1, 1, 1, 0, 1, 1, 1, 0, 0, 1, 1, 0, 1, 1,\n",
       "       0, 0, 1, 0, 0, 1, 1, 0, 1, 1, 1, 1, 1, 0, 1, 1, 1, 1, 1, 1, 1, 0,\n",
       "       0, 1, 1, 1, 1, 1, 0, 0, 1, 0, 1, 1, 0, 0, 1, 1, 0, 1, 1, 0, 1, 0,\n",
       "       1, 0, 0, 0, 0, 0, 0, 0, 0, 0, 1, 0, 0, 0, 0, 0, 1, 1, 0, 1, 1, 0,\n",
       "       0, 1, 1, 1, 0, 0, 0, 1, 1, 1, 0, 1, 1, 1, 1, 0, 0, 0, 1, 0, 0, 1,\n",
       "       1, 1, 1, 1, 1, 0, 0, 1, 1, 0, 0, 1, 0, 1, 0, 0, 0, 0, 1, 0, 1, 0,\n",
       "       1, 0, 0, 1, 0, 1, 0, 1, 0, 1, 1, 1, 1, 1, 0, 0, 0, 0, 0, 0, 0, 0,\n",
       "       1, 0, 1, 1, 1, 0, 0, 1, 0, 1, 1, 1, 0, 0, 0, 0, 0, 0, 0, 0, 0, 0,\n",
       "       0, 0, 0, 0, 0, 0, 1, 0, 0, 0, 0, 0, 0, 0, 0, 0, 0, 0, 0, 0, 0, 0,\n",
       "       1, 0, 0, 0, 0, 0, 0, 0, 0, 0, 0, 0, 0, 0, 0, 0, 0, 0, 0, 0, 0, 0,\n",
       "       0, 0, 0, 0, 0, 0, 0, 0, 0, 0, 0, 0, 0, 0, 0, 0, 0, 1, 0, 0, 0, 0,\n",
       "       0, 0, 1, 1, 1, 1, 1, 1, 1, 1, 1, 1, 1, 1, 1, 1, 1, 1, 1, 1, 1, 1,\n",
       "       1, 1, 1, 1, 1, 1, 1, 1, 1, 1, 1, 1, 1, 1, 1, 1, 1, 1, 1, 1, 1, 1,\n",
       "       1, 1, 1, 1, 1, 1, 1, 1, 1, 1, 1, 1, 1, 1, 1, 1, 1, 1, 1, 1, 1, 1,\n",
       "       1, 1, 1, 1, 1, 1, 1, 1, 1, 1, 1, 1, 1, 1, 1, 0, 0, 0, 1, 0, 0, 0,\n",
       "       0, 1, 0, 0, 0, 0, 0, 0, 0, 0, 1, 1, 0, 0, 1, 1, 0, 0, 0, 1, 1, 1,\n",
       "       1, 1, 1, 1, 0, 1, 0, 1, 1, 1, 0, 0, 1, 1, 1, 0, 1, 0, 0, 0, 1, 0,\n",
       "       1, 0, 1, 0, 1, 0, 1, 1, 1, 0, 1, 0, 0, 0, 0, 1, 0, 1, 0, 0, 0, 1,\n",
       "       1, 1, 1, 0, 0, 1, 0, 0, 0, 1, 0, 0, 0, 0, 0, 0, 1, 0, 1, 1, 1, 1,\n",
       "       0, 0, 1, 1, 0, 0, 1, 1, 0, 0, 0, 0, 1, 1, 0, 0, 1, 0, 1, 0, 1, 0,\n",
       "       1, 1, 1, 0, 1, 1, 1, 1, 1, 0, 0, 1, 0, 1, 1, 1, 1, 0, 1, 1, 0, 0,\n",
       "       0, 0, 1, 1, 0, 1, 1, 1, 1, 1, 0, 1, 1, 1, 1, 1, 1, 1, 0, 0, 1, 1,\n",
       "       0, 1, 0, 1, 1, 0, 1, 1, 0, 0, 0, 0, 0, 1, 1, 1, 1, 0, 1, 1, 0, 0,\n",
       "       0, 0, 0, 1, 0, 0, 1, 0, 1, 0, 0, 1, 0, 0, 1, 0, 1, 1, 1, 0, 1, 1,\n",
       "       0, 1, 1, 1, 1, 0, 0, 0, 0, 0, 0, 0, 0, 0, 0, 0, 1, 0, 0, 0, 0, 0,\n",
       "       0, 0, 0, 0, 0, 0, 0, 0, 1, 0, 0, 0, 1, 0, 0, 0, 0, 0, 1, 0, 0, 0,\n",
       "       1, 0, 0, 0, 0, 0, 0, 0, 0, 1, 0, 0, 0, 0, 0, 0, 0, 0, 0, 0, 0, 1,\n",
       "       1, 1, 1, 1, 1, 1, 1, 1, 0, 1, 1, 0, 1, 0, 1, 1, 1, 0, 1, 1, 1, 1,\n",
       "       0, 1, 1, 1, 1, 0, 1, 0, 0, 0, 0, 0, 0, 0, 0, 0, 0, 0, 0, 0, 0, 0,\n",
       "       0, 0, 1, 1, 1, 1, 1, 1, 0, 0, 0, 0, 0, 0, 0, 0, 0, 1, 1, 1, 1, 1,\n",
       "       1, 1, 1, 0, 1, 1, 1, 1, 1, 1, 1, 1, 1, 1, 1, 1, 1, 1, 1, 0, 0, 0,\n",
       "       0, 1, 1, 0, 0, 0, 0], dtype=int64)"
      ]
     },
     "execution_count": 217,
     "metadata": {},
     "output_type": "execute_result"
    }
   ],
   "source": [
    "y_pred"
   ]
  },
  {
   "cell_type": "code",
   "execution_count": 218,
   "metadata": {},
   "outputs": [
    {
     "data": {
      "text/html": [
       "<div>\n",
       "<style scoped>\n",
       "    .dataframe tbody tr th:only-of-type {\n",
       "        vertical-align: middle;\n",
       "    }\n",
       "\n",
       "    .dataframe tbody tr th {\n",
       "        vertical-align: top;\n",
       "    }\n",
       "\n",
       "    .dataframe thead th {\n",
       "        text-align: right;\n",
       "    }\n",
       "</style>\n",
       "<table border=\"1\" class=\"dataframe\">\n",
       "  <thead>\n",
       "    <tr style=\"text-align: right;\">\n",
       "      <th></th>\n",
       "      <th>ID</th>\n",
       "      <th>CLASS</th>\n",
       "    </tr>\n",
       "  </thead>\n",
       "  <tbody>\n",
       "    <tr>\n",
       "      <th>0</th>\n",
       "      <td>0</td>\n",
       "      <td>1</td>\n",
       "    </tr>\n",
       "    <tr>\n",
       "      <th>1</th>\n",
       "      <td>1</td>\n",
       "      <td>1</td>\n",
       "    </tr>\n",
       "    <tr>\n",
       "      <th>2</th>\n",
       "      <td>2</td>\n",
       "      <td>1</td>\n",
       "    </tr>\n",
       "    <tr>\n",
       "      <th>3</th>\n",
       "      <td>3</td>\n",
       "      <td>1</td>\n",
       "    </tr>\n",
       "    <tr>\n",
       "      <th>4</th>\n",
       "      <td>4</td>\n",
       "      <td>1</td>\n",
       "    </tr>\n",
       "  </tbody>\n",
       "</table>\n",
       "</div>"
      ],
      "text/plain": [
       "   ID  CLASS\n",
       "0   0      1\n",
       "1   1      1\n",
       "2   2      1\n",
       "3   3      1\n",
       "4   4      1"
      ]
     },
     "execution_count": 218,
     "metadata": {},
     "output_type": "execute_result"
    }
   ],
   "source": [
    "csv1=pd.DataFrame([df_test['ID'],y_pred],index=['ID','CLASS']).T\n",
    "\n",
    "csv1.head()"
   ]
  },
  {
   "cell_type": "code",
   "execution_count": 219,
   "metadata": {},
   "outputs": [
    {
     "data": {
      "text/plain": [
       "0    411\n",
       "1    388\n",
       "Name: CLASS, dtype: int64"
      ]
     },
     "execution_count": 219,
     "metadata": {},
     "output_type": "execute_result"
    }
   ],
   "source": [
    "csv1['CLASS'].value_counts()"
   ]
  },
  {
   "cell_type": "code",
   "execution_count": 220,
   "metadata": {},
   "outputs": [],
   "source": [
    "csv1.to_csv(\"Advertisement_or_not.csv\",index=False)"
   ]
  },
  {
   "cell_type": "code",
   "execution_count": null,
   "metadata": {},
   "outputs": [],
   "source": []
  },
  {
   "cell_type": "code",
   "execution_count": null,
   "metadata": {},
   "outputs": [],
   "source": [
    "#AdaBoostClassifier"
   ]
  },
  {
   "cell_type": "code",
   "execution_count": 385,
   "metadata": {},
   "outputs": [],
   "source": [
    "abc = AdaBoostClassifier(base_estimator=RandomForestClassifier())"
   ]
  },
  {
   "cell_type": "code",
   "execution_count": 386,
   "metadata": {},
   "outputs": [],
   "source": [
    "clf_4 = abc.fit(X_train_dtmF,y)"
   ]
  },
  {
   "cell_type": "code",
   "execution_count": 387,
   "metadata": {},
   "outputs": [
    {
     "data": {
      "text/plain": [
       "1    586\n",
       "0    571\n",
       "Name: CLASS, dtype: int64"
      ]
     },
     "execution_count": 387,
     "metadata": {},
     "output_type": "execute_result"
    }
   ],
   "source": [
    "y.value_counts()"
   ]
  },
  {
   "cell_type": "code",
   "execution_count": 388,
   "metadata": {},
   "outputs": [
    {
     "data": {
      "text/plain": [
       "<809x7007 sparse matrix of type '<class 'numpy.int64'>'\n",
       "\twith 12945 stored elements in Compressed Sparse Row format>"
      ]
     },
     "execution_count": 388,
     "metadata": {},
     "output_type": "execute_result"
    }
   ],
   "source": [
    "X_train_dtm"
   ]
  },
  {
   "cell_type": "code",
   "execution_count": 389,
   "metadata": {},
   "outputs": [],
   "source": [
    "y_pred = clf_4.predict(X_test_dtmF)"
   ]
  },
  {
   "cell_type": "code",
   "execution_count": 390,
   "metadata": {},
   "outputs": [
    {
     "data": {
      "text/plain": [
       "array([1, 1, 1, 0, 1, 1, 1, 1, 1, 1, 0, 1, 0, 1, 0, 0, 0, 1, 1, 1, 1, 1,\n",
       "       1, 1, 0, 1, 0, 0, 0, 0, 1, 1, 1, 1, 0, 1, 1, 1, 1, 1, 0, 1, 1, 0,\n",
       "       1, 0, 0, 0, 0, 1, 0, 0, 1, 0, 1, 1, 1, 1, 1, 0, 1, 1, 1, 1, 1, 1,\n",
       "       0, 1, 1, 0, 0, 0, 1, 1, 1, 1, 1, 0, 0, 0, 0, 0, 0, 0, 0, 1, 0, 0,\n",
       "       0, 1, 0, 1, 0, 0, 0, 0, 0, 0, 0, 0, 0, 0, 0, 0, 0, 0, 0, 0, 0, 0,\n",
       "       0, 1, 0, 0, 0, 0, 0, 1, 1, 1, 1, 0, 1, 1, 0, 0, 0, 1, 1, 0, 1, 1,\n",
       "       1, 0, 1, 0, 0, 1, 1, 1, 1, 1, 1, 1, 1, 1, 1, 1, 1, 1, 1, 1, 1, 0,\n",
       "       0, 1, 1, 1, 1, 1, 0, 0, 1, 0, 1, 1, 0, 0, 0, 1, 0, 1, 1, 0, 0, 0,\n",
       "       1, 0, 0, 0, 0, 1, 0, 0, 0, 0, 1, 0, 0, 0, 0, 0, 1, 1, 0, 1, 1, 0,\n",
       "       0, 0, 1, 0, 0, 0, 0, 1, 1, 1, 0, 1, 1, 1, 1, 0, 0, 0, 1, 0, 0, 1,\n",
       "       1, 1, 0, 1, 1, 0, 1, 1, 1, 0, 0, 1, 0, 1, 0, 0, 0, 0, 1, 0, 1, 0,\n",
       "       1, 0, 0, 1, 0, 1, 0, 1, 0, 0, 1, 1, 1, 1, 0, 0, 0, 0, 0, 0, 0, 0,\n",
       "       1, 0, 1, 1, 1, 1, 0, 1, 1, 1, 1, 1, 0, 0, 1, 0, 0, 0, 0, 0, 0, 0,\n",
       "       0, 0, 0, 0, 0, 0, 1, 0, 0, 0, 0, 0, 0, 0, 0, 0, 0, 0, 0, 0, 0, 0,\n",
       "       1, 0, 0, 0, 0, 0, 0, 0, 0, 0, 0, 0, 0, 0, 0, 0, 0, 0, 0, 0, 0, 0,\n",
       "       0, 0, 0, 0, 0, 0, 0, 0, 0, 0, 0, 0, 0, 0, 0, 0, 0, 1, 0, 0, 0, 0,\n",
       "       0, 0, 1, 1, 1, 1, 1, 1, 1, 1, 1, 1, 1, 1, 1, 1, 1, 1, 1, 1, 1, 1,\n",
       "       0, 1, 1, 1, 1, 1, 1, 1, 1, 1, 1, 1, 1, 1, 1, 1, 1, 1, 1, 1, 1, 1,\n",
       "       1, 1, 1, 1, 1, 1, 1, 1, 1, 1, 1, 1, 1, 1, 1, 1, 1, 1, 0, 1, 1, 1,\n",
       "       1, 1, 1, 1, 1, 1, 1, 1, 1, 1, 1, 1, 1, 1, 1, 0, 0, 0, 1, 0, 0, 0,\n",
       "       0, 1, 0, 0, 0, 0, 0, 0, 0, 0, 1, 1, 0, 0, 1, 1, 0, 0, 0, 0, 1, 1,\n",
       "       1, 1, 1, 1, 0, 1, 0, 1, 1, 1, 0, 0, 1, 1, 1, 0, 1, 0, 0, 0, 1, 0,\n",
       "       1, 0, 1, 0, 1, 0, 1, 1, 1, 0, 1, 0, 0, 0, 0, 1, 0, 1, 0, 0, 0, 1,\n",
       "       1, 1, 1, 0, 0, 1, 0, 0, 0, 1, 0, 0, 0, 0, 0, 0, 1, 0, 1, 1, 1, 1,\n",
       "       0, 0, 1, 1, 0, 0, 1, 1, 0, 0, 0, 0, 1, 1, 0, 0, 1, 0, 1, 0, 1, 0,\n",
       "       1, 1, 1, 0, 1, 1, 1, 1, 1, 0, 0, 1, 0, 1, 1, 1, 1, 0, 0, 1, 0, 0,\n",
       "       0, 0, 1, 1, 0, 1, 1, 1, 1, 1, 0, 1, 1, 1, 1, 1, 1, 1, 0, 0, 1, 1,\n",
       "       0, 1, 0, 1, 1, 0, 1, 1, 0, 0, 0, 0, 0, 1, 1, 1, 0, 0, 1, 1, 0, 0,\n",
       "       0, 0, 0, 1, 0, 0, 1, 0, 1, 0, 0, 1, 0, 0, 1, 0, 1, 1, 1, 0, 1, 1,\n",
       "       0, 1, 1, 1, 1, 0, 0, 0, 0, 0, 0, 0, 0, 0, 0, 0, 1, 0, 0, 0, 0, 0,\n",
       "       0, 0, 0, 0, 0, 0, 0, 0, 1, 0, 0, 0, 1, 0, 0, 0, 0, 0, 1, 0, 0, 0,\n",
       "       0, 0, 0, 0, 0, 0, 0, 0, 0, 1, 0, 0, 0, 0, 0, 0, 0, 0, 0, 0, 0, 1,\n",
       "       1, 1, 1, 1, 1, 1, 1, 1, 1, 1, 1, 1, 1, 1, 1, 1, 1, 0, 1, 1, 1, 1,\n",
       "       1, 1, 1, 1, 1, 1, 0, 0, 0, 0, 0, 0, 0, 0, 0, 0, 1, 0, 0, 0, 0, 0,\n",
       "       0, 0, 1, 1, 1, 1, 1, 1, 0, 0, 0, 0, 0, 0, 0, 0, 0, 1, 1, 1, 1, 1,\n",
       "       1, 1, 1, 1, 1, 1, 1, 1, 1, 1, 1, 1, 1, 1, 1, 1, 1, 1, 1, 0, 0, 0,\n",
       "       0, 1, 1, 0, 0, 0, 0], dtype=int64)"
      ]
     },
     "execution_count": 390,
     "metadata": {},
     "output_type": "execute_result"
    }
   ],
   "source": [
    "y_pred"
   ]
  },
  {
   "cell_type": "code",
   "execution_count": 391,
   "metadata": {},
   "outputs": [
    {
     "data": {
      "text/html": [
       "<div>\n",
       "<style scoped>\n",
       "    .dataframe tbody tr th:only-of-type {\n",
       "        vertical-align: middle;\n",
       "    }\n",
       "\n",
       "    .dataframe tbody tr th {\n",
       "        vertical-align: top;\n",
       "    }\n",
       "\n",
       "    .dataframe thead th {\n",
       "        text-align: right;\n",
       "    }\n",
       "</style>\n",
       "<table border=\"1\" class=\"dataframe\">\n",
       "  <thead>\n",
       "    <tr style=\"text-align: right;\">\n",
       "      <th></th>\n",
       "      <th>ID</th>\n",
       "      <th>CLASS</th>\n",
       "    </tr>\n",
       "  </thead>\n",
       "  <tbody>\n",
       "    <tr>\n",
       "      <th>0</th>\n",
       "      <td>0</td>\n",
       "      <td>1</td>\n",
       "    </tr>\n",
       "    <tr>\n",
       "      <th>1</th>\n",
       "      <td>1</td>\n",
       "      <td>1</td>\n",
       "    </tr>\n",
       "    <tr>\n",
       "      <th>2</th>\n",
       "      <td>2</td>\n",
       "      <td>1</td>\n",
       "    </tr>\n",
       "    <tr>\n",
       "      <th>3</th>\n",
       "      <td>3</td>\n",
       "      <td>0</td>\n",
       "    </tr>\n",
       "    <tr>\n",
       "      <th>4</th>\n",
       "      <td>4</td>\n",
       "      <td>1</td>\n",
       "    </tr>\n",
       "  </tbody>\n",
       "</table>\n",
       "</div>"
      ],
      "text/plain": [
       "   ID  CLASS\n",
       "0   0      1\n",
       "1   1      1\n",
       "2   2      1\n",
       "3   3      0\n",
       "4   4      1"
      ]
     },
     "execution_count": 391,
     "metadata": {},
     "output_type": "execute_result"
    }
   ],
   "source": [
    "csv1=pd.DataFrame([df_test['ID'],y_pred],index=['ID','CLASS']).T\n",
    "\n",
    "csv1.head()"
   ]
  },
  {
   "cell_type": "code",
   "execution_count": 392,
   "metadata": {},
   "outputs": [
    {
     "data": {
      "text/plain": [
       "0    408\n",
       "1    391\n",
       "Name: CLASS, dtype: int64"
      ]
     },
     "execution_count": 392,
     "metadata": {},
     "output_type": "execute_result"
    }
   ],
   "source": [
    "csv1['CLASS'].value_counts()"
   ]
  },
  {
   "cell_type": "code",
   "execution_count": 393,
   "metadata": {},
   "outputs": [],
   "source": [
    "csv1.to_csv(\"Advertisement_or_not.csv\",index=False)"
   ]
  },
  {
   "cell_type": "code",
   "execution_count": null,
   "metadata": {},
   "outputs": [],
   "source": []
  },
  {
   "cell_type": "code",
   "execution_count": null,
   "metadata": {},
   "outputs": [],
   "source": [
    "#StackingClassifier"
   ]
  },
  {
   "cell_type": "code",
   "execution_count": 109,
   "metadata": {},
   "outputs": [],
   "source": [
    "from sklearn.ensemble import StackingClassifier"
   ]
  },
  {
   "cell_type": "code",
   "execution_count": 240,
   "metadata": {},
   "outputs": [],
   "source": [
    "sc = StackingClassifier(estimators=[('dtc' ,DecisionTreeClassifier(criterion='entropy',max_depth=36)),('rfc',RandomForestClassifier(criterion='entropy')),('lr',LogisticRegression(solver='lbfgs'))],final_estimator=RandomForestClassifier())"
   ]
  },
  {
   "cell_type": "code",
   "execution_count": 241,
   "metadata": {},
   "outputs": [],
   "source": [
    "clf_5 = sc.fit(X_train_dtmF,y)"
   ]
  },
  {
   "cell_type": "code",
   "execution_count": 242,
   "metadata": {},
   "outputs": [
    {
     "data": {
      "text/plain": [
       "1    586\n",
       "0    571\n",
       "Name: CLASS, dtype: int64"
      ]
     },
     "execution_count": 242,
     "metadata": {},
     "output_type": "execute_result"
    }
   ],
   "source": [
    "y.value_counts()"
   ]
  },
  {
   "cell_type": "code",
   "execution_count": 75,
   "metadata": {},
   "outputs": [
    {
     "data": {
      "text/plain": [
       "<809x7007 sparse matrix of type '<class 'numpy.int64'>'\n",
       "\twith 12945 stored elements in Compressed Sparse Row format>"
      ]
     },
     "execution_count": 75,
     "metadata": {},
     "output_type": "execute_result"
    }
   ],
   "source": [
    "X_train_dtm"
   ]
  },
  {
   "cell_type": "code",
   "execution_count": 244,
   "metadata": {},
   "outputs": [],
   "source": [
    "y_pred = clf_5.predict(X_test_dtmF)"
   ]
  },
  {
   "cell_type": "code",
   "execution_count": 245,
   "metadata": {},
   "outputs": [
    {
     "data": {
      "text/plain": [
       "array([1, 1, 1, 0, 1, 1, 1, 1, 1, 1, 1, 1, 1, 1, 1, 0, 1, 1, 1, 1, 0, 1,\n",
       "       1, 1, 0, 1, 1, 0, 0, 0, 1, 1, 1, 1, 0, 1, 1, 1, 1, 1, 0, 1, 1, 0,\n",
       "       1, 0, 0, 0, 0, 1, 0, 0, 1, 0, 1, 1, 1, 1, 1, 1, 1, 1, 1, 1, 1, 1,\n",
       "       1, 1, 1, 0, 0, 0, 1, 1, 1, 1, 1, 0, 0, 0, 0, 0, 0, 0, 0, 1, 0, 1,\n",
       "       0, 1, 0, 1, 0, 0, 0, 0, 0, 0, 0, 0, 0, 1, 0, 0, 0, 0, 0, 0, 0, 0,\n",
       "       0, 1, 0, 0, 0, 0, 0, 1, 1, 1, 1, 0, 1, 1, 0, 0, 0, 1, 1, 0, 1, 1,\n",
       "       0, 0, 1, 0, 0, 1, 1, 1, 1, 1, 1, 1, 1, 1, 1, 1, 1, 1, 1, 1, 1, 0,\n",
       "       0, 1, 1, 1, 1, 1, 0, 0, 1, 0, 1, 1, 0, 0, 0, 1, 0, 1, 1, 0, 1, 0,\n",
       "       1, 0, 0, 0, 0, 1, 1, 0, 0, 0, 1, 0, 0, 0, 0, 0, 1, 1, 0, 1, 1, 0,\n",
       "       0, 1, 1, 1, 0, 0, 0, 1, 1, 1, 0, 1, 1, 1, 1, 0, 0, 0, 1, 0, 0, 1,\n",
       "       1, 1, 1, 1, 1, 0, 1, 1, 1, 0, 0, 1, 0, 1, 0, 0, 0, 0, 1, 0, 1, 0,\n",
       "       1, 0, 0, 1, 0, 1, 0, 1, 1, 1, 1, 1, 1, 1, 0, 0, 0, 0, 0, 0, 0, 0,\n",
       "       1, 0, 1, 1, 1, 0, 0, 1, 1, 1, 1, 1, 0, 0, 0, 0, 0, 0, 0, 0, 0, 0,\n",
       "       0, 0, 0, 0, 0, 0, 1, 0, 0, 0, 0, 0, 0, 0, 0, 0, 0, 0, 0, 0, 0, 0,\n",
       "       1, 0, 0, 0, 0, 0, 0, 0, 0, 0, 0, 1, 0, 0, 0, 0, 0, 0, 0, 1, 0, 0,\n",
       "       0, 0, 0, 0, 0, 0, 0, 0, 0, 0, 0, 0, 0, 0, 0, 0, 0, 1, 0, 0, 0, 0,\n",
       "       0, 0, 1, 1, 1, 1, 1, 1, 1, 0, 1, 1, 1, 1, 1, 1, 1, 1, 1, 1, 1, 1,\n",
       "       1, 1, 1, 1, 1, 1, 1, 1, 1, 1, 1, 1, 1, 1, 1, 1, 1, 1, 1, 1, 1, 1,\n",
       "       1, 1, 1, 1, 1, 1, 1, 1, 1, 1, 1, 1, 1, 1, 1, 1, 1, 1, 1, 1, 1, 1,\n",
       "       1, 1, 1, 1, 1, 1, 1, 1, 1, 1, 1, 1, 1, 1, 1, 0, 0, 0, 1, 0, 0, 0,\n",
       "       0, 1, 0, 0, 0, 0, 0, 0, 0, 1, 1, 1, 0, 0, 1, 1, 0, 0, 0, 1, 1, 1,\n",
       "       1, 1, 1, 1, 0, 1, 0, 1, 1, 1, 0, 0, 1, 1, 1, 0, 1, 0, 0, 0, 1, 0,\n",
       "       1, 0, 1, 0, 1, 0, 1, 1, 1, 0, 1, 0, 0, 0, 0, 1, 0, 1, 0, 0, 0, 1,\n",
       "       1, 1, 1, 0, 1, 1, 0, 0, 0, 1, 0, 0, 0, 0, 0, 0, 1, 0, 1, 1, 1, 1,\n",
       "       0, 0, 1, 1, 0, 0, 1, 1, 0, 0, 0, 0, 1, 1, 0, 0, 1, 0, 1, 0, 1, 0,\n",
       "       1, 1, 1, 0, 1, 1, 1, 1, 1, 0, 0, 1, 0, 1, 1, 1, 1, 0, 1, 1, 0, 0,\n",
       "       0, 0, 1, 1, 0, 1, 1, 1, 1, 1, 0, 1, 1, 1, 1, 1, 1, 1, 0, 0, 1, 1,\n",
       "       0, 1, 0, 1, 1, 0, 1, 1, 0, 0, 0, 0, 0, 1, 1, 1, 1, 0, 1, 1, 0, 0,\n",
       "       0, 0, 0, 1, 0, 0, 1, 0, 1, 0, 0, 1, 0, 0, 1, 0, 1, 1, 1, 0, 1, 1,\n",
       "       0, 1, 1, 1, 1, 0, 0, 0, 0, 0, 0, 0, 0, 0, 0, 0, 1, 0, 0, 0, 0, 0,\n",
       "       0, 0, 0, 0, 0, 0, 0, 0, 1, 0, 0, 0, 1, 1, 0, 0, 0, 0, 1, 0, 0, 0,\n",
       "       0, 0, 0, 0, 0, 0, 0, 0, 0, 1, 0, 0, 0, 0, 0, 0, 0, 0, 0, 0, 0, 1,\n",
       "       1, 1, 1, 1, 1, 1, 1, 1, 1, 0, 1, 1, 1, 1, 1, 1, 1, 1, 1, 1, 1, 1,\n",
       "       1, 1, 1, 1, 1, 1, 1, 0, 0, 0, 0, 0, 0, 0, 0, 1, 1, 0, 0, 0, 0, 0,\n",
       "       0, 0, 1, 1, 1, 1, 1, 1, 0, 0, 0, 0, 0, 0, 0, 0, 0, 1, 1, 1, 1, 1,\n",
       "       1, 1, 1, 1, 1, 1, 1, 1, 1, 1, 1, 1, 1, 1, 1, 1, 1, 1, 1, 0, 0, 0,\n",
       "       0, 1, 1, 0, 0, 0, 0], dtype=int64)"
      ]
     },
     "execution_count": 245,
     "metadata": {},
     "output_type": "execute_result"
    }
   ],
   "source": [
    "y_pred"
   ]
  },
  {
   "cell_type": "code",
   "execution_count": 246,
   "metadata": {},
   "outputs": [
    {
     "data": {
      "text/html": [
       "<div>\n",
       "<style scoped>\n",
       "    .dataframe tbody tr th:only-of-type {\n",
       "        vertical-align: middle;\n",
       "    }\n",
       "\n",
       "    .dataframe tbody tr th {\n",
       "        vertical-align: top;\n",
       "    }\n",
       "\n",
       "    .dataframe thead th {\n",
       "        text-align: right;\n",
       "    }\n",
       "</style>\n",
       "<table border=\"1\" class=\"dataframe\">\n",
       "  <thead>\n",
       "    <tr style=\"text-align: right;\">\n",
       "      <th></th>\n",
       "      <th>ID</th>\n",
       "      <th>CLASS</th>\n",
       "    </tr>\n",
       "  </thead>\n",
       "  <tbody>\n",
       "    <tr>\n",
       "      <th>0</th>\n",
       "      <td>0</td>\n",
       "      <td>1</td>\n",
       "    </tr>\n",
       "    <tr>\n",
       "      <th>1</th>\n",
       "      <td>1</td>\n",
       "      <td>1</td>\n",
       "    </tr>\n",
       "    <tr>\n",
       "      <th>2</th>\n",
       "      <td>2</td>\n",
       "      <td>1</td>\n",
       "    </tr>\n",
       "    <tr>\n",
       "      <th>3</th>\n",
       "      <td>3</td>\n",
       "      <td>0</td>\n",
       "    </tr>\n",
       "    <tr>\n",
       "      <th>4</th>\n",
       "      <td>4</td>\n",
       "      <td>1</td>\n",
       "    </tr>\n",
       "  </tbody>\n",
       "</table>\n",
       "</div>"
      ],
      "text/plain": [
       "   ID  CLASS\n",
       "0   0      1\n",
       "1   1      1\n",
       "2   2      1\n",
       "3   3      0\n",
       "4   4      1"
      ]
     },
     "execution_count": 246,
     "metadata": {},
     "output_type": "execute_result"
    }
   ],
   "source": [
    "csv1=pd.DataFrame([df_test['ID'],y_pred],index=['ID','CLASS']).T\n",
    "\n",
    "csv1.head()"
   ]
  },
  {
   "cell_type": "code",
   "execution_count": 247,
   "metadata": {},
   "outputs": [
    {
     "data": {
      "text/plain": [
       "1    414\n",
       "0    385\n",
       "Name: CLASS, dtype: int64"
      ]
     },
     "execution_count": 247,
     "metadata": {},
     "output_type": "execute_result"
    }
   ],
   "source": [
    "csv1['CLASS'].value_counts()"
   ]
  },
  {
   "cell_type": "code",
   "execution_count": 248,
   "metadata": {},
   "outputs": [],
   "source": [
    "csv1.to_csv(\"Advertisement_or_not.csv\",index=False)"
   ]
  },
  {
   "cell_type": "code",
   "execution_count": null,
   "metadata": {},
   "outputs": [],
   "source": []
  },
  {
   "cell_type": "code",
   "execution_count": null,
   "metadata": {},
   "outputs": [],
   "source": [
    "#VotingClassifier"
   ]
  },
  {
   "cell_type": "code",
   "execution_count": 135,
   "metadata": {},
   "outputs": [],
   "source": [
    "from sklearn.ensemble import VotingClassifier"
   ]
  },
  {
   "cell_type": "code",
   "execution_count": 136,
   "metadata": {},
   "outputs": [],
   "source": [
    "vc = VotingClassifier(estimators=[('dtc' ,DecisionTreeClassifier(criterion='entropy',max_depth=36)),('rfc',RandomForestClassifier(criterion='entropy')),('lr',LogisticRegression())],voting='soft')"
   ]
  },
  {
   "cell_type": "code",
   "execution_count": 137,
   "metadata": {},
   "outputs": [],
   "source": [
    "clf_6 = vc.fit(X_train_dtmF,y)"
   ]
  },
  {
   "cell_type": "code",
   "execution_count": 138,
   "metadata": {},
   "outputs": [
    {
     "data": {
      "text/plain": [
       "1    586\n",
       "0    571\n",
       "Name: CLASS, dtype: int64"
      ]
     },
     "execution_count": 138,
     "metadata": {},
     "output_type": "execute_result"
    }
   ],
   "source": [
    "y.value_counts()"
   ]
  },
  {
   "cell_type": "code",
   "execution_count": 139,
   "metadata": {},
   "outputs": [
    {
     "data": {
      "text/plain": [
       "<1157x9590 sparse matrix of type '<class 'numpy.int64'>'\n",
       "\twith 19122 stored elements in Compressed Sparse Row format>"
      ]
     },
     "execution_count": 139,
     "metadata": {},
     "output_type": "execute_result"
    }
   ],
   "source": [
    "X_train_dtmF"
   ]
  },
  {
   "cell_type": "code",
   "execution_count": 140,
   "metadata": {},
   "outputs": [],
   "source": [
    "y_pred = clf_6.predict(X_test_dtmF)"
   ]
  },
  {
   "cell_type": "code",
   "execution_count": 141,
   "metadata": {},
   "outputs": [
    {
     "data": {
      "text/plain": [
       "array([1, 1, 1, 0, 1, 1, 1, 1, 1, 1, 0, 1, 0, 1, 1, 0, 1, 1, 1, 1, 0, 1,\n",
       "       1, 1, 0, 1, 0, 0, 0, 0, 1, 1, 1, 1, 0, 1, 1, 1, 1, 1, 0, 1, 1, 0,\n",
       "       1, 0, 0, 0, 0, 1, 0, 0, 1, 0, 1, 1, 1, 1, 1, 1, 1, 1, 1, 1, 1, 1,\n",
       "       1, 1, 1, 0, 0, 0, 1, 1, 1, 1, 1, 0, 0, 0, 0, 0, 0, 0, 0, 1, 0, 1,\n",
       "       0, 1, 0, 1, 0, 0, 0, 0, 0, 0, 0, 0, 0, 0, 0, 0, 0, 0, 0, 0, 0, 0,\n",
       "       0, 1, 0, 0, 0, 0, 0, 1, 1, 1, 1, 0, 1, 1, 0, 0, 0, 1, 1, 0, 1, 1,\n",
       "       1, 0, 1, 0, 0, 1, 1, 1, 1, 1, 1, 1, 1, 1, 1, 1, 1, 1, 1, 1, 1, 0,\n",
       "       0, 1, 1, 1, 1, 1, 0, 0, 1, 0, 1, 1, 0, 0, 0, 1, 0, 1, 1, 0, 1, 0,\n",
       "       1, 0, 0, 0, 0, 0, 0, 0, 0, 0, 1, 0, 0, 0, 0, 0, 1, 1, 0, 1, 1, 0,\n",
       "       0, 1, 1, 1, 0, 0, 0, 1, 1, 1, 0, 1, 1, 1, 1, 1, 0, 0, 1, 0, 0, 1,\n",
       "       1, 1, 1, 1, 1, 0, 1, 1, 1, 0, 0, 1, 0, 1, 0, 0, 0, 0, 1, 0, 1, 0,\n",
       "       1, 0, 0, 1, 0, 1, 0, 1, 1, 1, 1, 1, 1, 1, 0, 0, 0, 0, 0, 0, 0, 0,\n",
       "       1, 0, 1, 1, 1, 1, 0, 1, 1, 1, 1, 1, 0, 0, 0, 0, 0, 0, 0, 0, 0, 0,\n",
       "       0, 0, 0, 0, 0, 0, 1, 0, 0, 0, 0, 0, 0, 0, 0, 0, 0, 0, 0, 0, 0, 0,\n",
       "       1, 0, 0, 0, 0, 0, 0, 0, 0, 0, 0, 0, 0, 0, 0, 0, 0, 0, 0, 0, 0, 0,\n",
       "       0, 0, 0, 0, 0, 0, 0, 0, 0, 0, 0, 0, 0, 0, 0, 0, 0, 1, 0, 0, 0, 0,\n",
       "       0, 0, 1, 1, 1, 1, 1, 1, 1, 1, 1, 1, 1, 1, 1, 1, 1, 1, 1, 1, 1, 1,\n",
       "       1, 1, 1, 1, 1, 1, 1, 1, 1, 1, 1, 1, 1, 1, 1, 1, 1, 1, 1, 1, 1, 1,\n",
       "       1, 1, 1, 1, 1, 1, 1, 1, 1, 1, 1, 1, 1, 1, 1, 1, 1, 1, 1, 1, 1, 1,\n",
       "       1, 1, 1, 1, 1, 1, 1, 1, 1, 1, 1, 1, 1, 1, 1, 0, 0, 0, 1, 0, 0, 0,\n",
       "       0, 1, 0, 0, 0, 0, 0, 0, 0, 0, 1, 1, 0, 0, 1, 1, 0, 0, 0, 1, 1, 1,\n",
       "       1, 1, 1, 1, 0, 1, 0, 1, 1, 1, 0, 0, 1, 1, 1, 0, 1, 0, 0, 0, 1, 0,\n",
       "       1, 0, 1, 0, 1, 0, 1, 1, 1, 0, 1, 0, 0, 0, 0, 1, 0, 1, 0, 0, 0, 1,\n",
       "       1, 1, 1, 0, 1, 1, 0, 0, 0, 1, 0, 0, 0, 0, 0, 0, 1, 0, 1, 1, 1, 1,\n",
       "       0, 0, 1, 1, 0, 0, 1, 1, 0, 0, 0, 0, 1, 1, 0, 0, 1, 0, 1, 0, 1, 0,\n",
       "       1, 1, 1, 0, 1, 1, 1, 1, 1, 0, 0, 1, 0, 1, 1, 1, 1, 0, 1, 1, 0, 0,\n",
       "       0, 0, 1, 1, 0, 1, 1, 1, 1, 1, 0, 1, 1, 1, 1, 1, 1, 1, 0, 0, 1, 1,\n",
       "       0, 1, 0, 1, 1, 0, 1, 1, 0, 0, 0, 0, 0, 1, 1, 1, 1, 0, 1, 1, 0, 0,\n",
       "       0, 0, 0, 1, 0, 0, 1, 0, 1, 0, 0, 1, 0, 0, 1, 0, 1, 1, 1, 0, 1, 1,\n",
       "       0, 1, 1, 1, 1, 0, 0, 0, 0, 0, 0, 0, 0, 0, 0, 0, 1, 0, 0, 0, 0, 0,\n",
       "       0, 0, 0, 0, 0, 0, 0, 0, 1, 0, 0, 0, 1, 1, 0, 0, 0, 0, 1, 0, 0, 0,\n",
       "       1, 0, 0, 0, 0, 0, 0, 0, 0, 1, 0, 0, 0, 0, 0, 0, 0, 0, 0, 0, 0, 1,\n",
       "       1, 1, 1, 1, 1, 1, 1, 1, 1, 1, 1, 1, 1, 1, 1, 1, 1, 1, 1, 1, 1, 1,\n",
       "       1, 1, 1, 1, 1, 1, 1, 0, 0, 0, 0, 0, 0, 0, 0, 0, 1, 0, 0, 0, 0, 0,\n",
       "       0, 0, 1, 1, 1, 1, 1, 1, 0, 0, 0, 0, 0, 0, 0, 0, 0, 1, 1, 1, 1, 1,\n",
       "       1, 1, 1, 1, 1, 1, 1, 1, 1, 1, 1, 1, 1, 1, 1, 1, 1, 1, 1, 0, 0, 0,\n",
       "       0, 1, 1, 0, 0, 0, 0], dtype=int64)"
      ]
     },
     "execution_count": 141,
     "metadata": {},
     "output_type": "execute_result"
    }
   ],
   "source": [
    "y_pred"
   ]
  },
  {
   "cell_type": "code",
   "execution_count": 142,
   "metadata": {},
   "outputs": [
    {
     "data": {
      "text/html": [
       "<div>\n",
       "<style scoped>\n",
       "    .dataframe tbody tr th:only-of-type {\n",
       "        vertical-align: middle;\n",
       "    }\n",
       "\n",
       "    .dataframe tbody tr th {\n",
       "        vertical-align: top;\n",
       "    }\n",
       "\n",
       "    .dataframe thead th {\n",
       "        text-align: right;\n",
       "    }\n",
       "</style>\n",
       "<table border=\"1\" class=\"dataframe\">\n",
       "  <thead>\n",
       "    <tr style=\"text-align: right;\">\n",
       "      <th></th>\n",
       "      <th>ID</th>\n",
       "      <th>CLASS</th>\n",
       "    </tr>\n",
       "  </thead>\n",
       "  <tbody>\n",
       "    <tr>\n",
       "      <th>0</th>\n",
       "      <td>0</td>\n",
       "      <td>1</td>\n",
       "    </tr>\n",
       "    <tr>\n",
       "      <th>1</th>\n",
       "      <td>1</td>\n",
       "      <td>1</td>\n",
       "    </tr>\n",
       "    <tr>\n",
       "      <th>2</th>\n",
       "      <td>2</td>\n",
       "      <td>1</td>\n",
       "    </tr>\n",
       "    <tr>\n",
       "      <th>3</th>\n",
       "      <td>3</td>\n",
       "      <td>0</td>\n",
       "    </tr>\n",
       "    <tr>\n",
       "      <th>4</th>\n",
       "      <td>4</td>\n",
       "      <td>1</td>\n",
       "    </tr>\n",
       "  </tbody>\n",
       "</table>\n",
       "</div>"
      ],
      "text/plain": [
       "   ID  CLASS\n",
       "0   0      1\n",
       "1   1      1\n",
       "2   2      1\n",
       "3   3      0\n",
       "4   4      1"
      ]
     },
     "execution_count": 142,
     "metadata": {},
     "output_type": "execute_result"
    }
   ],
   "source": [
    "csv1=pd.DataFrame([df_test['ID'],y_pred],index=['ID','CLASS']).T\n",
    "\n",
    "csv1.head()"
   ]
  },
  {
   "cell_type": "code",
   "execution_count": 143,
   "metadata": {},
   "outputs": [
    {
     "data": {
      "text/plain": [
       "1    410\n",
       "0    389\n",
       "Name: CLASS, dtype: int64"
      ]
     },
     "execution_count": 143,
     "metadata": {},
     "output_type": "execute_result"
    }
   ],
   "source": [
    "csv1['CLASS'].value_counts()"
   ]
  },
  {
   "cell_type": "code",
   "execution_count": 144,
   "metadata": {},
   "outputs": [],
   "source": [
    "csv1.to_csv(\"Advertisement_or_not.csv\",index=False)"
   ]
  },
  {
   "cell_type": "code",
   "execution_count": 122,
   "metadata": {},
   "outputs": [
    {
     "data": {
      "text/html": [
       "<div>\n",
       "<style scoped>\n",
       "    .dataframe tbody tr th:only-of-type {\n",
       "        vertical-align: middle;\n",
       "    }\n",
       "\n",
       "    .dataframe tbody tr th {\n",
       "        vertical-align: top;\n",
       "    }\n",
       "\n",
       "    .dataframe thead th {\n",
       "        text-align: right;\n",
       "    }\n",
       "</style>\n",
       "<table border=\"1\" class=\"dataframe\">\n",
       "  <thead>\n",
       "    <tr style=\"text-align: right;\">\n",
       "      <th></th>\n",
       "      <th>ID</th>\n",
       "      <th>CLASS</th>\n",
       "    </tr>\n",
       "  </thead>\n",
       "  <tbody>\n",
       "    <tr>\n",
       "      <th>0</th>\n",
       "      <td>0</td>\n",
       "      <td>1</td>\n",
       "    </tr>\n",
       "    <tr>\n",
       "      <th>1</th>\n",
       "      <td>1</td>\n",
       "      <td>1</td>\n",
       "    </tr>\n",
       "    <tr>\n",
       "      <th>2</th>\n",
       "      <td>2</td>\n",
       "      <td>1</td>\n",
       "    </tr>\n",
       "    <tr>\n",
       "      <th>3</th>\n",
       "      <td>3</td>\n",
       "      <td>0</td>\n",
       "    </tr>\n",
       "    <tr>\n",
       "      <th>4</th>\n",
       "      <td>4</td>\n",
       "      <td>1</td>\n",
       "    </tr>\n",
       "    <tr>\n",
       "      <th>...</th>\n",
       "      <td>...</td>\n",
       "      <td>...</td>\n",
       "    </tr>\n",
       "    <tr>\n",
       "      <th>794</th>\n",
       "      <td>794</td>\n",
       "      <td>1</td>\n",
       "    </tr>\n",
       "    <tr>\n",
       "      <th>795</th>\n",
       "      <td>795</td>\n",
       "      <td>0</td>\n",
       "    </tr>\n",
       "    <tr>\n",
       "      <th>796</th>\n",
       "      <td>796</td>\n",
       "      <td>0</td>\n",
       "    </tr>\n",
       "    <tr>\n",
       "      <th>797</th>\n",
       "      <td>797</td>\n",
       "      <td>0</td>\n",
       "    </tr>\n",
       "    <tr>\n",
       "      <th>798</th>\n",
       "      <td>798</td>\n",
       "      <td>0</td>\n",
       "    </tr>\n",
       "  </tbody>\n",
       "</table>\n",
       "<p>799 rows × 2 columns</p>\n",
       "</div>"
      ],
      "text/plain": [
       "      ID  CLASS\n",
       "0      0      1\n",
       "1      1      1\n",
       "2      2      1\n",
       "3      3      0\n",
       "4      4      1\n",
       "..   ...    ...\n",
       "794  794      1\n",
       "795  795      0\n",
       "796  796      0\n",
       "797  797      0\n",
       "798  798      0\n",
       "\n",
       "[799 rows x 2 columns]"
      ]
     },
     "execution_count": 122,
     "metadata": {},
     "output_type": "execute_result"
    }
   ],
   "source": [
    "pd.read_csv('Advertisement_or_not.csv')"
   ]
  },
  {
   "cell_type": "code",
   "execution_count": null,
   "metadata": {},
   "outputs": [],
   "source": []
  },
  {
   "cell_type": "code",
   "execution_count": null,
   "metadata": {},
   "outputs": [],
   "source": []
  },
  {
   "cell_type": "markdown",
   "metadata": {},
   "source": [
    "## Checking with TfidfVectorizer"
   ]
  },
  {
   "cell_type": "code",
   "execution_count": 18,
   "metadata": {},
   "outputs": [],
   "source": [
    "X = df_train['CONTENT']\n",
    "y = df_train['CLASS']"
   ]
  },
  {
   "cell_type": "code",
   "execution_count": 19,
   "metadata": {},
   "outputs": [],
   "source": [
    "X_train, X_test, y_train, y_test = train_test_split(X, y, test_size=0.3, random_state=42)"
   ]
  },
  {
   "cell_type": "code",
   "execution_count": 20,
   "metadata": {},
   "outputs": [],
   "source": [
    "from sklearn.feature_extraction.text import CountVectorizer,TfidfVectorizer"
   ]
  },
  {
   "cell_type": "code",
   "execution_count": 73,
   "metadata": {},
   "outputs": [],
   "source": [
    "toNumeric_tfidf = TfidfVectorizer(stop_words='english',token_pattern = '[a-zA-Z0-9]+',ngram_range=(1,2))"
   ]
  },
  {
   "cell_type": "code",
   "execution_count": 74,
   "metadata": {},
   "outputs": [
    {
     "data": {
      "text/plain": [
       "TfidfVectorizer(ngram_range=(1, 2), stop_words='english',\n",
       "                token_pattern='[a-zA-Z0-9]+')"
      ]
     },
     "execution_count": 74,
     "metadata": {},
     "output_type": "execute_result"
    }
   ],
   "source": [
    "toNumeric_tfidf.fit(X_train)"
   ]
  },
  {
   "cell_type": "code",
   "execution_count": 75,
   "metadata": {},
   "outputs": [],
   "source": [
    "wordsCV = toNumeric_tfidf.get_feature_names()"
   ]
  },
  {
   "cell_type": "code",
   "execution_count": 76,
   "metadata": {},
   "outputs": [
    {
     "data": {
      "text/plain": [
       "['0',\n",
       " '0 1',\n",
       " '0 amp',\n",
       " '0 h',\n",
       " '0 margin',\n",
       " '0 padding',\n",
       " '0 src',\n",
       " '000',\n",
       " '000 000',\n",
       " '000 comment',\n",
       " '000 month',\n",
       " '000 subscribers',\n",
       " '000 view',\n",
       " '034',\n",
       " '034 783',\n",
       " '04',\n",
       " '04 katy',\n",
       " '05',\n",
       " '05 hahahahah',\n",
       " '053012',\n",
       " '053012 jpg',\n",
       " '08',\n",
       " '08 little',\n",
       " '0d878a889c',\n",
       " '0f9fa8aa',\n",
       " '0f9fa8aa 243a',\n",
       " '0laviqu2b',\n",
       " '1',\n",
       " '1 000',\n",
       " '1 57',\n",
       " '1 710',\n",
       " '1 884',\n",
       " '1 africa',\n",
       " '1 amp',\n",
       " '1 bil',\n",
       " '1 billion',\n",
       " '1 day',\n",
       " '1 ff3',\n",
       " '1 icep',\n",
       " '1 lt',\n",
       " '1 mabey',\n",
       " '1 million',\n",
       " '1 millioon',\n",
       " '1 penny',\n",
       " '1 song',\n",
       " '1 thank',\n",
       " '1 waka',\n",
       " '1 year',\n",
       " '10',\n",
       " '10 months',\n",
       " '100',\n",
       " '100 100',\n",
       " '100 subs',\n",
       " '100 subscribers',\n",
       " '10000000',\n",
       " '10000000 subscribers',\n",
       " '10001',\n",
       " '10001 amp',\n",
       " '100877300245414',\n",
       " '100877300245414 https',\n",
       " '10200253113705769',\n",
       " '10200253113705769 amp',\n",
       " '1024',\n",
       " '1024 katy',\n",
       " '104999962146104962510',\n",
       " '104999962146104962510 oid',\n",
       " '104999962146104962510 supermariologan',\n",
       " '10626048',\n",
       " '10626048 expendables',\n",
       " '1073741828',\n",
       " '1073741828 1496241863981208',\n",
       " '1073741830',\n",
       " '1073741830 327568907427561',\n",
       " '1073741943',\n",
       " '1073741943 111719098841907',\n",
       " '109',\n",
       " '109 videos',\n",
       " '11',\n",
       " '11 08',\n",
       " '11 video',\n",
       " '11 year',\n",
       " '111719098841907',\n",
       " '111719098841907 937732262907249',\n",
       " '126',\n",
       " '126 521',\n",
       " '128gb',\n",
       " '128gb price',\n",
       " '13',\n",
       " '13 intel',\n",
       " '1337',\n",
       " '134470083389909',\n",
       " '134470083389909 like',\n",
       " '14',\n",
       " '14 year',\n",
       " '1442646731',\n",
       " '1495323920744243',\n",
       " '1495323920744243 ref',\n",
       " '1496241863981208',\n",
       " '1496241863981208 1498561870415874',\n",
       " '1496273723978022',\n",
       " '1496273723978022 1073741828',\n",
       " '1498561870415874',\n",
       " '1498561870415874 type',\n",
       " '15',\n",
       " '15 age',\n",
       " '15 year',\n",
       " '16',\n",
       " '16 bar',\n",
       " '16 n',\n",
       " '161620527267482',\n",
       " '16gb',\n",
       " '16gb new',\n",
       " '17',\n",
       " '17 year',\n",
       " '17 years',\n",
       " '1727483389',\n",
       " '1727483389 amp',\n",
       " '18',\n",
       " '18 55mm',\n",
       " '18 year',\n",
       " '19',\n",
       " '19 year',\n",
       " '19255',\n",
       " '19255 0',\n",
       " '19924',\n",
       " '19924 616375350',\n",
       " '1b',\n",
       " '1b b',\n",
       " '1bi',\n",
       " '1bi view',\n",
       " '1billion',\n",
       " '1billion view',\n",
       " '1m',\n",
       " '1m crdits',\n",
       " '2',\n",
       " '2 05',\n",
       " '2 126',\n",
       " '2 2billion',\n",
       " '2 39',\n",
       " '2 amp',\n",
       " '2 bear',\n",
       " '2 bilion',\n",
       " '2 billion',\n",
       " '2 brothers',\n",
       " '2 channel',\n",
       " '2 holy',\n",
       " '2 million',\n",
       " '2 months',\n",
       " '2 years',\n",
       " '20',\n",
       " '20 minutes',\n",
       " '20 paypal',\n",
       " '20 subs',\n",
       " '200',\n",
       " '200 subscribers',\n",
       " '2004',\n",
       " '2004 check',\n",
       " '2009',\n",
       " '2009 2',\n",
       " '200k',\n",
       " '200k world',\n",
       " '200mm',\n",
       " '200mm 32gb',\n",
       " '2010',\n",
       " '2010 time',\n",
       " '2011',\n",
       " '2011 year',\n",
       " '2012',\n",
       " '2012 just',\n",
       " '2012430',\n",
       " '2012430 reg',\n",
       " '2013',\n",
       " '2013 s',\n",
       " '2014',\n",
       " '2014 11',\n",
       " '2014 134470083389909',\n",
       " '2014 best',\n",
       " '2014 dvdscr',\n",
       " '2014 year',\n",
       " '201470069872822',\n",
       " '201470069872822 amp',\n",
       " '2015',\n",
       " '2015 br',\n",
       " '2015 contest',\n",
       " '2015 d',\n",
       " '2015 fuck',\n",
       " '2015 hi',\n",
       " '2015 im',\n",
       " '2015 like',\n",
       " '2015 llikee',\n",
       " '2015 subscribe',\n",
       " '2015 super',\n",
       " '2015 superbowl',\n",
       " '2017',\n",
       " '2017 half',\n",
       " '210',\n",
       " '210 dislike',\n",
       " '2177367',\n",
       " '2177367 vote',\n",
       " '229508',\n",
       " '229508 amp',\n",
       " '23active',\n",
       " '23active active',\n",
       " '23lmfao',\n",
       " '23lmfao lmfao',\n",
       " '243a',\n",
       " '243a 5c2f',\n",
       " '25',\n",
       " '25 35',\n",
       " '25 thank',\n",
       " '251638183951',\n",
       " '251638183951 sspagename',\n",
       " '25874',\n",
       " '25874 2177367',\n",
       " '26032883',\n",
       " '26032883 love',\n",
       " '279',\n",
       " '279 898',\n",
       " '2b',\n",
       " '2b hits',\n",
       " '2billion',\n",
       " '2billion hit',\n",
       " '2billion people',\n",
       " '2billion view',\n",
       " '2x10',\n",
       " '2x10 9',\n",
       " '3',\n",
       " '3 000',\n",
       " '3 2014',\n",
       " '3 40',\n",
       " '3 amp',\n",
       " '3 billion',\n",
       " '3 br',\n",
       " '3 dollars',\n",
       " '3 empire',\n",
       " '3 hackers',\n",
       " '3 minutes',\n",
       " '3 shakira',\n",
       " '3 song',\n",
       " '3 vids',\n",
       " '302703146601369',\n",
       " '313327',\n",
       " '313327 help',\n",
       " '314',\n",
       " '320',\n",
       " '320 camera',\n",
       " '327568907427561',\n",
       " '327568907427561 333607726823679',\n",
       " '32gb',\n",
       " '32gb black',\n",
       " '32gb price',\n",
       " '32gb unlock',\n",
       " '33',\n",
       " '333607726823679',\n",
       " '333607726823679 type',\n",
       " '333608120156973',\n",
       " '333608120156973 1073741830',\n",
       " '35',\n",
       " '35 hour',\n",
       " '360',\n",
       " '360 sony',\n",
       " '365',\n",
       " '365 days',\n",
       " '385',\n",
       " '385 samsung',\n",
       " '389088',\n",
       " '389088 sheilcen',\n",
       " '39',\n",
       " '39 africans',\n",
       " '39 cuz',\n",
       " '39 d',\n",
       " '39 days',\n",
       " '39 good',\n",
       " '39 great',\n",
       " '39 ll',\n",
       " '39 m',\n",
       " '39 palastine',\n",
       " '39 s',\n",
       " '39 t',\n",
       " '39 ve',\n",
       " '39 watch',\n",
       " '390',\n",
       " '390 apple',\n",
       " '390 ultrabooks',\n",
       " '3d',\n",
       " '3d lead',\n",
       " '3m',\n",
       " '3m subscribers',\n",
       " '3m40s',\n",
       " '3m40s 3',\n",
       " '4',\n",
       " '4 0',\n",
       " '4 11',\n",
       " '4 16gb',\n",
       " '4 6',\n",
       " '4 fuck',\n",
       " '4 inch',\n",
       " '4 months',\n",
       " '4 song',\n",
       " '4 years',\n",
       " '40',\n",
       " '40 hours',\n",
       " '40 href',\n",
       " '4000',\n",
       " '4000 5000',\n",
       " '4000dollars',\n",
       " '4000dollars month',\n",
       " '41',\n",
       " '41 39',\n",
       " '447935454150',\n",
       " '447935454150 lovely',\n",
       " '4483179854075',\n",
       " '4483179854075 amp',\n",
       " '46',\n",
       " '46 invisible',\n",
       " '482',\n",
       " '482 940',\n",
       " '490',\n",
       " '490 000',\n",
       " '4g',\n",
       " '4g 9',\n",
       " '4gb',\n",
       " '4gb 128gb',\n",
       " '4m11s',\n",
       " '4m11s 4',\n",
       " '4netjobs',\n",
       " '4netjobs com',\n",
       " '4s',\n",
       " '4s 4',\n",
       " '4th',\n",
       " '4th gen',\n",
       " '4th sell',\n",
       " '5',\n",
       " '5 5s',\n",
       " '5 comforter',\n",
       " '5 complain',\n",
       " '5 dollars',\n",
       " '5 latest',\n",
       " '5 milions',\n",
       " '5 minutes',\n",
       " '5 months',\n",
       " '5 star',\n",
       " '5 years',\n",
       " '50',\n",
       " '50 sub',\n",
       " '500',\n",
       " '500 like',\n",
       " '500 new',\n",
       " '500 subscribers',\n",
       " '5000',\n",
       " '5000 monthly',\n",
       " '5000 sub',\n",
       " '500k',\n",
       " '500k video',\n",
       " '505b0232',\n",
       " '505b0232 https',\n",
       " '5094',\n",
       " '5094 amp',\n",
       " '50k',\n",
       " '50k month',\n",
       " '510',\n",
       " '510 pcs',\n",
       " '515',\n",
       " '515 purchase',\n",
       " '521',\n",
       " '521 750',\n",
       " '5242575',\n",
       " '5277478',\n",
       " '5277478 comment',\n",
       " '5337555197',\n",
       " '5337555197 amp',\n",
       " '53481',\n",
       " '53481 19255',\n",
       " '543627485763966',\n",
       " '543627485763966 amp',\n",
       " '55',\n",
       " '55 200mm',\n",
       " '5575096797',\n",
       " '5575096797 amp',\n",
       " '55mm',\n",
       " '55mm 55',\n",
       " '566',\n",
       " '566 000',\n",
       " '57',\n",
       " '57 lol',\n",
       " '5800',\n",
       " '5800 ll',\n",
       " '5af506e1',\n",
       " '5c',\n",
       " '5c 4s',\n",
       " '5c2f',\n",
       " '5c2f c349',\n",
       " '5million',\n",
       " '5million comment',\n",
       " '5million fake',\n",
       " '5s',\n",
       " '5s 5c',\n",
       " '5th',\n",
       " '5th view',\n",
       " '6',\n",
       " '6 500',\n",
       " '6 month',\n",
       " '6 months',\n",
       " '6 n',\n",
       " '6 old',\n",
       " '6 years',\n",
       " '60',\n",
       " '60 6',\n",
       " '60 inch',\n",
       " '60 years',\n",
       " '600',\n",
       " '600 60',\n",
       " '600 million',\n",
       " '600 quid',\n",
       " '616375350',\n",
       " '629',\n",
       " '629 million',\n",
       " '6381501',\n",
       " '6381501 timothy',\n",
       " '661',\n",
       " '661 million',\n",
       " '666',\n",
       " '666 people',\n",
       " '7',\n",
       " '7 billion',\n",
       " '7 inch',\n",
       " '7 million',\n",
       " '7 noms',\n",
       " '710',\n",
       " '710 53481',\n",
       " '733634264',\n",
       " '733634264 visortwin',\n",
       " '733949243353321',\n",
       " '733949243353321 comment',\n",
       " '734237113324534',\n",
       " '734237113324534 amp',\n",
       " '74',\n",
       " '74 like',\n",
       " '750',\n",
       " '750 view',\n",
       " '775510675841486',\n",
       " '783',\n",
       " '783 view',\n",
       " '79',\n",
       " '7in',\n",
       " '7in white',\n",
       " '7k',\n",
       " '7k subscribers',\n",
       " '8',\n",
       " '800',\n",
       " '800 m',\n",
       " '800 mil',\n",
       " '824',\n",
       " '824 amp',\n",
       " '857',\n",
       " '857 482',\n",
       " '868',\n",
       " '868 mio',\n",
       " '87',\n",
       " '87 cypher',\n",
       " '870',\n",
       " '870 000',\n",
       " '884',\n",
       " '884 034',\n",
       " '898',\n",
       " '898 youtube',\n",
       " '89c',\n",
       " '89c c3',\n",
       " '89iyec7nrwp5nytno5u7amhvmflutggl',\n",
       " '89iyec7nrwp5nytno5u7amhvmflutggl amp',\n",
       " '9',\n",
       " '9 7in',\n",
       " '9 months',\n",
       " '9 view',\n",
       " '90',\n",
       " '90 amp',\n",
       " '902099',\n",
       " '902099 amp',\n",
       " '9277547',\n",
       " '9277547 peace',\n",
       " '936868579660284',\n",
       " '936868579660284 1073741943',\n",
       " '937732262907249',\n",
       " '937732262907249 type',\n",
       " '940',\n",
       " '940 view',\n",
       " '969',\n",
       " '969 210',\n",
       " '999999999',\n",
       " '999999999 gt',\n",
       " '9bzkp7q19f0',\n",
       " '9gag',\n",
       " '9gag com',\n",
       " '9nl',\n",
       " '9nl make',\n",
       " 'aaas',\n",
       " 'aaas org',\n",
       " 'aavpwj9',\n",
       " 'ablaze',\n",
       " 'ablaze crabby',\n",
       " 'able',\n",
       " 'able advertise',\n",
       " 'able cover',\n",
       " 'absolutely',\n",
       " 'absolutely adore',\n",
       " 'absolutely amaze',\n",
       " 'absolutely beautiful',\n",
       " 'absolutely gorgeous',\n",
       " 'abused',\n",
       " 'abused mistreated',\n",
       " 'abusive',\n",
       " 'abusive tower',\n",
       " 'acaer',\n",
       " 'acaer chillpal',\n",
       " 'acceptance',\n",
       " 'acceptance speech',\n",
       " 'access',\n",
       " 'access internet',\n",
       " 'accidental',\n",
       " 'accidental pepelexa',\n",
       " 'account',\n",
       " 'account 389088',\n",
       " 'account ll',\n",
       " 'account psy',\n",
       " 'acquire',\n",
       " 'acquire bonus',\n",
       " 'act',\n",
       " 'act like',\n",
       " 'active',\n",
       " 'active bad',\n",
       " 'active child',\n",
       " 'active youtube',\n",
       " 'actor',\n",
       " 'actor hwang',\n",
       " 'actorid',\n",
       " 'actorid 1442646731',\n",
       " 'actually',\n",
       " 'actually buy',\n",
       " 'actually loss',\n",
       " 'actually respect',\n",
       " 'adam',\n",
       " 'adam b',\n",
       " 'adam whitney',\n",
       " 'add',\n",
       " 'add follow',\n",
       " 'add hit',\n",
       " 'addition',\n",
       " 'addition design',\n",
       " 'adf',\n",
       " 'adf ly',\n",
       " 'adhoc',\n",
       " 'adhoc weak',\n",
       " 'admirable',\n",
       " 'admirable pray',\n",
       " 'admit',\n",
       " 'admit just',\n",
       " 'adore',\n",
       " 'adore watch',\n",
       " 'advance',\n",
       " 'advertise',\n",
       " 'advertise channel',\n",
       " 'advertise simple',\n",
       " 'advertise wont',\n",
       " 'advertisements',\n",
       " 'advertisements chance',\n",
       " 'affiliate',\n",
       " 'affiliate company',\n",
       " 'afflict',\n",
       " 'afflict pray',\n",
       " 'africa',\n",
       " 'africa 2',\n",
       " 'africa african',\n",
       " 'africa br',\n",
       " 'africa check',\n",
       " 'africa quot',\n",
       " 'african',\n",
       " 'african people',\n",
       " 'african quot',\n",
       " 'africans',\n",
       " 'africans colour',\n",
       " 'age',\n",
       " 'age 46',\n",
       " 'age don',\n",
       " 'ago',\n",
       " 'ago ancestors',\n",
       " 'ago bring',\n",
       " 'ago damn',\n",
       " 'ago justin',\n",
       " 'ago promise',\n",
       " 'ago song',\n",
       " 'agree',\n",
       " 'agree just',\n",
       " 'ah',\n",
       " 'ah good',\n",
       " 'ahhh',\n",
       " 'ahhh 2',\n",
       " 'ahhh life',\n",
       " 'aiiima',\n",
       " 'aiiima plzzz',\n",
       " 'air',\n",
       " 'air price',\n",
       " 'airplane',\n",
       " 'airplane crash',\n",
       " 'aka',\n",
       " 'aka soccer',\n",
       " 'al',\n",
       " 'al ma',\n",
       " 'alcoholic',\n",
       " 'alcoholic 15',\n",
       " 'alex',\n",
       " 'alex serov',\n",
       " 'alive',\n",
       " 'alive subscribe',\n",
       " 'allot',\n",
       " 'allot effort',\n",
       " 'allow',\n",
       " 'allow gwar',\n",
       " 'allways',\n",
       " 'allways laugh',\n",
       " 'almond',\n",
       " 'almond eyes',\n",
       " 'aloidia',\n",
       " 'aloidia cheilith',\n",
       " 'alot',\n",
       " 'alot girls',\n",
       " 'alright',\n",
       " 'alright ladies',\n",
       " 'amaze',\n",
       " 'amaze hope',\n",
       " 'amaze result',\n",
       " 'amaze smiley',\n",
       " 'amaze song',\n",
       " 'ambition',\n",
       " 'ambition subscribe',\n",
       " 'america',\n",
       " 'american',\n",
       " 'amiable',\n",
       " 'amiable pray',\n",
       " 'amp',\n",
       " 'amp actorid',\n",
       " 'amp campid',\n",
       " 'amp chillstep',\n",
       " 'amp crea',\n",
       " 'amp csrftoken',\n",
       " 'amp customid',\n",
       " 'amp dj',\n",
       " 'amp dref',\n",
       " 'amp follow',\n",
       " 'amp god',\n",
       " 'amp hl',\n",
       " 'amp house',\n",
       " 'amp icep',\n",
       " 'amp ipn',\n",
       " 'amp keyword',\n",
       " 'amp kw',\n",
       " 'amp kwid',\n",
       " 'amp l',\n",
       " 'amp list',\n",
       " 'amp mpt',\n",
       " 'amp mtid',\n",
       " 'amp offset',\n",
       " 'amp permpage',\n",
       " 'amp pub',\n",
       " 'amp ref',\n",
       " 'amp rrid',\n",
       " 'amp set',\n",
       " 'amp share',\n",
       " 'amp size',\n",
       " 'amp sort',\n",
       " 'amp store',\n",
       " 'amp t',\n",
       " 'amp theater',\n",
       " 'amp toolid',\n",
       " 'amp total',\n",
       " 'amp trksid',\n",
       " 'amp type',\n",
       " 'anand',\n",
       " 'anand niketan',\n",
       " 'ancestors',\n",
       " 'ancestors leave',\n",
       " 'anderson',\n",
       " 'anderson 39',\n",
       " 'android',\n",
       " 'android game',\n",
       " 'android photo',\n",
       " 'angel',\n",
       " 'angel rookie',\n",
       " 'angels',\n",
       " 'angels n',\n",
       " 'angels pray',\n",
       " 'animal',\n",
       " 'animal organizations',\n",
       " 'animals',\n",
       " 'animals fund',\n",
       " 'animals like',\n",
       " 'animals ones',\n",
       " 'annoy',\n",
       " 'annoy check',\n",
       " 'annoy hell',\n",
       " 'annoy spammed',\n",
       " 'annoy spare',\n",
       " 'annoying',\n",
       " 'ans',\n",
       " 'ans katy',\n",
       " 'antrobofficial',\n",
       " 'anxious',\n",
       " 'anxious regret',\n",
       " 'anymore',\n",
       " 'anymore gim',\n",
       " 'anymore just',\n",
       " 'apostles',\n",
       " 'apostles pray',\n",
       " 'app',\n",
       " 'app link',\n",
       " 'app solve',\n",
       " 'applause',\n",
       " 'applause lt',\n",
       " 'apple',\n",
       " 'apple ipad',\n",
       " 'apple iphone',\n",
       " 'apple macbook',\n",
       " 'applocker',\n",
       " 'applocker amp',\n",
       " 'apply',\n",
       " 'apply learn',\n",
       " 'appreciate',\n",
       " 'appreciate chance',\n",
       " 'appreciate constructive',\n",
       " 'appreciate hair',\n",
       " 'appreciate help',\n",
       " 'appreciate subscribe',\n",
       " 'appreciate thumb',\n",
       " 'appreciate time',\n",
       " 'appreciate win',\n",
       " 'apprecitate',\n",
       " 'apps',\n",
       " 'apps 1m',\n",
       " 'apps details',\n",
       " 'apps facebook',\n",
       " 'arbitrate',\n",
       " 'arbitrate guide',\n",
       " 'arive',\n",
       " 'arive ebay',\n",
       " 'arkglzjqup0',\n",
       " 'arkglzjqup0 fb',\n",
       " 'arrogant',\n",
       " 'arrogant obviously',\n",
       " 'arrowgance',\n",
       " 'arrowgance lively',\n",
       " 'art',\n",
       " 'art videos',\n",
       " 'artist',\n",
       " 'artist everyday',\n",
       " 'artist year',\n",
       " 'artists',\n",
       " 'aseris',\n",
       " 'aseris money',\n",
       " 'asia',\n",
       " 'asia look',\n",
       " 'asian',\n",
       " 'asian countries',\n",
       " 'asian things',\n",
       " 'ask',\n",
       " 'ask critique',\n",
       " 'ask promote',\n",
       " 'aslamu',\n",
       " 'aslamu lykum',\n",
       " 'aspx',\n",
       " 'aspx e',\n",
       " 'ass',\n",
       " 'ass channel',\n",
       " 'assume',\n",
       " 'assume bookmakers',\n",
       " 'astauand',\n",
       " 'astauand johackle',\n",
       " 'attention',\n",
       " 'attention hooker',\n",
       " 'attention im',\n",
       " 'attention just',\n",
       " 'attention katycats',\n",
       " 'attention subscribe',\n",
       " 'audition',\n",
       " 'audition jyp',\n",
       " 'audition korean',\n",
       " 'australia',\n",
       " 'australia attention',\n",
       " 'authority',\n",
       " 'authority improve',\n",
       " 'autotune',\n",
       " 'autotuned',\n",
       " 'avoid',\n",
       " 'avoid watch',\n",
       " 'award',\n",
       " 'award method',\n",
       " 'away',\n",
       " 'away 6',\n",
       " 'away act',\n",
       " 'away help',\n",
       " 'away im',\n",
       " 'away way',\n",
       " 'aways',\n",
       " 'aways goal',\n",
       " 'awesom',\n",
       " 'awesome',\n",
       " 'awesome 39',\n",
       " 'awesome cover',\n",
       " 'awesome edm',\n",
       " 'awesome entertainer',\n",
       " 'awesome fuck',\n",
       " 'awesome guy',\n",
       " 'awesome ll',\n",
       " 'awesome non',\n",
       " 'awesome song',\n",
       " 'awesome thank',\n",
       " 'awesome video',\n",
       " 'awesome videos',\n",
       " 'awsome',\n",
       " 'awsome br',\n",
       " 'axeljonssons',\n",
       " 'ayyy',\n",
       " 'ayyy u',\n",
       " 'azerbaijan',\n",
       " 'azerbaijan br',\n",
       " 'b',\n",
       " 'b 1b',\n",
       " 'b beat',\n",
       " 'b otib',\n",
       " 'b rile',\n",
       " 'b view',\n",
       " 'b5',\n",
       " 'b5 al',\n",
       " 'b5t',\n",
       " 'b5t 302703146601369',\n",
       " 'b7b',\n",
       " 'b7b ce',\n",
       " 'b8l',\n",
       " 'b8l ce',\n",
       " 'ba',\n",
       " 'ba dancing',\n",
       " 'baba',\n",
       " 'baba brinkman',\n",
       " 'baby',\n",
       " 'baby congrats',\n",
       " 'baby justin',\n",
       " 'baby quot',\n",
       " 'bad',\n",
       " 'bad 5277478',\n",
       " 'bad brazilian',\n",
       " 'bady',\n",
       " 'bady yust',\n",
       " 'ball',\n",
       " 'ball house',\n",
       " 'ball vincent',\n",
       " 'band',\n",
       " 'band page',\n",
       " 'bar',\n",
       " 'bar song',\n",
       " 'barnesandnoble',\n",
       " 'barnesandnoble com',\n",
       " 'base',\n",
       " 'base click',\n",
       " 'based',\n",
       " 'based music',\n",
       " 'bass',\n",
       " 'bdp',\n",
       " 'bdp amp',\n",
       " 'bdp csrftoken',\n",
       " 'bear',\n",
       " 'bear beautiful',\n",
       " 'bear october',\n",
       " 'beat',\n",
       " 'beat 2013',\n",
       " 'beat check',\n",
       " 'beat millions',\n",
       " 'beat psy',\n",
       " 'beatboxing',\n",
       " 'beaties',\n",
       " 'beaties make',\n",
       " 'beautiful',\n",
       " 'beautiful american',\n",
       " 'beautiful girl',\n",
       " 'beautiful lovely',\n",
       " 'beautiful need',\n",
       " 'beautiful song',\n",
       " 'beautiful songs',\n",
       " 'beautiful south',\n",
       " 'beautiful suddenly',\n",
       " 'beauty',\n",
       " 'beauty download',\n",
       " 'begin',\n",
       " 'begin scar',\n",
       " 'begin work',\n",
       " 'behavior',\n",
       " 'behavior grass',\n",
       " 'beibs',\n",
       " 'beibs n',\n",
       " 'believe',\n",
       " 'believe kid',\n",
       " 'believe love',\n",
       " 'believe maybe',\n",
       " 'believe pray',\n",
       " 'believe shit',\n",
       " 'believe website',\n",
       " 'believe women',\n",
       " 'believemefilm',\n",
       " 'believemefilm com',\n",
       " 'bennett',\n",
       " 'berzerk',\n",
       " 'berzerk video',\n",
       " 'besloor',\n",
       " 'besloor shame',\n",
       " 'best',\n",
       " 'best female',\n",
       " 'best funny',\n",
       " 'best live',\n",
       " 'best look',\n",
       " 'best love',\n",
       " 'best party',\n",
       " 'best pop',\n",
       " 'best rapper',\n",
       " 'best singer',\n",
       " 'best song',\n",
       " 'best songs',\n",
       " 'best video',\n",
       " 'best voice',\n",
       " 'best way',\n",
       " 'best wk',\n",
       " 'best world',\n",
       " 'betfair',\n",
       " 'betfair acquire',\n",
       " 'better',\n",
       " 'better 10',\n",
       " 'better 39',\n",
       " 'better black',\n",
       " 'better eminem',\n",
       " 'better football',\n",
       " 'better person',\n",
       " 'beutiful',\n",
       " 'big',\n",
       " 'big dick',\n",
       " 'big dream',\n",
       " 'big fan',\n",
       " 'big room',\n",
       " 'big think',\n",
       " 'bigboss286',\n",
       " 'bigelow',\n",
       " 'bigelow 39',\n",
       " 'bigger',\n",
       " 'bigger s',\n",
       " 'bighit',\n",
       " 'bighit jellyfish',\n",
       " 'bikini',\n",
       " 'bil',\n",
       " 'bil wow',\n",
       " 'bilion',\n",
       " 'bilion views',\n",
       " 'billie',\n",
       " 'billie jean',\n",
       " 'billion',\n",
       " 'billion come',\n",
       " 'billion shit',\n",
       " 'billion view',\n",
       " 'billion worth',\n",
       " 'bills',\n",
       " 'bills help',\n",
       " 'binbox',\n",
       " 'binbox io',\n",
       " 'bing',\n",
       " 'bing com',\n",
       " 'bing reward',\n",
       " 'birthday',\n",
       " 'birthday katy',\n",
       " 'birthday today',\n",
       " 'bitch',\n",
       " 'bitch hyuna',\n",
       " 'bitch need',\n",
       " 'bite',\n",
       " 'bite blank',\n",
       " 'bite end',\n",
       " 'black',\n",
       " 'black hair',\n",
       " 'black price',\n",
       " 'black robot',\n",
       " 'blank',\n",
       " 'blank space',\n",
       " 'bleach',\n",
       " 'bless',\n",
       " 'block',\n",
       " 'block youtube',\n",
       " 'blog',\n",
       " 'blog sinar',\n",
       " 'blond',\n",
       " 'blond hair',\n",
       " 'blow',\n",
       " 'blow mind',\n",
       " 'blue',\n",
       " 'body',\n",
       " 'body like',\n",
       " 'bogdan',\n",
       " 'bogdan grigore',\n",
       " ...]"
      ]
     },
     "execution_count": 76,
     "metadata": {},
     "output_type": "execute_result"
    }
   ],
   "source": [
    "wordsCV"
   ]
  },
  {
   "cell_type": "code",
   "execution_count": 77,
   "metadata": {},
   "outputs": [
    {
     "data": {
      "text/plain": [
       "7007"
      ]
     },
     "execution_count": 77,
     "metadata": {},
     "output_type": "execute_result"
    }
   ],
   "source": [
    "len(wordsCV)"
   ]
  },
  {
   "cell_type": "code",
   "execution_count": 78,
   "metadata": {},
   "outputs": [],
   "source": [
    "X_train_dtm_tfidf = toNumeric_tfidf.transform(X_train)"
   ]
  },
  {
   "cell_type": "code",
   "execution_count": 80,
   "metadata": {},
   "outputs": [
    {
     "data": {
      "text/plain": [
       "<809x7007 sparse matrix of type '<class 'numpy.float64'>'\n",
       "\twith 12945 stored elements in Compressed Sparse Row format>"
      ]
     },
     "execution_count": 80,
     "metadata": {},
     "output_type": "execute_result"
    }
   ],
   "source": [
    "X_train_dtm_tfidf"
   ]
  },
  {
   "cell_type": "code",
   "execution_count": 81,
   "metadata": {},
   "outputs": [
    {
     "data": {
      "text/plain": [
       "array([[0., 0., 0., ..., 0., 0., 0.],\n",
       "       [0., 0., 0., ..., 0., 0., 0.],\n",
       "       [0., 0., 0., ..., 0., 0., 0.],\n",
       "       ...,\n",
       "       [0., 0., 0., ..., 0., 0., 0.],\n",
       "       [0., 0., 0., ..., 0., 0., 0.],\n",
       "       [0., 0., 0., ..., 0., 0., 0.]])"
      ]
     },
     "execution_count": 81,
     "metadata": {},
     "output_type": "execute_result"
    }
   ],
   "source": [
    "X_train_dtm_tfidf.toarray()"
   ]
  },
  {
   "cell_type": "code",
   "execution_count": 84,
   "metadata": {},
   "outputs": [
    {
     "data": {
      "text/plain": [
       "<348x7007 sparse matrix of type '<class 'numpy.float64'>'\n",
       "\twith 3384 stored elements in Compressed Sparse Row format>"
      ]
     },
     "execution_count": 84,
     "metadata": {},
     "output_type": "execute_result"
    }
   ],
   "source": [
    "X_test_dtm_tfidf = toNumeric_tfidf.transform(X_test)\n",
    "X_test_dtm_tfidf"
   ]
  },
  {
   "cell_type": "code",
   "execution_count": 85,
   "metadata": {},
   "outputs": [
    {
     "data": {
      "text/plain": [
       "array([[0., 0., 0., ..., 0., 0., 0.],\n",
       "       [0., 0., 0., ..., 0., 0., 0.],\n",
       "       [0., 0., 0., ..., 0., 0., 0.],\n",
       "       ...,\n",
       "       [0., 0., 0., ..., 0., 0., 0.],\n",
       "       [0., 0., 0., ..., 0., 0., 0.],\n",
       "       [0., 0., 0., ..., 0., 0., 0.]])"
      ]
     },
     "execution_count": 85,
     "metadata": {},
     "output_type": "execute_result"
    }
   ],
   "source": [
    "X_test_dtm_tfidf.toarray()"
   ]
  },
  {
   "cell_type": "code",
   "execution_count": null,
   "metadata": {},
   "outputs": [],
   "source": []
  },
  {
   "cell_type": "code",
   "execution_count": null,
   "metadata": {},
   "outputs": [],
   "source": []
  },
  {
   "cell_type": "code",
   "execution_count": 31,
   "metadata": {},
   "outputs": [],
   "source": [
    "from sklearn.linear_model import LogisticRegression"
   ]
  },
  {
   "cell_type": "code",
   "execution_count": 32,
   "metadata": {},
   "outputs": [],
   "source": [
    "lr = LogisticRegression()"
   ]
  },
  {
   "cell_type": "code",
   "execution_count": 86,
   "metadata": {},
   "outputs": [],
   "source": [
    "clf = lr.fit(X_train_dtm_tfidf,y_train)"
   ]
  },
  {
   "cell_type": "code",
   "execution_count": 87,
   "metadata": {},
   "outputs": [
    {
     "data": {
      "text/plain": [
       "1    407\n",
       "0    402\n",
       "Name: CLASS, dtype: int64"
      ]
     },
     "execution_count": 87,
     "metadata": {},
     "output_type": "execute_result"
    }
   ],
   "source": [
    "y_train.value_counts()"
   ]
  },
  {
   "cell_type": "code",
   "execution_count": 88,
   "metadata": {},
   "outputs": [
    {
     "data": {
      "text/plain": [
       "<809x7007 sparse matrix of type '<class 'numpy.float64'>'\n",
       "\twith 12945 stored elements in Compressed Sparse Row format>"
      ]
     },
     "execution_count": 88,
     "metadata": {},
     "output_type": "execute_result"
    }
   ],
   "source": [
    "X_train_dtm_tfidf"
   ]
  },
  {
   "cell_type": "code",
   "execution_count": 89,
   "metadata": {},
   "outputs": [
    {
     "data": {
      "image/png": "[encoded data removed]",
      "text/plain": [
       "<Figure size 432x288 with 1 Axes>"
      ]
     },
     "metadata": {
      "needs_background": "light"
     },
     "output_type": "display_data"
    }
   ],
   "source": [
    "from sklearn.metrics import plot_roc_curve,plot_confusion_matrix\n",
    "plot_roc_curve(estimator=clf,y=y_test,X=X_test_dtm_tfidf)\n",
    "plt.show()"
   ]
  },
  {
   "cell_type": "code",
   "execution_count": 90,
   "metadata": {},
   "outputs": [
    {
     "data": {
      "image/png": "[encoded data removed]",
      "text/plain": [
       "<Figure size 432x288 with 2 Axes>"
      ]
     },
     "metadata": {
      "needs_background": "light"
     },
     "output_type": "display_data"
    }
   ],
   "source": [
    "plot_confusion_matrix(estimator=clf,y_true=y_test,X=X_test_dtm_tfidf)\n",
    "plt.show()"
   ]
  },
  {
   "cell_type": "code",
   "execution_count": null,
   "metadata": {},
   "outputs": [],
   "source": []
  },
  {
   "cell_type": "code",
   "execution_count": null,
   "metadata": {},
   "outputs": [],
   "source": []
  }
 ],
 "metadata": {
  "kernelspec": {
   "display_name": "Python 3 (ipykernel)",
   "language": "python",
   "name": "python3"
  },
  "language_info": {
   "codemirror_mode": {
    "name": "ipython",
    "version": 3
   },
   "file_extension": ".py",
   "mimetype": "text/x-python",
   "name": "python",
   "nbconvert_exporter": "python",
   "pygments_lexer": "ipython3",
   "version": "3.11.5"
  }
 },
 "nbformat": 4,
 "nbformat_minor": 4
}
